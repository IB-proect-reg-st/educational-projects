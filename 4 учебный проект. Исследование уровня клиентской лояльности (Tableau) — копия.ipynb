{
 "cells": [
  {
   "cell_type": "code",
   "execution_count": 1,
   "id": "fc7efa54",
   "metadata": {},
   "outputs": [],
   "source": [
    "import os, pandas as pd, numpy as np, seaborn as sns, matplotlib.pyplot as plt\n",
    "\n",
    "from sqlalchemy import create_engine"
   ]
  },
  {
   "cell_type": "code",
   "execution_count": 2,
   "id": "0017f8e7",
   "metadata": {},
   "outputs": [],
   "source": [
    "path_to_db_local = 'telecomm_csi.db'\n",
    "path_to_db_platform = '/datasets/telecomm_csi.db'\n",
    "path_to_db = None\n",
    "\n",
    "if os.path.exists(path_to_db_local):\n",
    "    path_to_db = path_to_db_local\n",
    "elif os.path.exists(path_to_db_platform):\n",
    "    path_to_db = path_to_db_platform\n",
    "else:\n",
    "    raise Exception('Файл с базой данных SQL не найден!')\n",
    "\n",
    "if path_to_db:\n",
    "    engine = create_engine(f'sqlite:///{path_to_db}', echo=False)"
   ]
  },
  {
   "cell_type": "code",
   "execution_count": 3,
   "id": "d896962c",
   "metadata": {},
   "outputs": [],
   "source": [
    "# показать все столбцы\n",
    "pd.options.display.max_columns = None"
   ]
  },
  {
   "cell_type": "code",
   "execution_count": 4,
   "id": "c523317f",
   "metadata": {},
   "outputs": [],
   "source": [
    "query = \"\"\"\n",
    "SELECT user_id, lt_day, \n",
    "    CASE\n",
    "        WHEN lt_day > 365 THEN 'Old'\n",
    "        ELSE 'New'\n",
    "    END as is_new,\n",
    "    age, gender_segment, os_name, cpe_type_name, country, city, \n",
    "    age_s.title as age_segment,\n",
    "    t_s.title as traffic_segment,\n",
    "    l_s.title as lifetime_segment,\n",
    "    nps_score,\n",
    "    CASE \n",
    "        WHEN nps_score >= 9 THEN 'Promoter' \n",
    "        WHEN nps_score > 6 AND nps_score <= 8 THEN 'Passive'\n",
    "        ELSE 'Detractor'\n",
    "    END as nps_group\n",
    "FROM user \n",
    "JOIN location as loc ON user.location_id = loc.location_id \n",
    "JOIN age_segment as age_s ON user.age_gr_id = age_s.age_gr_id\n",
    "JOIN lifetime_segment as l_s ON user.lt_gr_id = l_s.lt_gr_id\n",
    "JOIN traffic_segment as t_s ON user.tr_gr_id = t_s.tr_gr_id\n",
    "\n",
    "\"\"\""
   ]
  },
  {
   "cell_type": "code",
   "execution_count": 5,
   "id": "dcad8701",
   "metadata": {},
   "outputs": [
    {
     "data": {
      "text/html": [
       "<div>\n",
       "<style scoped>\n",
       "    .dataframe tbody tr th:only-of-type {\n",
       "        vertical-align: middle;\n",
       "    }\n",
       "\n",
       "    .dataframe tbody tr th {\n",
       "        vertical-align: top;\n",
       "    }\n",
       "\n",
       "    .dataframe thead th {\n",
       "        text-align: right;\n",
       "    }\n",
       "</style>\n",
       "<table border=\"1\" class=\"dataframe\">\n",
       "  <thead>\n",
       "    <tr style=\"text-align: right;\">\n",
       "      <th></th>\n",
       "      <th>user_id</th>\n",
       "      <th>lt_day</th>\n",
       "      <th>is_new</th>\n",
       "      <th>age</th>\n",
       "      <th>gender_segment</th>\n",
       "      <th>os_name</th>\n",
       "      <th>cpe_type_name</th>\n",
       "      <th>country</th>\n",
       "      <th>city</th>\n",
       "      <th>age_segment</th>\n",
       "      <th>traffic_segment</th>\n",
       "      <th>lifetime_segment</th>\n",
       "      <th>nps_score</th>\n",
       "      <th>nps_group</th>\n",
       "    </tr>\n",
       "  </thead>\n",
       "  <tbody>\n",
       "    <tr>\n",
       "      <th>0</th>\n",
       "      <td>A001A2</td>\n",
       "      <td>2320</td>\n",
       "      <td>Old</td>\n",
       "      <td>45.0</td>\n",
       "      <td>1.0</td>\n",
       "      <td>ANDROID</td>\n",
       "      <td>SMARTPHONE</td>\n",
       "      <td>Россия</td>\n",
       "      <td>Уфа</td>\n",
       "      <td>05 45-54</td>\n",
       "      <td>04 1-5</td>\n",
       "      <td>08 36+</td>\n",
       "      <td>10</td>\n",
       "      <td>Promoter</td>\n",
       "    </tr>\n",
       "    <tr>\n",
       "      <th>1</th>\n",
       "      <td>A001WF</td>\n",
       "      <td>2344</td>\n",
       "      <td>Old</td>\n",
       "      <td>53.0</td>\n",
       "      <td>0.0</td>\n",
       "      <td>ANDROID</td>\n",
       "      <td>SMARTPHONE</td>\n",
       "      <td>Россия</td>\n",
       "      <td>Киров</td>\n",
       "      <td>05 45-54</td>\n",
       "      <td>04 1-5</td>\n",
       "      <td>08 36+</td>\n",
       "      <td>10</td>\n",
       "      <td>Promoter</td>\n",
       "    </tr>\n",
       "    <tr>\n",
       "      <th>2</th>\n",
       "      <td>A003Q7</td>\n",
       "      <td>467</td>\n",
       "      <td>Old</td>\n",
       "      <td>57.0</td>\n",
       "      <td>0.0</td>\n",
       "      <td>ANDROID</td>\n",
       "      <td>SMARTPHONE</td>\n",
       "      <td>Россия</td>\n",
       "      <td>Москва</td>\n",
       "      <td>06 55-64</td>\n",
       "      <td>08 20-25</td>\n",
       "      <td>06 13-24</td>\n",
       "      <td>10</td>\n",
       "      <td>Promoter</td>\n",
       "    </tr>\n",
       "    <tr>\n",
       "      <th>3</th>\n",
       "      <td>A004TB</td>\n",
       "      <td>4190</td>\n",
       "      <td>Old</td>\n",
       "      <td>44.0</td>\n",
       "      <td>1.0</td>\n",
       "      <td>IOS</td>\n",
       "      <td>SMARTPHONE</td>\n",
       "      <td>Россия</td>\n",
       "      <td>РостовнаДону</td>\n",
       "      <td>04 35-44</td>\n",
       "      <td>03 0.1-1</td>\n",
       "      <td>08 36+</td>\n",
       "      <td>10</td>\n",
       "      <td>Promoter</td>\n",
       "    </tr>\n",
       "    <tr>\n",
       "      <th>4</th>\n",
       "      <td>A004XT</td>\n",
       "      <td>1163</td>\n",
       "      <td>Old</td>\n",
       "      <td>24.0</td>\n",
       "      <td>0.0</td>\n",
       "      <td>ANDROID</td>\n",
       "      <td>SMARTPHONE</td>\n",
       "      <td>Россия</td>\n",
       "      <td>Рязань</td>\n",
       "      <td>02 16-24</td>\n",
       "      <td>05 5-10</td>\n",
       "      <td>08 36+</td>\n",
       "      <td>10</td>\n",
       "      <td>Promoter</td>\n",
       "    </tr>\n",
       "  </tbody>\n",
       "</table>\n",
       "</div>"
      ],
      "text/plain": [
       "  user_id  lt_day is_new   age  gender_segment  os_name cpe_type_name country  \\\n",
       "0  A001A2    2320    Old  45.0             1.0  ANDROID    SMARTPHONE  Россия   \n",
       "1  A001WF    2344    Old  53.0             0.0  ANDROID    SMARTPHONE  Россия   \n",
       "2  A003Q7     467    Old  57.0             0.0  ANDROID    SMARTPHONE  Россия   \n",
       "3  A004TB    4190    Old  44.0             1.0      IOS    SMARTPHONE  Россия   \n",
       "4  A004XT    1163    Old  24.0             0.0  ANDROID    SMARTPHONE  Россия   \n",
       "\n",
       "           city age_segment traffic_segment lifetime_segment  nps_score  \\\n",
       "0           Уфа    05 45-54          04 1-5           08 36+         10   \n",
       "1         Киров    05 45-54          04 1-5           08 36+         10   \n",
       "2        Москва    06 55-64        08 20-25         06 13-24         10   \n",
       "3  РостовнаДону    04 35-44        03 0.1-1           08 36+         10   \n",
       "4        Рязань    02 16-24         05 5-10           08 36+         10   \n",
       "\n",
       "  nps_group  \n",
       "0  Promoter  \n",
       "1  Promoter  \n",
       "2  Promoter  \n",
       "3  Promoter  \n",
       "4  Promoter  "
      ]
     },
     "execution_count": 5,
     "metadata": {},
     "output_type": "execute_result"
    }
   ],
   "source": [
    "df = pd.read_sql(query, engine)\n",
    "df.head()"
   ]
  },
  {
   "cell_type": "markdown",
   "id": "c871c865",
   "metadata": {},
   "source": [
    "**Необходимо проверить индексы age_segment, traffic_segment и lifetime_segment на предмет того, являются ли они всегда двузначными**"
   ]
  },
  {
   "cell_type": "code",
   "execution_count": 6,
   "id": "5aeea743",
   "metadata": {},
   "outputs": [],
   "source": [
    "query_traffic_segment = \"\"\"\n",
    "\n",
    "SELECT DISTINCT title as distinct_traffic_segment\n",
    "FROM traffic_segment \n",
    "\n",
    "\"\"\""
   ]
  },
  {
   "cell_type": "code",
   "execution_count": 7,
   "id": "e5b22aa6",
   "metadata": {},
   "outputs": [
    {
     "data": {
      "text/html": [
       "<div>\n",
       "<style scoped>\n",
       "    .dataframe tbody tr th:only-of-type {\n",
       "        vertical-align: middle;\n",
       "    }\n",
       "\n",
       "    .dataframe tbody tr th {\n",
       "        vertical-align: top;\n",
       "    }\n",
       "\n",
       "    .dataframe thead th {\n",
       "        text-align: right;\n",
       "    }\n",
       "</style>\n",
       "<table border=\"1\" class=\"dataframe\">\n",
       "  <thead>\n",
       "    <tr style=\"text-align: right;\">\n",
       "      <th></th>\n",
       "      <th>distinct_traffic_segment</th>\n",
       "    </tr>\n",
       "  </thead>\n",
       "  <tbody>\n",
       "    <tr>\n",
       "      <th>0</th>\n",
       "      <td>01 0</td>\n",
       "    </tr>\n",
       "    <tr>\n",
       "      <th>1</th>\n",
       "      <td>01 0-0.01</td>\n",
       "    </tr>\n",
       "    <tr>\n",
       "      <th>2</th>\n",
       "      <td>02 0.01-0.1</td>\n",
       "    </tr>\n",
       "    <tr>\n",
       "      <th>3</th>\n",
       "      <td>03 0.1-1</td>\n",
       "    </tr>\n",
       "    <tr>\n",
       "      <th>4</th>\n",
       "      <td>04 1-5</td>\n",
       "    </tr>\n",
       "    <tr>\n",
       "      <th>5</th>\n",
       "      <td>05 5-10</td>\n",
       "    </tr>\n",
       "    <tr>\n",
       "      <th>6</th>\n",
       "      <td>06 10-15</td>\n",
       "    </tr>\n",
       "    <tr>\n",
       "      <th>7</th>\n",
       "      <td>07 15-20</td>\n",
       "    </tr>\n",
       "    <tr>\n",
       "      <th>8</th>\n",
       "      <td>08 20-25</td>\n",
       "    </tr>\n",
       "    <tr>\n",
       "      <th>9</th>\n",
       "      <td>09 25-30</td>\n",
       "    </tr>\n",
       "    <tr>\n",
       "      <th>10</th>\n",
       "      <td>10 30-35</td>\n",
       "    </tr>\n",
       "    <tr>\n",
       "      <th>11</th>\n",
       "      <td>11 35-40</td>\n",
       "    </tr>\n",
       "    <tr>\n",
       "      <th>12</th>\n",
       "      <td>12 40-45</td>\n",
       "    </tr>\n",
       "    <tr>\n",
       "      <th>13</th>\n",
       "      <td>13 45-50</td>\n",
       "    </tr>\n",
       "    <tr>\n",
       "      <th>14</th>\n",
       "      <td>14 50-55</td>\n",
       "    </tr>\n",
       "    <tr>\n",
       "      <th>15</th>\n",
       "      <td>15 55-60</td>\n",
       "    </tr>\n",
       "    <tr>\n",
       "      <th>16</th>\n",
       "      <td>16 60-65</td>\n",
       "    </tr>\n",
       "    <tr>\n",
       "      <th>17</th>\n",
       "      <td>17 65-70</td>\n",
       "    </tr>\n",
       "    <tr>\n",
       "      <th>18</th>\n",
       "      <td>18 70-75</td>\n",
       "    </tr>\n",
       "    <tr>\n",
       "      <th>19</th>\n",
       "      <td>19 75-80</td>\n",
       "    </tr>\n",
       "    <tr>\n",
       "      <th>20</th>\n",
       "      <td>20 80-85</td>\n",
       "    </tr>\n",
       "    <tr>\n",
       "      <th>21</th>\n",
       "      <td>21 85-90</td>\n",
       "    </tr>\n",
       "    <tr>\n",
       "      <th>22</th>\n",
       "      <td>22 90-95</td>\n",
       "    </tr>\n",
       "    <tr>\n",
       "      <th>23</th>\n",
       "      <td>23 95-100</td>\n",
       "    </tr>\n",
       "    <tr>\n",
       "      <th>24</th>\n",
       "      <td>24 100+</td>\n",
       "    </tr>\n",
       "  </tbody>\n",
       "</table>\n",
       "</div>"
      ],
      "text/plain": [
       "   distinct_traffic_segment\n",
       "0                      01 0\n",
       "1                 01 0-0.01\n",
       "2               02 0.01-0.1\n",
       "3                  03 0.1-1\n",
       "4                    04 1-5\n",
       "5                   05 5-10\n",
       "6                  06 10-15\n",
       "7                  07 15-20\n",
       "8                  08 20-25\n",
       "9                  09 25-30\n",
       "10                 10 30-35\n",
       "11                 11 35-40\n",
       "12                 12 40-45\n",
       "13                 13 45-50\n",
       "14                 14 50-55\n",
       "15                 15 55-60\n",
       "16                 16 60-65\n",
       "17                 17 65-70\n",
       "18                 18 70-75\n",
       "19                 19 75-80\n",
       "20                 20 80-85\n",
       "21                 21 85-90\n",
       "22                 22 90-95\n",
       "23                23 95-100\n",
       "24                  24 100+"
      ]
     },
     "execution_count": 7,
     "metadata": {},
     "output_type": "execute_result"
    }
   ],
   "source": [
    "df = pd.read_sql(query_traffic_segment, engine)\n",
    "df"
   ]
  },
  {
   "cell_type": "code",
   "execution_count": 8,
   "id": "94072f28",
   "metadata": {},
   "outputs": [],
   "source": [
    "query_age_segment = \"\"\"\n",
    "\n",
    "SELECT DISTINCT age_segment.title as distinct_age_s             \n",
    "FROM age_segment \n",
    "\n",
    "\"\"\""
   ]
  },
  {
   "cell_type": "code",
   "execution_count": 9,
   "id": "95583dea",
   "metadata": {},
   "outputs": [
    {
     "data": {
      "text/html": [
       "<div>\n",
       "<style scoped>\n",
       "    .dataframe tbody tr th:only-of-type {\n",
       "        vertical-align: middle;\n",
       "    }\n",
       "\n",
       "    .dataframe tbody tr th {\n",
       "        vertical-align: top;\n",
       "    }\n",
       "\n",
       "    .dataframe thead th {\n",
       "        text-align: right;\n",
       "    }\n",
       "</style>\n",
       "<table border=\"1\" class=\"dataframe\">\n",
       "  <thead>\n",
       "    <tr style=\"text-align: right;\">\n",
       "      <th></th>\n",
       "      <th>distinct_age_s</th>\n",
       "    </tr>\n",
       "  </thead>\n",
       "  <tbody>\n",
       "    <tr>\n",
       "      <th>0</th>\n",
       "      <td>01 до 16</td>\n",
       "    </tr>\n",
       "    <tr>\n",
       "      <th>1</th>\n",
       "      <td>02 16-24</td>\n",
       "    </tr>\n",
       "    <tr>\n",
       "      <th>2</th>\n",
       "      <td>03 25-34</td>\n",
       "    </tr>\n",
       "    <tr>\n",
       "      <th>3</th>\n",
       "      <td>04 35-44</td>\n",
       "    </tr>\n",
       "    <tr>\n",
       "      <th>4</th>\n",
       "      <td>05 45-54</td>\n",
       "    </tr>\n",
       "    <tr>\n",
       "      <th>5</th>\n",
       "      <td>06 55-64</td>\n",
       "    </tr>\n",
       "    <tr>\n",
       "      <th>6</th>\n",
       "      <td>07 66 +</td>\n",
       "    </tr>\n",
       "    <tr>\n",
       "      <th>7</th>\n",
       "      <td>08 n/a</td>\n",
       "    </tr>\n",
       "  </tbody>\n",
       "</table>\n",
       "</div>"
      ],
      "text/plain": [
       "  distinct_age_s\n",
       "0       01 до 16\n",
       "1       02 16-24\n",
       "2       03 25-34\n",
       "3       04 35-44\n",
       "4       05 45-54\n",
       "5       06 55-64\n",
       "6        07 66 +\n",
       "7         08 n/a"
      ]
     },
     "execution_count": 9,
     "metadata": {},
     "output_type": "execute_result"
    }
   ],
   "source": [
    "df = pd.read_sql(query_age_segment, engine)\n",
    "df"
   ]
  },
  {
   "cell_type": "code",
   "execution_count": 10,
   "id": "0c5778b7",
   "metadata": {},
   "outputs": [],
   "source": [
    "query_lifetime_segment = \"\"\"\n",
    "\n",
    "SELECT DISTINCT lifetime_segment.title as distinct_lifetime_s             \n",
    "FROM lifetime_segment \n",
    "\n",
    "\"\"\""
   ]
  },
  {
   "cell_type": "code",
   "execution_count": 11,
   "id": "5376b696",
   "metadata": {},
   "outputs": [
    {
     "data": {
      "text/html": [
       "<div>\n",
       "<style scoped>\n",
       "    .dataframe tbody tr th:only-of-type {\n",
       "        vertical-align: middle;\n",
       "    }\n",
       "\n",
       "    .dataframe tbody tr th {\n",
       "        vertical-align: top;\n",
       "    }\n",
       "\n",
       "    .dataframe thead th {\n",
       "        text-align: right;\n",
       "    }\n",
       "</style>\n",
       "<table border=\"1\" class=\"dataframe\">\n",
       "  <thead>\n",
       "    <tr style=\"text-align: right;\">\n",
       "      <th></th>\n",
       "      <th>distinct_lifetime_s</th>\n",
       "    </tr>\n",
       "  </thead>\n",
       "  <tbody>\n",
       "    <tr>\n",
       "      <th>0</th>\n",
       "      <td>01 1</td>\n",
       "    </tr>\n",
       "    <tr>\n",
       "      <th>1</th>\n",
       "      <td>02 2</td>\n",
       "    </tr>\n",
       "    <tr>\n",
       "      <th>2</th>\n",
       "      <td>03 3</td>\n",
       "    </tr>\n",
       "    <tr>\n",
       "      <th>3</th>\n",
       "      <td>04 4-6</td>\n",
       "    </tr>\n",
       "    <tr>\n",
       "      <th>4</th>\n",
       "      <td>05 7-12</td>\n",
       "    </tr>\n",
       "    <tr>\n",
       "      <th>5</th>\n",
       "      <td>06 13-24</td>\n",
       "    </tr>\n",
       "    <tr>\n",
       "      <th>6</th>\n",
       "      <td>07 25-36</td>\n",
       "    </tr>\n",
       "    <tr>\n",
       "      <th>7</th>\n",
       "      <td>08 36+</td>\n",
       "    </tr>\n",
       "  </tbody>\n",
       "</table>\n",
       "</div>"
      ],
      "text/plain": [
       "  distinct_lifetime_s\n",
       "0                01 1\n",
       "1                02 2\n",
       "2                03 3\n",
       "3              04 4-6\n",
       "4             05 7-12\n",
       "5            06 13-24\n",
       "6            07 25-36\n",
       "7              08 36+"
      ]
     },
     "execution_count": 11,
     "metadata": {},
     "output_type": "execute_result"
    }
   ],
   "source": [
    "df = pd.read_sql(query_lifetime_segment, engine)\n",
    "df"
   ]
  },
  {
   "cell_type": "code",
   "execution_count": 12,
   "id": "87d06961",
   "metadata": {},
   "outputs": [],
   "source": [
    "# срежем индексы age_segment, traffic_segment и lifetime_segment через SUBSTRING()\n",
    "query = \"\"\"\n",
    "SELECT user_id, lt_day, \n",
    "    CASE\n",
    "        WHEN lt_day > 365 THEN 'Old'\n",
    "        ELSE 'New'\n",
    "    END as is_new,\n",
    "    age, gender_segment, os_name, cpe_type_name, country, city, \n",
    "    SUBSTRING(age_s.title, 4) as age_segment,\n",
    "    SUBSTRING(t_s.title, 4) as traffic_segment,\n",
    "    SUBSTRING(l_s.title, 4) as lifetime_segment,\n",
    "    nps_score,\n",
    "    CASE \n",
    "        WHEN nps_score >= 9 THEN 'Promoters' \n",
    "        WHEN nps_score >= 7 AND nps_score <= 8 THEN 'Passives'\n",
    "        ELSE 'Detractors'\n",
    "    END as nps_group\n",
    "FROM user \n",
    "JOIN location as loc ON user.location_id = loc.location_id \n",
    "JOIN age_segment as age_s ON user.age_gr_id = age_s.age_gr_id\n",
    "JOIN lifetime_segment as l_s ON user.lt_gr_id = l_s.lt_gr_id\n",
    "JOIN traffic_segment as t_s ON user.tr_gr_id = t_s.tr_gr_id\n",
    "\n",
    "\"\"\""
   ]
  },
  {
   "cell_type": "code",
   "execution_count": 13,
   "id": "97c7eb1e",
   "metadata": {},
   "outputs": [
    {
     "data": {
      "text/html": [
       "<div>\n",
       "<style scoped>\n",
       "    .dataframe tbody tr th:only-of-type {\n",
       "        vertical-align: middle;\n",
       "    }\n",
       "\n",
       "    .dataframe tbody tr th {\n",
       "        vertical-align: top;\n",
       "    }\n",
       "\n",
       "    .dataframe thead th {\n",
       "        text-align: right;\n",
       "    }\n",
       "</style>\n",
       "<table border=\"1\" class=\"dataframe\">\n",
       "  <thead>\n",
       "    <tr style=\"text-align: right;\">\n",
       "      <th></th>\n",
       "      <th>user_id</th>\n",
       "      <th>lt_day</th>\n",
       "      <th>is_new</th>\n",
       "      <th>age</th>\n",
       "      <th>gender_segment</th>\n",
       "      <th>os_name</th>\n",
       "      <th>cpe_type_name</th>\n",
       "      <th>country</th>\n",
       "      <th>city</th>\n",
       "      <th>age_segment</th>\n",
       "      <th>traffic_segment</th>\n",
       "      <th>lifetime_segment</th>\n",
       "      <th>nps_score</th>\n",
       "      <th>nps_group</th>\n",
       "    </tr>\n",
       "  </thead>\n",
       "  <tbody>\n",
       "    <tr>\n",
       "      <th>0</th>\n",
       "      <td>A001A2</td>\n",
       "      <td>2320</td>\n",
       "      <td>Old</td>\n",
       "      <td>45.0</td>\n",
       "      <td>1.0</td>\n",
       "      <td>ANDROID</td>\n",
       "      <td>SMARTPHONE</td>\n",
       "      <td>Россия</td>\n",
       "      <td>Уфа</td>\n",
       "      <td>45-54</td>\n",
       "      <td>1-5</td>\n",
       "      <td>36+</td>\n",
       "      <td>10</td>\n",
       "      <td>Promoters</td>\n",
       "    </tr>\n",
       "    <tr>\n",
       "      <th>1</th>\n",
       "      <td>A001WF</td>\n",
       "      <td>2344</td>\n",
       "      <td>Old</td>\n",
       "      <td>53.0</td>\n",
       "      <td>0.0</td>\n",
       "      <td>ANDROID</td>\n",
       "      <td>SMARTPHONE</td>\n",
       "      <td>Россия</td>\n",
       "      <td>Киров</td>\n",
       "      <td>45-54</td>\n",
       "      <td>1-5</td>\n",
       "      <td>36+</td>\n",
       "      <td>10</td>\n",
       "      <td>Promoters</td>\n",
       "    </tr>\n",
       "    <tr>\n",
       "      <th>2</th>\n",
       "      <td>A003Q7</td>\n",
       "      <td>467</td>\n",
       "      <td>Old</td>\n",
       "      <td>57.0</td>\n",
       "      <td>0.0</td>\n",
       "      <td>ANDROID</td>\n",
       "      <td>SMARTPHONE</td>\n",
       "      <td>Россия</td>\n",
       "      <td>Москва</td>\n",
       "      <td>55-64</td>\n",
       "      <td>20-25</td>\n",
       "      <td>13-24</td>\n",
       "      <td>10</td>\n",
       "      <td>Promoters</td>\n",
       "    </tr>\n",
       "    <tr>\n",
       "      <th>3</th>\n",
       "      <td>A004TB</td>\n",
       "      <td>4190</td>\n",
       "      <td>Old</td>\n",
       "      <td>44.0</td>\n",
       "      <td>1.0</td>\n",
       "      <td>IOS</td>\n",
       "      <td>SMARTPHONE</td>\n",
       "      <td>Россия</td>\n",
       "      <td>РостовнаДону</td>\n",
       "      <td>35-44</td>\n",
       "      <td>0.1-1</td>\n",
       "      <td>36+</td>\n",
       "      <td>10</td>\n",
       "      <td>Promoters</td>\n",
       "    </tr>\n",
       "    <tr>\n",
       "      <th>4</th>\n",
       "      <td>A004XT</td>\n",
       "      <td>1163</td>\n",
       "      <td>Old</td>\n",
       "      <td>24.0</td>\n",
       "      <td>0.0</td>\n",
       "      <td>ANDROID</td>\n",
       "      <td>SMARTPHONE</td>\n",
       "      <td>Россия</td>\n",
       "      <td>Рязань</td>\n",
       "      <td>16-24</td>\n",
       "      <td>5-10</td>\n",
       "      <td>36+</td>\n",
       "      <td>10</td>\n",
       "      <td>Promoters</td>\n",
       "    </tr>\n",
       "    <tr>\n",
       "      <th>...</th>\n",
       "      <td>...</td>\n",
       "      <td>...</td>\n",
       "      <td>...</td>\n",
       "      <td>...</td>\n",
       "      <td>...</td>\n",
       "      <td>...</td>\n",
       "      <td>...</td>\n",
       "      <td>...</td>\n",
       "      <td>...</td>\n",
       "      <td>...</td>\n",
       "      <td>...</td>\n",
       "      <td>...</td>\n",
       "      <td>...</td>\n",
       "      <td>...</td>\n",
       "    </tr>\n",
       "    <tr>\n",
       "      <th>502488</th>\n",
       "      <td>ZZZKLD</td>\n",
       "      <td>1249</td>\n",
       "      <td>Old</td>\n",
       "      <td>54.0</td>\n",
       "      <td>1.0</td>\n",
       "      <td>ANDROID</td>\n",
       "      <td>SMARTPHONE</td>\n",
       "      <td>Россия</td>\n",
       "      <td>Москва</td>\n",
       "      <td>45-54</td>\n",
       "      <td>1-5</td>\n",
       "      <td>36+</td>\n",
       "      <td>5</td>\n",
       "      <td>Detractors</td>\n",
       "    </tr>\n",
       "    <tr>\n",
       "      <th>502489</th>\n",
       "      <td>ZZZLWY</td>\n",
       "      <td>129</td>\n",
       "      <td>New</td>\n",
       "      <td>31.0</td>\n",
       "      <td>0.0</td>\n",
       "      <td>ANDROID</td>\n",
       "      <td>SMARTPHONE</td>\n",
       "      <td>Россия</td>\n",
       "      <td>Москва</td>\n",
       "      <td>25-34</td>\n",
       "      <td>1-5</td>\n",
       "      <td>4-6</td>\n",
       "      <td>8</td>\n",
       "      <td>Passives</td>\n",
       "    </tr>\n",
       "    <tr>\n",
       "      <th>502490</th>\n",
       "      <td>ZZZQ5F</td>\n",
       "      <td>522</td>\n",
       "      <td>Old</td>\n",
       "      <td>36.0</td>\n",
       "      <td>0.0</td>\n",
       "      <td>ANDROID</td>\n",
       "      <td>SMARTPHONE</td>\n",
       "      <td>Россия</td>\n",
       "      <td>Сургут</td>\n",
       "      <td>35-44</td>\n",
       "      <td>25-30</td>\n",
       "      <td>13-24</td>\n",
       "      <td>10</td>\n",
       "      <td>Promoters</td>\n",
       "    </tr>\n",
       "    <tr>\n",
       "      <th>502491</th>\n",
       "      <td>ZZZQ8E</td>\n",
       "      <td>2936</td>\n",
       "      <td>Old</td>\n",
       "      <td>37.0</td>\n",
       "      <td>1.0</td>\n",
       "      <td>ANDROID</td>\n",
       "      <td>SMARTPHONE</td>\n",
       "      <td>Россия</td>\n",
       "      <td>УланУдэ</td>\n",
       "      <td>35-44</td>\n",
       "      <td>65-70</td>\n",
       "      <td>36+</td>\n",
       "      <td>9</td>\n",
       "      <td>Promoters</td>\n",
       "    </tr>\n",
       "    <tr>\n",
       "      <th>502492</th>\n",
       "      <td>ZZZYH0</td>\n",
       "      <td>2471</td>\n",
       "      <td>Old</td>\n",
       "      <td>37.0</td>\n",
       "      <td>0.0</td>\n",
       "      <td>IOS</td>\n",
       "      <td>SMARTPHONE</td>\n",
       "      <td>Россия</td>\n",
       "      <td>Самара</td>\n",
       "      <td>35-44</td>\n",
       "      <td>10-15</td>\n",
       "      <td>36+</td>\n",
       "      <td>2</td>\n",
       "      <td>Detractors</td>\n",
       "    </tr>\n",
       "  </tbody>\n",
       "</table>\n",
       "<p>502493 rows × 14 columns</p>\n",
       "</div>"
      ],
      "text/plain": [
       "       user_id  lt_day is_new   age  gender_segment  os_name cpe_type_name  \\\n",
       "0       A001A2    2320    Old  45.0             1.0  ANDROID    SMARTPHONE   \n",
       "1       A001WF    2344    Old  53.0             0.0  ANDROID    SMARTPHONE   \n",
       "2       A003Q7     467    Old  57.0             0.0  ANDROID    SMARTPHONE   \n",
       "3       A004TB    4190    Old  44.0             1.0      IOS    SMARTPHONE   \n",
       "4       A004XT    1163    Old  24.0             0.0  ANDROID    SMARTPHONE   \n",
       "...        ...     ...    ...   ...             ...      ...           ...   \n",
       "502488  ZZZKLD    1249    Old  54.0             1.0  ANDROID    SMARTPHONE   \n",
       "502489  ZZZLWY     129    New  31.0             0.0  ANDROID    SMARTPHONE   \n",
       "502490  ZZZQ5F     522    Old  36.0             0.0  ANDROID    SMARTPHONE   \n",
       "502491  ZZZQ8E    2936    Old  37.0             1.0  ANDROID    SMARTPHONE   \n",
       "502492  ZZZYH0    2471    Old  37.0             0.0      IOS    SMARTPHONE   \n",
       "\n",
       "       country          city age_segment traffic_segment lifetime_segment  \\\n",
       "0       Россия           Уфа       45-54             1-5              36+   \n",
       "1       Россия         Киров       45-54             1-5              36+   \n",
       "2       Россия        Москва       55-64           20-25            13-24   \n",
       "3       Россия  РостовнаДону       35-44           0.1-1              36+   \n",
       "4       Россия        Рязань       16-24            5-10              36+   \n",
       "...        ...           ...         ...             ...              ...   \n",
       "502488  Россия        Москва       45-54             1-5              36+   \n",
       "502489  Россия        Москва       25-34             1-5              4-6   \n",
       "502490  Россия        Сургут       35-44           25-30            13-24   \n",
       "502491  Россия       УланУдэ       35-44           65-70              36+   \n",
       "502492  Россия        Самара       35-44           10-15              36+   \n",
       "\n",
       "        nps_score   nps_group  \n",
       "0              10   Promoters  \n",
       "1              10   Promoters  \n",
       "2              10   Promoters  \n",
       "3              10   Promoters  \n",
       "4              10   Promoters  \n",
       "...           ...         ...  \n",
       "502488          5  Detractors  \n",
       "502489          8    Passives  \n",
       "502490         10   Promoters  \n",
       "502491          9   Promoters  \n",
       "502492          2  Detractors  \n",
       "\n",
       "[502493 rows x 14 columns]"
      ]
     },
     "execution_count": 13,
     "metadata": {},
     "output_type": "execute_result"
    }
   ],
   "source": [
    "df = pd.read_sql(query, engine)\n",
    "df"
   ]
  },
  {
   "cell_type": "markdown",
   "id": "2e4a500f",
   "metadata": {},
   "source": [
    "### Аномальные значения "
   ]
  },
  {
   "cell_type": "code",
   "execution_count": 14,
   "id": "a2cf560e",
   "metadata": {},
   "outputs": [
    {
     "data": {
      "text/html": [
       "<div>\n",
       "<style scoped>\n",
       "    .dataframe tbody tr th:only-of-type {\n",
       "        vertical-align: middle;\n",
       "    }\n",
       "\n",
       "    .dataframe tbody tr th {\n",
       "        vertical-align: top;\n",
       "    }\n",
       "\n",
       "    .dataframe thead th {\n",
       "        text-align: right;\n",
       "    }\n",
       "</style>\n",
       "<table border=\"1\" class=\"dataframe\">\n",
       "  <thead>\n",
       "    <tr style=\"text-align: right;\">\n",
       "      <th></th>\n",
       "      <th>lt_day</th>\n",
       "      <th>age</th>\n",
       "      <th>gender_segment</th>\n",
       "      <th>nps_score</th>\n",
       "    </tr>\n",
       "  </thead>\n",
       "  <tbody>\n",
       "    <tr>\n",
       "      <th>count</th>\n",
       "      <td>502493.000000</td>\n",
       "      <td>501939.000000</td>\n",
       "      <td>501192.000000</td>\n",
       "      <td>502493.000000</td>\n",
       "    </tr>\n",
       "    <tr>\n",
       "      <th>mean</th>\n",
       "      <td>1868.841439</td>\n",
       "      <td>39.621946</td>\n",
       "      <td>0.543588</td>\n",
       "      <td>7.508562</td>\n",
       "    </tr>\n",
       "    <tr>\n",
       "      <th>std</th>\n",
       "      <td>1683.701762</td>\n",
       "      <td>11.188249</td>\n",
       "      <td>0.498097</td>\n",
       "      <td>3.020378</td>\n",
       "    </tr>\n",
       "    <tr>\n",
       "      <th>min</th>\n",
       "      <td>-21.000000</td>\n",
       "      <td>10.000000</td>\n",
       "      <td>0.000000</td>\n",
       "      <td>1.000000</td>\n",
       "    </tr>\n",
       "    <tr>\n",
       "      <th>25%</th>\n",
       "      <td>533.000000</td>\n",
       "      <td>31.000000</td>\n",
       "      <td>0.000000</td>\n",
       "      <td>5.000000</td>\n",
       "    </tr>\n",
       "    <tr>\n",
       "      <th>50%</th>\n",
       "      <td>1239.000000</td>\n",
       "      <td>38.000000</td>\n",
       "      <td>1.000000</td>\n",
       "      <td>9.000000</td>\n",
       "    </tr>\n",
       "    <tr>\n",
       "      <th>75%</th>\n",
       "      <td>3064.000000</td>\n",
       "      <td>47.000000</td>\n",
       "      <td>1.000000</td>\n",
       "      <td>10.000000</td>\n",
       "    </tr>\n",
       "    <tr>\n",
       "      <th>max</th>\n",
       "      <td>9162.000000</td>\n",
       "      <td>89.000000</td>\n",
       "      <td>1.000000</td>\n",
       "      <td>10.000000</td>\n",
       "    </tr>\n",
       "  </tbody>\n",
       "</table>\n",
       "</div>"
      ],
      "text/plain": [
       "              lt_day            age  gender_segment      nps_score\n",
       "count  502493.000000  501939.000000   501192.000000  502493.000000\n",
       "mean     1868.841439      39.621946        0.543588       7.508562\n",
       "std      1683.701762      11.188249        0.498097       3.020378\n",
       "min       -21.000000      10.000000        0.000000       1.000000\n",
       "25%       533.000000      31.000000        0.000000       5.000000\n",
       "50%      1239.000000      38.000000        1.000000       9.000000\n",
       "75%      3064.000000      47.000000        1.000000      10.000000\n",
       "max      9162.000000      89.000000        1.000000      10.000000"
      ]
     },
     "execution_count": 14,
     "metadata": {},
     "output_type": "execute_result"
    }
   ],
   "source": [
    "df.describe()"
   ]
  },
  {
   "cell_type": "code",
   "execution_count": 15,
   "id": "a9aab713",
   "metadata": {},
   "outputs": [
    {
     "name": "stdout",
     "output_type": "stream",
     "text": [
      "Максимальное количество лет «жизни» клиента состовляет: 25 лет\n"
     ]
    }
   ],
   "source": [
    "print('Максимальное количество лет «жизни» клиента состовляет:', round(df['lt_day'].max() / 365), 'лет')"
   ]
  },
  {
   "cell_type": "code",
   "execution_count": 16,
   "id": "d2edf9a2",
   "metadata": {},
   "outputs": [
    {
     "data": {
      "image/png": "[encoded data removed]",
      "text/plain": [
       "<Figure size 800x600 with 1 Axes>"
      ]
     },
     "metadata": {},
     "output_type": "display_data"
    }
   ],
   "source": [
    "plt.figure(figsize=(8, 6))\n",
    "sns.boxplot(y='lt_day', data=df)\n",
    "\n",
    "plt.ylabel(None)\n",
    "plt.xlabel(None)\n",
    "plt.title('Распределение количества дней «жизни» клиента', fontsize=14)\n",
    "\n",
    "\n",
    "plt.show()"
   ]
  },
  {
   "cell_type": "code",
   "execution_count": 17,
   "id": "458629f7",
   "metadata": {},
   "outputs": [
    {
     "data": {
      "image/png": "[encoded data removed]",
      "text/plain": [
       "<Figure size 800x600 with 1 Axes>"
      ]
     },
     "metadata": {},
     "output_type": "display_data"
    }
   ],
   "source": [
    "plt.figure(figsize=(8, 6))\n",
    "sns.boxplot(y='age', data=df)\n",
    "\n",
    "plt.ylabel(None)\n",
    "plt.xlabel(None)\n",
    "plt.title('Распределение возраста клиента', fontsize=14)\n",
    "\n",
    "plt.show()"
   ]
  },
  {
   "cell_type": "code",
   "execution_count": 18,
   "id": "cd6c5cae",
   "metadata": {},
   "outputs": [],
   "source": [
    "df_copy = df.copy()\n",
    "df_copy = df_copy.query('lt_day > 0')"
   ]
  },
  {
   "cell_type": "code",
   "execution_count": 19,
   "id": "7952a3f5",
   "metadata": {},
   "outputs": [],
   "source": [
    "test_df = df_copy[~(df_copy['lt_day'] > np.nanpercentile(df_copy['lt_day'], 99.5))]"
   ]
  },
  {
   "cell_type": "code",
   "execution_count": 20,
   "id": "d81a5f03",
   "metadata": {},
   "outputs": [
    {
     "data": {
      "image/png": "[encoded data removed]",
      "text/plain": [
       "<Figure size 800x600 with 1 Axes>"
      ]
     },
     "metadata": {},
     "output_type": "display_data"
    }
   ],
   "source": [
    "plt.figure(figsize=(8, 6))\n",
    "sns.boxplot(y='lt_day', data=test_df)\n",
    "\n",
    "plt.ylabel(None)\n",
    "plt.xlabel(None)\n",
    "plt.title('Распределение количества дней «жизни» клиента, если срезать 0.5%', fontsize=14)\n",
    "\n",
    "plt.show()"
   ]
  },
  {
   "cell_type": "code",
   "execution_count": 21,
   "id": "83252d82",
   "metadata": {},
   "outputs": [],
   "source": [
    "test_df = test_df[~(test_df['age'] > np.nanpercentile(test_df['age'], 99.5))]"
   ]
  },
  {
   "cell_type": "code",
   "execution_count": 22,
   "id": "212ec549",
   "metadata": {},
   "outputs": [
    {
     "data": {
      "image/png": "[encoded data removed]",
      "text/plain": [
       "<Figure size 800x600 with 1 Axes>"
      ]
     },
     "metadata": {},
     "output_type": "display_data"
    }
   ],
   "source": [
    "plt.figure(figsize=(8, 6))\n",
    "sns.boxplot(y='age', data=test_df)\n",
    "\n",
    "plt.ylabel(None)\n",
    "plt.xlabel(None)\n",
    "plt.title('Распределение возраста клиента, если срезать 0.5%', fontsize=14)\n",
    "\n",
    "plt.show()"
   ]
  },
  {
   "cell_type": "code",
   "execution_count": 23,
   "id": "239102fb",
   "metadata": {},
   "outputs": [
    {
     "data": {
      "text/html": [
       "<div>\n",
       "<style scoped>\n",
       "    .dataframe tbody tr th:only-of-type {\n",
       "        vertical-align: middle;\n",
       "    }\n",
       "\n",
       "    .dataframe tbody tr th {\n",
       "        vertical-align: top;\n",
       "    }\n",
       "\n",
       "    .dataframe thead th {\n",
       "        text-align: right;\n",
       "    }\n",
       "</style>\n",
       "<table border=\"1\" class=\"dataframe\">\n",
       "  <thead>\n",
       "    <tr style=\"text-align: right;\">\n",
       "      <th></th>\n",
       "      <th>lt_day</th>\n",
       "      <th>age</th>\n",
       "      <th>gender_segment</th>\n",
       "      <th>nps_score</th>\n",
       "    </tr>\n",
       "  </thead>\n",
       "  <tbody>\n",
       "    <tr>\n",
       "      <th>count</th>\n",
       "      <td>497849.000000</td>\n",
       "      <td>497313.000000</td>\n",
       "      <td>496564.000000</td>\n",
       "      <td>497849.000000</td>\n",
       "    </tr>\n",
       "    <tr>\n",
       "      <th>mean</th>\n",
       "      <td>1845.153826</td>\n",
       "      <td>39.423289</td>\n",
       "      <td>0.543227</td>\n",
       "      <td>7.505278</td>\n",
       "    </tr>\n",
       "    <tr>\n",
       "      <th>std</th>\n",
       "      <td>1655.962322</td>\n",
       "      <td>10.955539</td>\n",
       "      <td>0.498128</td>\n",
       "      <td>3.021245</td>\n",
       "    </tr>\n",
       "    <tr>\n",
       "      <th>min</th>\n",
       "      <td>1.000000</td>\n",
       "      <td>10.000000</td>\n",
       "      <td>0.000000</td>\n",
       "      <td>1.000000</td>\n",
       "    </tr>\n",
       "    <tr>\n",
       "      <th>25%</th>\n",
       "      <td>529.000000</td>\n",
       "      <td>31.000000</td>\n",
       "      <td>0.000000</td>\n",
       "      <td>5.000000</td>\n",
       "    </tr>\n",
       "    <tr>\n",
       "      <th>50%</th>\n",
       "      <td>1230.000000</td>\n",
       "      <td>38.000000</td>\n",
       "      <td>1.000000</td>\n",
       "      <td>9.000000</td>\n",
       "    </tr>\n",
       "    <tr>\n",
       "      <th>75%</th>\n",
       "      <td>3018.000000</td>\n",
       "      <td>46.000000</td>\n",
       "      <td>1.000000</td>\n",
       "      <td>10.000000</td>\n",
       "    </tr>\n",
       "    <tr>\n",
       "      <th>max</th>\n",
       "      <td>6168.000000</td>\n",
       "      <td>72.000000</td>\n",
       "      <td>1.000000</td>\n",
       "      <td>10.000000</td>\n",
       "    </tr>\n",
       "  </tbody>\n",
       "</table>\n",
       "</div>"
      ],
      "text/plain": [
       "              lt_day            age  gender_segment      nps_score\n",
       "count  497849.000000  497313.000000   496564.000000  497849.000000\n",
       "mean     1845.153826      39.423289        0.543227       7.505278\n",
       "std      1655.962322      10.955539        0.498128       3.021245\n",
       "min         1.000000      10.000000        0.000000       1.000000\n",
       "25%       529.000000      31.000000        0.000000       5.000000\n",
       "50%      1230.000000      38.000000        1.000000       9.000000\n",
       "75%      3018.000000      46.000000        1.000000      10.000000\n",
       "max      6168.000000      72.000000        1.000000      10.000000"
      ]
     },
     "execution_count": 23,
     "metadata": {},
     "output_type": "execute_result"
    }
   ],
   "source": [
    "test_df.describe()"
   ]
  },
  {
   "cell_type": "code",
   "execution_count": 24,
   "id": "26e52f38",
   "metadata": {},
   "outputs": [
    {
     "name": "stdout",
     "output_type": "stream",
     "text": [
      "Если будет срезаны 0,5% выбросов, то потери составят: 0.92 % или 4644 строк\n"
     ]
    }
   ],
   "source": [
    "print('Если будет срезаны 0,5% выбросов, то потери составят:', round(100-test_df.count()[0]/df.count()[0]*100, 2), '% или',\n",
    "     df.count()[0] -test_df.count()[0], 'строк')"
   ]
  },
  {
   "cell_type": "markdown",
   "id": "108a620f",
   "metadata": {},
   "source": [
    "**Можно уменьшить количество выбросов в данных на 0.5%, а также исключить отрицательные числа из рассмотрения.**"
   ]
  },
  {
   "cell_type": "markdown",
   "id": "c9442207",
   "metadata": {},
   "source": [
    "### Пропуски и дубликаты"
   ]
  },
  {
   "cell_type": "code",
   "execution_count": 25,
   "id": "068e893b",
   "metadata": {},
   "outputs": [],
   "source": [
    "loss_percentage = round(df.isna().sum() / df.isna().count() * 100, 1).reset_index()\n",
    "loss_percentage.columns = ['columns', 'precent']\n",
    "loss_percentage['count'] = df.isna().sum().reset_index()[0]"
   ]
  },
  {
   "cell_type": "code",
   "execution_count": 26,
   "id": "29a77bf5",
   "metadata": {},
   "outputs": [],
   "source": [
    "def color_non_zero(value):\n",
    "    if value != 0:\n",
    "        return 'background-color: lightgreen'\n",
    "    else:\n",
    "        return ''"
   ]
  },
  {
   "cell_type": "code",
   "execution_count": 27,
   "id": "ead3857a",
   "metadata": {},
   "outputs": [
    {
     "data": {
      "text/html": [
       "<style  type=\"text/css\" >\n",
       "#T_0ae9b_row3_col1,#T_0ae9b_row3_col2,#T_0ae9b_row4_col1,#T_0ae9b_row4_col2{\n",
       "            background-color:  lightgreen;\n",
       "        }</style><table id=\"T_0ae9b_\" ><thead>    <tr>        <th class=\"blank level0\" ></th>        <th class=\"col_heading level0 col0\" >columns</th>        <th class=\"col_heading level0 col1\" >precent</th>        <th class=\"col_heading level0 col2\" >count</th>    </tr></thead><tbody>\n",
       "                <tr>\n",
       "                        <th id=\"T_0ae9b_level0_row0\" class=\"row_heading level0 row0\" >0</th>\n",
       "                        <td id=\"T_0ae9b_row0_col0\" class=\"data row0 col0\" >user_id</td>\n",
       "                        <td id=\"T_0ae9b_row0_col1\" class=\"data row0 col1\" >0.000000</td>\n",
       "                        <td id=\"T_0ae9b_row0_col2\" class=\"data row0 col2\" >0</td>\n",
       "            </tr>\n",
       "            <tr>\n",
       "                        <th id=\"T_0ae9b_level0_row1\" class=\"row_heading level0 row1\" >1</th>\n",
       "                        <td id=\"T_0ae9b_row1_col0\" class=\"data row1 col0\" >lt_day</td>\n",
       "                        <td id=\"T_0ae9b_row1_col1\" class=\"data row1 col1\" >0.000000</td>\n",
       "                        <td id=\"T_0ae9b_row1_col2\" class=\"data row1 col2\" >0</td>\n",
       "            </tr>\n",
       "            <tr>\n",
       "                        <th id=\"T_0ae9b_level0_row2\" class=\"row_heading level0 row2\" >2</th>\n",
       "                        <td id=\"T_0ae9b_row2_col0\" class=\"data row2 col0\" >is_new</td>\n",
       "                        <td id=\"T_0ae9b_row2_col1\" class=\"data row2 col1\" >0.000000</td>\n",
       "                        <td id=\"T_0ae9b_row2_col2\" class=\"data row2 col2\" >0</td>\n",
       "            </tr>\n",
       "            <tr>\n",
       "                        <th id=\"T_0ae9b_level0_row3\" class=\"row_heading level0 row3\" >3</th>\n",
       "                        <td id=\"T_0ae9b_row3_col0\" class=\"data row3 col0\" >age</td>\n",
       "                        <td id=\"T_0ae9b_row3_col1\" class=\"data row3 col1\" >0.100000</td>\n",
       "                        <td id=\"T_0ae9b_row3_col2\" class=\"data row3 col2\" >554</td>\n",
       "            </tr>\n",
       "            <tr>\n",
       "                        <th id=\"T_0ae9b_level0_row4\" class=\"row_heading level0 row4\" >4</th>\n",
       "                        <td id=\"T_0ae9b_row4_col0\" class=\"data row4 col0\" >gender_segment</td>\n",
       "                        <td id=\"T_0ae9b_row4_col1\" class=\"data row4 col1\" >0.300000</td>\n",
       "                        <td id=\"T_0ae9b_row4_col2\" class=\"data row4 col2\" >1301</td>\n",
       "            </tr>\n",
       "            <tr>\n",
       "                        <th id=\"T_0ae9b_level0_row5\" class=\"row_heading level0 row5\" >5</th>\n",
       "                        <td id=\"T_0ae9b_row5_col0\" class=\"data row5 col0\" >os_name</td>\n",
       "                        <td id=\"T_0ae9b_row5_col1\" class=\"data row5 col1\" >0.000000</td>\n",
       "                        <td id=\"T_0ae9b_row5_col2\" class=\"data row5 col2\" >0</td>\n",
       "            </tr>\n",
       "            <tr>\n",
       "                        <th id=\"T_0ae9b_level0_row6\" class=\"row_heading level0 row6\" >6</th>\n",
       "                        <td id=\"T_0ae9b_row6_col0\" class=\"data row6 col0\" >cpe_type_name</td>\n",
       "                        <td id=\"T_0ae9b_row6_col1\" class=\"data row6 col1\" >0.000000</td>\n",
       "                        <td id=\"T_0ae9b_row6_col2\" class=\"data row6 col2\" >0</td>\n",
       "            </tr>\n",
       "            <tr>\n",
       "                        <th id=\"T_0ae9b_level0_row7\" class=\"row_heading level0 row7\" >7</th>\n",
       "                        <td id=\"T_0ae9b_row7_col0\" class=\"data row7 col0\" >country</td>\n",
       "                        <td id=\"T_0ae9b_row7_col1\" class=\"data row7 col1\" >0.000000</td>\n",
       "                        <td id=\"T_0ae9b_row7_col2\" class=\"data row7 col2\" >0</td>\n",
       "            </tr>\n",
       "            <tr>\n",
       "                        <th id=\"T_0ae9b_level0_row8\" class=\"row_heading level0 row8\" >8</th>\n",
       "                        <td id=\"T_0ae9b_row8_col0\" class=\"data row8 col0\" >city</td>\n",
       "                        <td id=\"T_0ae9b_row8_col1\" class=\"data row8 col1\" >0.000000</td>\n",
       "                        <td id=\"T_0ae9b_row8_col2\" class=\"data row8 col2\" >0</td>\n",
       "            </tr>\n",
       "            <tr>\n",
       "                        <th id=\"T_0ae9b_level0_row9\" class=\"row_heading level0 row9\" >9</th>\n",
       "                        <td id=\"T_0ae9b_row9_col0\" class=\"data row9 col0\" >age_segment</td>\n",
       "                        <td id=\"T_0ae9b_row9_col1\" class=\"data row9 col1\" >0.000000</td>\n",
       "                        <td id=\"T_0ae9b_row9_col2\" class=\"data row9 col2\" >0</td>\n",
       "            </tr>\n",
       "            <tr>\n",
       "                        <th id=\"T_0ae9b_level0_row10\" class=\"row_heading level0 row10\" >10</th>\n",
       "                        <td id=\"T_0ae9b_row10_col0\" class=\"data row10 col0\" >traffic_segment</td>\n",
       "                        <td id=\"T_0ae9b_row10_col1\" class=\"data row10 col1\" >0.000000</td>\n",
       "                        <td id=\"T_0ae9b_row10_col2\" class=\"data row10 col2\" >0</td>\n",
       "            </tr>\n",
       "            <tr>\n",
       "                        <th id=\"T_0ae9b_level0_row11\" class=\"row_heading level0 row11\" >11</th>\n",
       "                        <td id=\"T_0ae9b_row11_col0\" class=\"data row11 col0\" >lifetime_segment</td>\n",
       "                        <td id=\"T_0ae9b_row11_col1\" class=\"data row11 col1\" >0.000000</td>\n",
       "                        <td id=\"T_0ae9b_row11_col2\" class=\"data row11 col2\" >0</td>\n",
       "            </tr>\n",
       "            <tr>\n",
       "                        <th id=\"T_0ae9b_level0_row12\" class=\"row_heading level0 row12\" >12</th>\n",
       "                        <td id=\"T_0ae9b_row12_col0\" class=\"data row12 col0\" >nps_score</td>\n",
       "                        <td id=\"T_0ae9b_row12_col1\" class=\"data row12 col1\" >0.000000</td>\n",
       "                        <td id=\"T_0ae9b_row12_col2\" class=\"data row12 col2\" >0</td>\n",
       "            </tr>\n",
       "            <tr>\n",
       "                        <th id=\"T_0ae9b_level0_row13\" class=\"row_heading level0 row13\" >13</th>\n",
       "                        <td id=\"T_0ae9b_row13_col0\" class=\"data row13 col0\" >nps_group</td>\n",
       "                        <td id=\"T_0ae9b_row13_col1\" class=\"data row13 col1\" >0.000000</td>\n",
       "                        <td id=\"T_0ae9b_row13_col2\" class=\"data row13 col2\" >0</td>\n",
       "            </tr>\n",
       "    </tbody></table>"
      ],
      "text/plain": [
       "<pandas.io.formats.style.Styler at 0x23ec24095b0>"
      ]
     },
     "execution_count": 27,
     "metadata": {},
     "output_type": "execute_result"
    }
   ],
   "source": [
    "styled_df = loss_percentage.style.applymap(color_non_zero, subset=['precent', 'count'])\n",
    "styled_df"
   ]
  },
  {
   "cell_type": "code",
   "execution_count": 28,
   "id": "68499e69",
   "metadata": {},
   "outputs": [
    {
     "data": {
      "text/plain": [
       "'явных дубликатов: 0 шт.'"
      ]
     },
     "execution_count": 28,
     "metadata": {},
     "output_type": "execute_result"
    }
   ],
   "source": [
    "f'явных дубликатов: {df.duplicated().sum()} шт.' "
   ]
  },
  {
   "cell_type": "code",
   "execution_count": 29,
   "id": "73b376e5",
   "metadata": {},
   "outputs": [
    {
     "data": {
      "text/html": [
       "<div>\n",
       "<style scoped>\n",
       "    .dataframe tbody tr th:only-of-type {\n",
       "        vertical-align: middle;\n",
       "    }\n",
       "\n",
       "    .dataframe tbody tr th {\n",
       "        vertical-align: top;\n",
       "    }\n",
       "\n",
       "    .dataframe thead th {\n",
       "        text-align: right;\n",
       "    }\n",
       "</style>\n",
       "<table border=\"1\" class=\"dataframe\">\n",
       "  <thead>\n",
       "    <tr style=\"text-align: right;\">\n",
       "      <th></th>\n",
       "      <th>user_id</th>\n",
       "      <th>lt_day</th>\n",
       "      <th>is_new</th>\n",
       "      <th>age</th>\n",
       "      <th>gender_segment</th>\n",
       "      <th>os_name</th>\n",
       "      <th>cpe_type_name</th>\n",
       "      <th>country</th>\n",
       "      <th>city</th>\n",
       "      <th>age_segment</th>\n",
       "      <th>traffic_segment</th>\n",
       "      <th>lifetime_segment</th>\n",
       "      <th>nps_score</th>\n",
       "      <th>nps_group</th>\n",
       "    </tr>\n",
       "  </thead>\n",
       "  <tbody>\n",
       "  </tbody>\n",
       "</table>\n",
       "</div>"
      ],
      "text/plain": [
       "Empty DataFrame\n",
       "Columns: [user_id, lt_day, is_new, age, gender_segment, os_name, cpe_type_name, country, city, age_segment, traffic_segment, lifetime_segment, nps_score, nps_group]\n",
       "Index: []"
      ]
     },
     "execution_count": 29,
     "metadata": {},
     "output_type": "execute_result"
    }
   ],
   "source": [
    "df[df['user_id'].duplicated(keep=False)]"
   ]
  },
  {
   "cell_type": "markdown",
   "id": "42eae9a5",
   "metadata": {},
   "source": [
    "**Пропуски в данных нельзя заполнить, так как user_id уникален, и нет других признаков для определения пропущенных значений.\n",
    "Нет явных дубликатов строк.**"
   ]
  },
  {
   "cell_type": "code",
   "execution_count": 30,
   "id": "29511cd1",
   "metadata": {},
   "outputs": [
    {
     "data": {
      "text/html": [
       "<div>\n",
       "<style scoped>\n",
       "    .dataframe tbody tr th:only-of-type {\n",
       "        vertical-align: middle;\n",
       "    }\n",
       "\n",
       "    .dataframe tbody tr th {\n",
       "        vertical-align: top;\n",
       "    }\n",
       "\n",
       "    .dataframe thead th {\n",
       "        text-align: right;\n",
       "    }\n",
       "</style>\n",
       "<table border=\"1\" class=\"dataframe\">\n",
       "  <thead>\n",
       "    <tr style=\"text-align: right;\">\n",
       "      <th></th>\n",
       "      <th>lt_day</th>\n",
       "      <th>age</th>\n",
       "      <th>gender_segment</th>\n",
       "      <th>nps_score</th>\n",
       "    </tr>\n",
       "  </thead>\n",
       "  <tbody>\n",
       "    <tr>\n",
       "      <th>count</th>\n",
       "      <td>502493.000000</td>\n",
       "      <td>501939.000000</td>\n",
       "      <td>501192.000000</td>\n",
       "      <td>502493.000000</td>\n",
       "    </tr>\n",
       "    <tr>\n",
       "      <th>mean</th>\n",
       "      <td>1868.841439</td>\n",
       "      <td>39.621946</td>\n",
       "      <td>0.543588</td>\n",
       "      <td>7.508562</td>\n",
       "    </tr>\n",
       "    <tr>\n",
       "      <th>std</th>\n",
       "      <td>1683.701762</td>\n",
       "      <td>11.188249</td>\n",
       "      <td>0.498097</td>\n",
       "      <td>3.020378</td>\n",
       "    </tr>\n",
       "    <tr>\n",
       "      <th>min</th>\n",
       "      <td>-21.000000</td>\n",
       "      <td>10.000000</td>\n",
       "      <td>0.000000</td>\n",
       "      <td>1.000000</td>\n",
       "    </tr>\n",
       "    <tr>\n",
       "      <th>25%</th>\n",
       "      <td>533.000000</td>\n",
       "      <td>31.000000</td>\n",
       "      <td>0.000000</td>\n",
       "      <td>5.000000</td>\n",
       "    </tr>\n",
       "    <tr>\n",
       "      <th>50%</th>\n",
       "      <td>1239.000000</td>\n",
       "      <td>38.000000</td>\n",
       "      <td>1.000000</td>\n",
       "      <td>9.000000</td>\n",
       "    </tr>\n",
       "    <tr>\n",
       "      <th>75%</th>\n",
       "      <td>3064.000000</td>\n",
       "      <td>47.000000</td>\n",
       "      <td>1.000000</td>\n",
       "      <td>10.000000</td>\n",
       "    </tr>\n",
       "    <tr>\n",
       "      <th>max</th>\n",
       "      <td>9162.000000</td>\n",
       "      <td>89.000000</td>\n",
       "      <td>1.000000</td>\n",
       "      <td>10.000000</td>\n",
       "    </tr>\n",
       "  </tbody>\n",
       "</table>\n",
       "</div>"
      ],
      "text/plain": [
       "              lt_day            age  gender_segment      nps_score\n",
       "count  502493.000000  501939.000000   501192.000000  502493.000000\n",
       "mean     1868.841439      39.621946        0.543588       7.508562\n",
       "std      1683.701762      11.188249        0.498097       3.020378\n",
       "min       -21.000000      10.000000        0.000000       1.000000\n",
       "25%       533.000000      31.000000        0.000000       5.000000\n",
       "50%      1239.000000      38.000000        1.000000       9.000000\n",
       "75%      3064.000000      47.000000        1.000000      10.000000\n",
       "max      9162.000000      89.000000        1.000000      10.000000"
      ]
     },
     "execution_count": 30,
     "metadata": {},
     "output_type": "execute_result"
    }
   ],
   "source": [
    "df.describe()"
   ]
  },
  {
   "cell_type": "markdown",
   "id": "1d97d30e",
   "metadata": {},
   "source": [
    "**Новый запрос**<a id=New_request></a>"
   ]
  },
  {
   "cell_type": "code",
   "execution_count": 31,
   "id": "2ec8af1b",
   "metadata": {},
   "outputs": [],
   "source": [
    "\n",
    "# изменил пол клиентов \n",
    "# возраст привел к целому числу и отфильтровал \n",
    "\n",
    "query = \"\"\"\n",
    "SELECT user_id, lt_day, \n",
    "    CASE\n",
    "        WHEN lt_day > 365 THEN 'Old'\n",
    "        ELSE 'New'\n",
    "    END as is_new,\n",
    "    CAST(age AS int) as age, \n",
    "    CASE \n",
    "        WHEN gender_segment = 1 THEN 'женщина'\n",
    "        ELSE 'мужчина'\n",
    "    END as gender_segment, \n",
    "    os_name, cpe_type_name, country, city, \n",
    "    SUBSTRING(age_s.title, 4) as age_segment,\n",
    "    SUBSTRING(t_s.title, 4) as traffic_segment,\n",
    "    SUBSTRING(l_s.title, 4) as lifetime_segment,\n",
    "    nps_score,\n",
    "    CASE \n",
    "        WHEN nps_score >= 9 THEN 'Promoters' \n",
    "        WHEN nps_score >= 7 AND nps_score <= 8 THEN 'Passives'\n",
    "        ELSE 'Detractors'\n",
    "    END as nps_group\n",
    "FROM user \n",
    "JOIN location as loc ON user.location_id = loc.location_id \n",
    "JOIN age_segment as age_s ON user.age_gr_id = age_s.age_gr_id\n",
    "JOIN lifetime_segment as l_s ON user.lt_gr_id = l_s.lt_gr_id\n",
    "JOIN traffic_segment as t_s ON user.tr_gr_id = t_s.tr_gr_id\n",
    "WHERE lt_day > 0 AND lt_day <= 6168 \n",
    "    AND age IS NOT NULL AND age <= 72 \n",
    "    AND gender_segment IS NOT NULL\n",
    "    \n",
    "\"\"\""
   ]
  },
  {
   "cell_type": "code",
   "execution_count": 32,
   "id": "b6ba9706",
   "metadata": {},
   "outputs": [
    {
     "data": {
      "text/html": [
       "<div>\n",
       "<style scoped>\n",
       "    .dataframe tbody tr th:only-of-type {\n",
       "        vertical-align: middle;\n",
       "    }\n",
       "\n",
       "    .dataframe tbody tr th {\n",
       "        vertical-align: top;\n",
       "    }\n",
       "\n",
       "    .dataframe thead th {\n",
       "        text-align: right;\n",
       "    }\n",
       "</style>\n",
       "<table border=\"1\" class=\"dataframe\">\n",
       "  <thead>\n",
       "    <tr style=\"text-align: right;\">\n",
       "      <th></th>\n",
       "      <th>user_id</th>\n",
       "      <th>lt_day</th>\n",
       "      <th>is_new</th>\n",
       "      <th>age</th>\n",
       "      <th>gender_segment</th>\n",
       "      <th>os_name</th>\n",
       "      <th>cpe_type_name</th>\n",
       "      <th>country</th>\n",
       "      <th>city</th>\n",
       "      <th>age_segment</th>\n",
       "      <th>traffic_segment</th>\n",
       "      <th>lifetime_segment</th>\n",
       "      <th>nps_score</th>\n",
       "      <th>nps_group</th>\n",
       "    </tr>\n",
       "  </thead>\n",
       "  <tbody>\n",
       "    <tr>\n",
       "      <th>0</th>\n",
       "      <td>A001A2</td>\n",
       "      <td>2320</td>\n",
       "      <td>Old</td>\n",
       "      <td>45</td>\n",
       "      <td>женщина</td>\n",
       "      <td>ANDROID</td>\n",
       "      <td>SMARTPHONE</td>\n",
       "      <td>Россия</td>\n",
       "      <td>Уфа</td>\n",
       "      <td>45-54</td>\n",
       "      <td>1-5</td>\n",
       "      <td>36+</td>\n",
       "      <td>10</td>\n",
       "      <td>Promoters</td>\n",
       "    </tr>\n",
       "    <tr>\n",
       "      <th>1</th>\n",
       "      <td>A001WF</td>\n",
       "      <td>2344</td>\n",
       "      <td>Old</td>\n",
       "      <td>53</td>\n",
       "      <td>мужчина</td>\n",
       "      <td>ANDROID</td>\n",
       "      <td>SMARTPHONE</td>\n",
       "      <td>Россия</td>\n",
       "      <td>Киров</td>\n",
       "      <td>45-54</td>\n",
       "      <td>1-5</td>\n",
       "      <td>36+</td>\n",
       "      <td>10</td>\n",
       "      <td>Promoters</td>\n",
       "    </tr>\n",
       "    <tr>\n",
       "      <th>2</th>\n",
       "      <td>A003Q7</td>\n",
       "      <td>467</td>\n",
       "      <td>Old</td>\n",
       "      <td>57</td>\n",
       "      <td>мужчина</td>\n",
       "      <td>ANDROID</td>\n",
       "      <td>SMARTPHONE</td>\n",
       "      <td>Россия</td>\n",
       "      <td>Москва</td>\n",
       "      <td>55-64</td>\n",
       "      <td>20-25</td>\n",
       "      <td>13-24</td>\n",
       "      <td>10</td>\n",
       "      <td>Promoters</td>\n",
       "    </tr>\n",
       "    <tr>\n",
       "      <th>3</th>\n",
       "      <td>A004TB</td>\n",
       "      <td>4190</td>\n",
       "      <td>Old</td>\n",
       "      <td>44</td>\n",
       "      <td>женщина</td>\n",
       "      <td>IOS</td>\n",
       "      <td>SMARTPHONE</td>\n",
       "      <td>Россия</td>\n",
       "      <td>РостовнаДону</td>\n",
       "      <td>35-44</td>\n",
       "      <td>0.1-1</td>\n",
       "      <td>36+</td>\n",
       "      <td>10</td>\n",
       "      <td>Promoters</td>\n",
       "    </tr>\n",
       "    <tr>\n",
       "      <th>4</th>\n",
       "      <td>A004XT</td>\n",
       "      <td>1163</td>\n",
       "      <td>Old</td>\n",
       "      <td>24</td>\n",
       "      <td>мужчина</td>\n",
       "      <td>ANDROID</td>\n",
       "      <td>SMARTPHONE</td>\n",
       "      <td>Россия</td>\n",
       "      <td>Рязань</td>\n",
       "      <td>16-24</td>\n",
       "      <td>5-10</td>\n",
       "      <td>36+</td>\n",
       "      <td>10</td>\n",
       "      <td>Promoters</td>\n",
       "    </tr>\n",
       "    <tr>\n",
       "      <th>...</th>\n",
       "      <td>...</td>\n",
       "      <td>...</td>\n",
       "      <td>...</td>\n",
       "      <td>...</td>\n",
       "      <td>...</td>\n",
       "      <td>...</td>\n",
       "      <td>...</td>\n",
       "      <td>...</td>\n",
       "      <td>...</td>\n",
       "      <td>...</td>\n",
       "      <td>...</td>\n",
       "      <td>...</td>\n",
       "      <td>...</td>\n",
       "      <td>...</td>\n",
       "    </tr>\n",
       "    <tr>\n",
       "      <th>496521</th>\n",
       "      <td>ZZZKLD</td>\n",
       "      <td>1249</td>\n",
       "      <td>Old</td>\n",
       "      <td>54</td>\n",
       "      <td>женщина</td>\n",
       "      <td>ANDROID</td>\n",
       "      <td>SMARTPHONE</td>\n",
       "      <td>Россия</td>\n",
       "      <td>Москва</td>\n",
       "      <td>45-54</td>\n",
       "      <td>1-5</td>\n",
       "      <td>36+</td>\n",
       "      <td>5</td>\n",
       "      <td>Detractors</td>\n",
       "    </tr>\n",
       "    <tr>\n",
       "      <th>496522</th>\n",
       "      <td>ZZZLWY</td>\n",
       "      <td>129</td>\n",
       "      <td>New</td>\n",
       "      <td>31</td>\n",
       "      <td>мужчина</td>\n",
       "      <td>ANDROID</td>\n",
       "      <td>SMARTPHONE</td>\n",
       "      <td>Россия</td>\n",
       "      <td>Москва</td>\n",
       "      <td>25-34</td>\n",
       "      <td>1-5</td>\n",
       "      <td>4-6</td>\n",
       "      <td>8</td>\n",
       "      <td>Passives</td>\n",
       "    </tr>\n",
       "    <tr>\n",
       "      <th>496523</th>\n",
       "      <td>ZZZQ5F</td>\n",
       "      <td>522</td>\n",
       "      <td>Old</td>\n",
       "      <td>36</td>\n",
       "      <td>мужчина</td>\n",
       "      <td>ANDROID</td>\n",
       "      <td>SMARTPHONE</td>\n",
       "      <td>Россия</td>\n",
       "      <td>Сургут</td>\n",
       "      <td>35-44</td>\n",
       "      <td>25-30</td>\n",
       "      <td>13-24</td>\n",
       "      <td>10</td>\n",
       "      <td>Promoters</td>\n",
       "    </tr>\n",
       "    <tr>\n",
       "      <th>496524</th>\n",
       "      <td>ZZZQ8E</td>\n",
       "      <td>2936</td>\n",
       "      <td>Old</td>\n",
       "      <td>37</td>\n",
       "      <td>женщина</td>\n",
       "      <td>ANDROID</td>\n",
       "      <td>SMARTPHONE</td>\n",
       "      <td>Россия</td>\n",
       "      <td>УланУдэ</td>\n",
       "      <td>35-44</td>\n",
       "      <td>65-70</td>\n",
       "      <td>36+</td>\n",
       "      <td>9</td>\n",
       "      <td>Promoters</td>\n",
       "    </tr>\n",
       "    <tr>\n",
       "      <th>496525</th>\n",
       "      <td>ZZZYH0</td>\n",
       "      <td>2471</td>\n",
       "      <td>Old</td>\n",
       "      <td>37</td>\n",
       "      <td>мужчина</td>\n",
       "      <td>IOS</td>\n",
       "      <td>SMARTPHONE</td>\n",
       "      <td>Россия</td>\n",
       "      <td>Самара</td>\n",
       "      <td>35-44</td>\n",
       "      <td>10-15</td>\n",
       "      <td>36+</td>\n",
       "      <td>2</td>\n",
       "      <td>Detractors</td>\n",
       "    </tr>\n",
       "  </tbody>\n",
       "</table>\n",
       "<p>496526 rows × 14 columns</p>\n",
       "</div>"
      ],
      "text/plain": [
       "       user_id  lt_day is_new  age gender_segment  os_name cpe_type_name  \\\n",
       "0       A001A2    2320    Old   45        женщина  ANDROID    SMARTPHONE   \n",
       "1       A001WF    2344    Old   53        мужчина  ANDROID    SMARTPHONE   \n",
       "2       A003Q7     467    Old   57        мужчина  ANDROID    SMARTPHONE   \n",
       "3       A004TB    4190    Old   44        женщина      IOS    SMARTPHONE   \n",
       "4       A004XT    1163    Old   24        мужчина  ANDROID    SMARTPHONE   \n",
       "...        ...     ...    ...  ...            ...      ...           ...   \n",
       "496521  ZZZKLD    1249    Old   54        женщина  ANDROID    SMARTPHONE   \n",
       "496522  ZZZLWY     129    New   31        мужчина  ANDROID    SMARTPHONE   \n",
       "496523  ZZZQ5F     522    Old   36        мужчина  ANDROID    SMARTPHONE   \n",
       "496524  ZZZQ8E    2936    Old   37        женщина  ANDROID    SMARTPHONE   \n",
       "496525  ZZZYH0    2471    Old   37        мужчина      IOS    SMARTPHONE   \n",
       "\n",
       "       country          city age_segment traffic_segment lifetime_segment  \\\n",
       "0       Россия           Уфа       45-54             1-5              36+   \n",
       "1       Россия         Киров       45-54             1-5              36+   \n",
       "2       Россия        Москва       55-64           20-25            13-24   \n",
       "3       Россия  РостовнаДону       35-44           0.1-1              36+   \n",
       "4       Россия        Рязань       16-24            5-10              36+   \n",
       "...        ...           ...         ...             ...              ...   \n",
       "496521  Россия        Москва       45-54             1-5              36+   \n",
       "496522  Россия        Москва       25-34             1-5              4-6   \n",
       "496523  Россия        Сургут       35-44           25-30            13-24   \n",
       "496524  Россия       УланУдэ       35-44           65-70              36+   \n",
       "496525  Россия        Самара       35-44           10-15              36+   \n",
       "\n",
       "        nps_score   nps_group  \n",
       "0              10   Promoters  \n",
       "1              10   Promoters  \n",
       "2              10   Promoters  \n",
       "3              10   Promoters  \n",
       "4              10   Promoters  \n",
       "...           ...         ...  \n",
       "496521          5  Detractors  \n",
       "496522          8    Passives  \n",
       "496523         10   Promoters  \n",
       "496524          9   Promoters  \n",
       "496525          2  Detractors  \n",
       "\n",
       "[496526 rows x 14 columns]"
      ]
     },
     "execution_count": 32,
     "metadata": {},
     "output_type": "execute_result"
    }
   ],
   "source": [
    "df = pd.read_sql(query, engine)\n",
    "df"
   ]
  },
  {
   "cell_type": "code",
   "execution_count": 33,
   "id": "845cdc2f",
   "metadata": {},
   "outputs": [
    {
     "data": {
      "text/html": [
       "<div>\n",
       "<style scoped>\n",
       "    .dataframe tbody tr th:only-of-type {\n",
       "        vertical-align: middle;\n",
       "    }\n",
       "\n",
       "    .dataframe tbody tr th {\n",
       "        vertical-align: top;\n",
       "    }\n",
       "\n",
       "    .dataframe thead th {\n",
       "        text-align: right;\n",
       "    }\n",
       "</style>\n",
       "<table border=\"1\" class=\"dataframe\">\n",
       "  <thead>\n",
       "    <tr style=\"text-align: right;\">\n",
       "      <th></th>\n",
       "      <th>lt_day</th>\n",
       "      <th>age</th>\n",
       "      <th>nps_score</th>\n",
       "    </tr>\n",
       "  </thead>\n",
       "  <tbody>\n",
       "    <tr>\n",
       "      <th>count</th>\n",
       "      <td>496526.000000</td>\n",
       "      <td>496526.000000</td>\n",
       "      <td>496526.000000</td>\n",
       "    </tr>\n",
       "    <tr>\n",
       "      <th>mean</th>\n",
       "      <td>1847.476464</td>\n",
       "      <td>39.435385</td>\n",
       "      <td>7.508503</td>\n",
       "    </tr>\n",
       "    <tr>\n",
       "      <th>std</th>\n",
       "      <td>1655.950933</td>\n",
       "      <td>10.956095</td>\n",
       "      <td>3.018932</td>\n",
       "    </tr>\n",
       "    <tr>\n",
       "      <th>min</th>\n",
       "      <td>2.000000</td>\n",
       "      <td>10.000000</td>\n",
       "      <td>1.000000</td>\n",
       "    </tr>\n",
       "    <tr>\n",
       "      <th>25%</th>\n",
       "      <td>531.000000</td>\n",
       "      <td>31.000000</td>\n",
       "      <td>5.000000</td>\n",
       "    </tr>\n",
       "    <tr>\n",
       "      <th>50%</th>\n",
       "      <td>1232.000000</td>\n",
       "      <td>38.000000</td>\n",
       "      <td>9.000000</td>\n",
       "    </tr>\n",
       "    <tr>\n",
       "      <th>75%</th>\n",
       "      <td>3022.000000</td>\n",
       "      <td>46.000000</td>\n",
       "      <td>10.000000</td>\n",
       "    </tr>\n",
       "    <tr>\n",
       "      <th>max</th>\n",
       "      <td>6168.000000</td>\n",
       "      <td>72.000000</td>\n",
       "      <td>10.000000</td>\n",
       "    </tr>\n",
       "  </tbody>\n",
       "</table>\n",
       "</div>"
      ],
      "text/plain": [
       "              lt_day            age      nps_score\n",
       "count  496526.000000  496526.000000  496526.000000\n",
       "mean     1847.476464      39.435385       7.508503\n",
       "std      1655.950933      10.956095       3.018932\n",
       "min         2.000000      10.000000       1.000000\n",
       "25%       531.000000      31.000000       5.000000\n",
       "50%      1232.000000      38.000000       9.000000\n",
       "75%      3022.000000      46.000000      10.000000\n",
       "max      6168.000000      72.000000      10.000000"
      ]
     },
     "execution_count": 33,
     "metadata": {},
     "output_type": "execute_result"
    }
   ],
   "source": [
    "df.describe()"
   ]
  },
  {
   "cell_type": "code",
   "execution_count": 34,
   "id": "6063256c",
   "metadata": {},
   "outputs": [
    {
     "data": {
      "text/plain": [
       "user_id             0\n",
       "lt_day              0\n",
       "is_new              0\n",
       "age                 0\n",
       "gender_segment      0\n",
       "os_name             0\n",
       "cpe_type_name       0\n",
       "country             0\n",
       "city                0\n",
       "age_segment         0\n",
       "traffic_segment     0\n",
       "lifetime_segment    0\n",
       "nps_score           0\n",
       "nps_group           0\n",
       "dtype: int64"
      ]
     },
     "execution_count": 34,
     "metadata": {},
     "output_type": "execute_result"
    }
   ],
   "source": [
    "df.isna().sum()"
   ]
  },
  {
   "cell_type": "code",
   "execution_count": 35,
   "id": "5974efe1",
   "metadata": {},
   "outputs": [],
   "source": [
    "df.to_csv('Tableau_prefabricated_project.csv', index=False)"
   ]
  },
  {
   "cell_type": "markdown",
   "id": "6d711a56",
   "metadata": {},
   "source": [
    "**[Ссылка на Tableau](https://public.tableau.com/views/Mysecondbook_17093073379130/sheet2?:language=en-US&publish=yes&:sid=&:display_count=n&:origin=viz_share_link)**"
   ]
  },
  {
   "cell_type": "code",
   "execution_count": null,
   "id": "8f36b1b5",
   "metadata": {},
   "outputs": [],
   "source": []
  }
 ],
 "metadata": {
  "ExecuteTimeLog": [
   {
    "duration": 566,
    "start_time": "2024-02-28T08:07:31.836Z"
   },
   {
    "duration": 89,
    "start_time": "2024-02-28T08:07:33.493Z"
   },
   {
    "duration": 3,
    "start_time": "2024-02-28T08:54:19.613Z"
   },
   {
    "duration": 3555,
    "start_time": "2024-02-28T08:54:20.337Z"
   },
   {
    "duration": 21,
    "start_time": "2024-02-28T12:47:51.970Z"
   },
   {
    "duration": 133,
    "start_time": "2024-02-28T12:53:00.514Z"
   },
   {
    "duration": 3,
    "start_time": "2024-02-28T13:41:05.538Z"
   },
   {
    "duration": 132,
    "start_time": "2024-02-28T13:41:10.299Z"
   },
   {
    "duration": 554,
    "start_time": "2024-02-28T13:41:16.513Z"
   },
   {
    "duration": 10,
    "start_time": "2024-02-28T13:41:20.025Z"
   },
   {
    "duration": 2,
    "start_time": "2024-02-28T13:41:49.857Z"
   },
   {
    "duration": 561,
    "start_time": "2024-02-28T13:41:50.376Z"
   },
   {
    "duration": 2,
    "start_time": "2024-02-28T13:41:50.992Z"
   },
   {
    "duration": 10,
    "start_time": "2024-02-28T13:41:51.311Z"
   },
   {
    "duration": 3,
    "start_time": "2024-02-28T13:42:24.338Z"
   },
   {
    "duration": 557,
    "start_time": "2024-02-28T13:42:24.666Z"
   },
   {
    "duration": 2,
    "start_time": "2024-02-28T13:42:25.226Z"
   },
   {
    "duration": 10,
    "start_time": "2024-02-28T13:42:28.463Z"
   },
   {
    "duration": 3,
    "start_time": "2024-02-28T13:42:56.439Z"
   },
   {
    "duration": 556,
    "start_time": "2024-02-28T13:42:58.087Z"
   },
   {
    "duration": 2,
    "start_time": "2024-02-28T13:43:00.294Z"
   },
   {
    "duration": 9,
    "start_time": "2024-02-28T13:43:00.670Z"
   },
   {
    "duration": 3,
    "start_time": "2024-02-28T14:32:30.863Z"
   },
   {
    "duration": 562,
    "start_time": "2024-02-28T14:32:31.530Z"
   },
   {
    "duration": 10,
    "start_time": "2024-02-28T14:32:49.665Z"
   },
   {
    "duration": 559,
    "start_time": "2024-02-28T14:45:45.671Z"
   },
   {
    "duration": 1022,
    "start_time": "2024-02-28T14:49:05.593Z"
   },
   {
    "duration": 3,
    "start_time": "2024-02-28T14:49:09.811Z"
   },
   {
    "duration": 107,
    "start_time": "2024-02-28T14:50:33.170Z"
   },
   {
    "duration": 3,
    "start_time": "2024-02-28T14:50:55.753Z"
   },
   {
    "duration": 4,
    "start_time": "2024-02-28T14:50:58.160Z"
   },
   {
    "duration": 618,
    "start_time": "2024-02-28T14:51:00.664Z"
   },
   {
    "duration": 3,
    "start_time": "2024-02-28T14:51:50.876Z"
   },
   {
    "duration": 3615,
    "start_time": "2024-02-28T14:51:51.328Z"
   },
   {
    "duration": 3504,
    "start_time": "2024-02-28T14:52:00.351Z"
   },
   {
    "duration": 3,
    "start_time": "2024-02-28T14:52:33.080Z"
   },
   {
    "duration": 729,
    "start_time": "2024-02-28T14:52:34.584Z"
   },
   {
    "duration": 607,
    "start_time": "2024-02-28T14:52:41.632Z"
   },
   {
    "duration": 607,
    "start_time": "2024-02-28T14:52:50.361Z"
   },
   {
    "duration": 4,
    "start_time": "2024-02-28T14:53:39.783Z"
   },
   {
    "duration": 623,
    "start_time": "2024-02-28T14:53:50.511Z"
   },
   {
    "duration": 610,
    "start_time": "2024-02-28T14:53:57.695Z"
   },
   {
    "duration": 3,
    "start_time": "2024-02-28T14:54:39.984Z"
   },
   {
    "duration": 595,
    "start_time": "2024-02-28T14:54:44.286Z"
   },
   {
    "duration": 602,
    "start_time": "2024-02-28T14:54:49.426Z"
   },
   {
    "duration": 3,
    "start_time": "2024-02-28T16:17:59.368Z"
   },
   {
    "duration": 686,
    "start_time": "2024-02-28T16:18:00.704Z"
   },
   {
    "duration": 3,
    "start_time": "2024-02-28T16:18:49.020Z"
   },
   {
    "duration": 4832,
    "start_time": "2024-02-28T16:18:49.765Z"
   },
   {
    "duration": 4625,
    "start_time": "2024-02-28T16:18:55.716Z"
   },
   {
    "duration": 3,
    "start_time": "2024-02-28T17:47:55.763Z"
   },
   {
    "duration": 559,
    "start_time": "2024-02-28T17:47:58.892Z"
   },
   {
    "duration": 2,
    "start_time": "2024-02-28T17:48:19.618Z"
   },
   {
    "duration": 566,
    "start_time": "2024-02-28T17:48:20.417Z"
   },
   {
    "duration": 2,
    "start_time": "2024-02-28T17:49:29.977Z"
   },
   {
    "duration": 4314,
    "start_time": "2024-02-28T17:49:31.145Z"
   },
   {
    "duration": 3,
    "start_time": "2024-02-28T17:50:26.816Z"
   },
   {
    "duration": 5330,
    "start_time": "2024-02-28T17:50:27.640Z"
   },
   {
    "duration": 3,
    "start_time": "2024-02-28T17:55:36.988Z"
   },
   {
    "duration": 5324,
    "start_time": "2024-02-28T17:55:37.861Z"
   },
   {
    "duration": 3,
    "start_time": "2024-02-28T18:04:51.400Z"
   },
   {
    "duration": 678,
    "start_time": "2024-02-28T18:04:52.238Z"
   },
   {
    "duration": 2,
    "start_time": "2024-02-28T18:06:26.405Z"
   },
   {
    "duration": 7498,
    "start_time": "2024-02-28T18:06:27.013Z"
   },
   {
    "duration": 2,
    "start_time": "2024-02-28T18:07:14.028Z"
   },
   {
    "duration": 6455,
    "start_time": "2024-02-28T18:07:18.413Z"
   },
   {
    "duration": 2,
    "start_time": "2024-02-28T18:09:49.867Z"
   },
   {
    "duration": 7772,
    "start_time": "2024-02-28T18:09:51.834Z"
   },
   {
    "duration": 7,
    "start_time": "2024-02-28T18:12:33.073Z"
   },
   {
    "duration": 4,
    "start_time": "2024-02-28T18:23:40.990Z"
   },
   {
    "duration": 3,
    "start_time": "2024-02-28T18:23:58.957Z"
   },
   {
    "duration": 1815,
    "start_time": "2024-02-28T18:24:05.159Z"
   },
   {
    "duration": 3,
    "start_time": "2024-02-28T18:36:11.611Z"
   },
   {
    "duration": 2610,
    "start_time": "2024-02-28T18:36:13.257Z"
   },
   {
    "duration": 498,
    "start_time": "2024-02-29T08:33:15.754Z"
   },
   {
    "duration": 1030,
    "start_time": "2024-02-29T08:33:16.254Z"
   },
   {
    "duration": 4,
    "start_time": "2024-02-29T08:33:17.285Z"
   },
   {
    "duration": 20,
    "start_time": "2024-02-29T08:33:17.291Z"
   },
   {
    "duration": 80,
    "start_time": "2024-02-29T08:33:17.313Z"
   },
   {
    "duration": 3,
    "start_time": "2024-02-29T08:33:17.394Z"
   },
   {
    "duration": 560,
    "start_time": "2024-02-29T08:33:17.398Z"
   },
   {
    "duration": 532,
    "start_time": "2024-02-29T08:33:17.960Z"
   },
   {
    "duration": 494,
    "start_time": "2024-02-29T08:33:18.493Z"
   },
   {
    "duration": 525,
    "start_time": "2024-02-29T08:33:18.990Z"
   },
   {
    "duration": 504,
    "start_time": "2024-02-29T08:33:19.517Z"
   },
   {
    "duration": 2,
    "start_time": "2024-02-29T08:33:20.023Z"
   },
   {
    "duration": 114,
    "start_time": "2024-02-29T08:33:20.027Z"
   },
   {
    "duration": 0,
    "start_time": "2024-02-29T08:33:20.143Z"
   },
   {
    "duration": 0,
    "start_time": "2024-02-29T08:33:20.144Z"
   },
   {
    "duration": 0,
    "start_time": "2024-02-29T08:33:20.145Z"
   },
   {
    "duration": 0,
    "start_time": "2024-02-29T08:33:20.147Z"
   },
   {
    "duration": 0,
    "start_time": "2024-02-29T08:33:20.148Z"
   },
   {
    "duration": 555,
    "start_time": "2024-02-29T08:33:44.620Z"
   },
   {
    "duration": 813,
    "start_time": "2024-02-29T08:33:45.176Z"
   },
   {
    "duration": 3,
    "start_time": "2024-02-29T08:33:45.991Z"
   },
   {
    "duration": 24,
    "start_time": "2024-02-29T08:33:45.995Z"
   },
   {
    "duration": 83,
    "start_time": "2024-02-29T08:33:46.022Z"
   },
   {
    "duration": 3,
    "start_time": "2024-02-29T08:33:46.107Z"
   },
   {
    "duration": 519,
    "start_time": "2024-02-29T08:33:46.111Z"
   },
   {
    "duration": 516,
    "start_time": "2024-02-29T08:33:46.631Z"
   },
   {
    "duration": 497,
    "start_time": "2024-02-29T08:33:47.149Z"
   },
   {
    "duration": 522,
    "start_time": "2024-02-29T08:33:47.647Z"
   },
   {
    "duration": 507,
    "start_time": "2024-02-29T08:33:48.171Z"
   },
   {
    "duration": 2,
    "start_time": "2024-02-29T08:33:48.680Z"
   },
   {
    "duration": 22,
    "start_time": "2024-02-29T08:33:48.684Z"
   },
   {
    "duration": 4,
    "start_time": "2024-02-29T08:33:48.709Z"
   },
   {
    "duration": 3647,
    "start_time": "2024-02-29T08:33:48.715Z"
   },
   {
    "duration": 2,
    "start_time": "2024-02-29T08:33:52.365Z"
   },
   {
    "duration": 77,
    "start_time": "2024-02-29T08:33:52.369Z"
   },
   {
    "duration": 4,
    "start_time": "2024-02-29T08:55:16.507Z"
   },
   {
    "duration": 2,
    "start_time": "2024-02-29T09:05:42.085Z"
   },
   {
    "duration": 7445,
    "start_time": "2024-02-29T09:05:44.527Z"
   },
   {
    "duration": 4,
    "start_time": "2024-02-29T09:05:51.974Z"
   },
   {
    "duration": 2,
    "start_time": "2024-02-29T09:06:38.493Z"
   },
   {
    "duration": 681,
    "start_time": "2024-02-29T09:06:43.723Z"
   },
   {
    "duration": 2,
    "start_time": "2024-02-29T09:21:38.698Z"
   },
   {
    "duration": 1953,
    "start_time": "2024-02-29T09:21:46.413Z"
   },
   {
    "duration": 3,
    "start_time": "2024-02-29T09:26:01.958Z"
   },
   {
    "duration": 1752,
    "start_time": "2024-02-29T09:26:06.528Z"
   },
   {
    "duration": 3,
    "start_time": "2024-02-29T10:17:12.345Z"
   },
   {
    "duration": 4109,
    "start_time": "2024-02-29T10:17:16.659Z"
   },
   {
    "duration": 93,
    "start_time": "2024-02-29T10:18:04.453Z"
   },
   {
    "duration": 5,
    "start_time": "2024-02-29T10:18:24.284Z"
   },
   {
    "duration": 109,
    "start_time": "2024-02-29T10:18:37.804Z"
   },
   {
    "duration": 83,
    "start_time": "2024-02-29T10:23:20.426Z"
   },
   {
    "duration": 13,
    "start_time": "2024-02-29T10:23:42.411Z"
   },
   {
    "duration": 96,
    "start_time": "2024-02-29T10:23:59.354Z"
   },
   {
    "duration": 99,
    "start_time": "2024-02-29T10:24:03.834Z"
   },
   {
    "duration": 106,
    "start_time": "2024-02-29T10:24:10.193Z"
   },
   {
    "duration": 56,
    "start_time": "2024-02-29T10:37:32.369Z"
   },
   {
    "duration": 73,
    "start_time": "2024-02-29T10:37:35.944Z"
   },
   {
    "duration": 428,
    "start_time": "2024-02-29T10:43:10.987Z"
   },
   {
    "duration": 405,
    "start_time": "2024-02-29T10:43:38.363Z"
   },
   {
    "duration": 4,
    "start_time": "2024-02-29T13:22:14.387Z"
   },
   {
    "duration": 5118,
    "start_time": "2024-02-29T13:22:18.250Z"
   },
   {
    "duration": 3,
    "start_time": "2024-02-29T13:31:30.389Z"
   },
   {
    "duration": 626,
    "start_time": "2024-02-29T13:31:33.412Z"
   },
   {
    "duration": 3,
    "start_time": "2024-02-29T13:31:52.475Z"
   },
   {
    "duration": 652,
    "start_time": "2024-02-29T13:31:54.954Z"
   },
   {
    "duration": 3,
    "start_time": "2024-02-29T13:33:17.193Z"
   },
   {
    "duration": 5270,
    "start_time": "2024-02-29T13:33:20.985Z"
   },
   {
    "duration": 5160,
    "start_time": "2024-02-29T13:34:59.736Z"
   },
   {
    "duration": 3,
    "start_time": "2024-02-29T13:51:10.755Z"
   },
   {
    "duration": 4,
    "start_time": "2024-02-29T13:51:14.651Z"
   },
   {
    "duration": 5288,
    "start_time": "2024-02-29T13:51:15.555Z"
   },
   {
    "duration": 429,
    "start_time": "2024-02-29T13:52:33.301Z"
   },
   {
    "duration": 455,
    "start_time": "2024-02-29T13:52:54.920Z"
   },
   {
    "duration": 398,
    "start_time": "2024-02-29T13:52:58.785Z"
   },
   {
    "duration": 397,
    "start_time": "2024-02-29T13:53:02.914Z"
   },
   {
    "duration": 432,
    "start_time": "2024-02-29T13:53:09.627Z"
   },
   {
    "duration": 480,
    "start_time": "2024-02-29T13:53:25.065Z"
   },
   {
    "duration": 514,
    "start_time": "2024-02-29T13:53:30.172Z"
   },
   {
    "duration": 418,
    "start_time": "2024-02-29T13:53:48.065Z"
   },
   {
    "duration": 462,
    "start_time": "2024-02-29T13:53:51.217Z"
   },
   {
    "duration": 471,
    "start_time": "2024-02-29T13:53:55.840Z"
   },
   {
    "duration": 434,
    "start_time": "2024-02-29T13:54:07.076Z"
   },
   {
    "duration": 461,
    "start_time": "2024-02-29T13:54:13.642Z"
   },
   {
    "duration": 35,
    "start_time": "2024-02-29T13:54:59.992Z"
   },
   {
    "duration": 73,
    "start_time": "2024-02-29T13:55:13.824Z"
   },
   {
    "duration": 68,
    "start_time": "2024-02-29T13:55:24.424Z"
   },
   {
    "duration": 64,
    "start_time": "2024-02-29T13:55:37.701Z"
   },
   {
    "duration": 5302,
    "start_time": "2024-02-29T14:10:06.113Z"
   },
   {
    "duration": 3,
    "start_time": "2024-02-29T14:10:45.681Z"
   },
   {
    "duration": 355,
    "start_time": "2024-02-29T14:10:48.193Z"
   },
   {
    "duration": 2,
    "start_time": "2024-02-29T14:11:11.270Z"
   },
   {
    "duration": 912,
    "start_time": "2024-02-29T14:11:12.065Z"
   },
   {
    "duration": 2,
    "start_time": "2024-02-29T14:14:13.737Z"
   },
   {
    "duration": 950,
    "start_time": "2024-02-29T14:14:14.271Z"
   },
   {
    "duration": 3,
    "start_time": "2024-02-29T14:14:41.641Z"
   },
   {
    "duration": 959,
    "start_time": "2024-02-29T14:14:42.022Z"
   },
   {
    "duration": 3,
    "start_time": "2024-02-29T14:20:41.651Z"
   },
   {
    "duration": 886,
    "start_time": "2024-02-29T14:20:44.579Z"
   },
   {
    "duration": 862,
    "start_time": "2024-02-29T14:20:51.208Z"
   },
   {
    "duration": 3,
    "start_time": "2024-02-29T14:21:38.514Z"
   },
   {
    "duration": 81,
    "start_time": "2024-02-29T14:21:39.163Z"
   },
   {
    "duration": 486,
    "start_time": "2024-02-29T14:21:43.314Z"
   },
   {
    "duration": 2,
    "start_time": "2024-02-29T14:25:27.161Z"
   },
   {
    "duration": 592,
    "start_time": "2024-02-29T14:25:29.864Z"
   },
   {
    "duration": 2,
    "start_time": "2024-02-29T14:25:57.111Z"
   },
   {
    "duration": 2415,
    "start_time": "2024-02-29T14:26:00.615Z"
   },
   {
    "duration": 2,
    "start_time": "2024-02-29T14:29:19.624Z"
   },
   {
    "duration": 2800,
    "start_time": "2024-02-29T14:29:24.085Z"
   },
   {
    "duration": 2,
    "start_time": "2024-02-29T14:30:17.909Z"
   },
   {
    "duration": 947,
    "start_time": "2024-02-29T14:30:24.173Z"
   },
   {
    "duration": 3,
    "start_time": "2024-02-29T14:31:17.802Z"
   },
   {
    "duration": 952,
    "start_time": "2024-02-29T14:31:18.268Z"
   },
   {
    "duration": 3,
    "start_time": "2024-02-29T14:32:29.058Z"
   },
   {
    "duration": 626,
    "start_time": "2024-02-29T14:32:29.994Z"
   },
   {
    "duration": 6,
    "start_time": "2024-02-29T14:32:38.974Z"
   },
   {
    "duration": 1007,
    "start_time": "2024-02-29T14:32:39.964Z"
   },
   {
    "duration": 3,
    "start_time": "2024-02-29T14:38:51.433Z"
   },
   {
    "duration": 1161,
    "start_time": "2024-02-29T14:38:53.367Z"
   },
   {
    "duration": 1120,
    "start_time": "2024-02-29T14:39:25.550Z"
   },
   {
    "duration": 1109,
    "start_time": "2024-02-29T14:39:37.397Z"
   },
   {
    "duration": 3,
    "start_time": "2024-02-29T14:40:07.009Z"
   },
   {
    "duration": 5101,
    "start_time": "2024-02-29T14:40:07.951Z"
   },
   {
    "duration": 3,
    "start_time": "2024-02-29T14:40:42.132Z"
   },
   {
    "duration": 1017,
    "start_time": "2024-02-29T14:40:56.148Z"
   },
   {
    "duration": 1012,
    "start_time": "2024-02-29T14:41:16.780Z"
   },
   {
    "duration": 3,
    "start_time": "2024-02-29T14:41:43.235Z"
   },
   {
    "duration": 10,
    "start_time": "2024-02-29T14:41:44.556Z"
   },
   {
    "duration": 924,
    "start_time": "2024-02-29T14:41:44.996Z"
   },
   {
    "duration": 881,
    "start_time": "2024-02-29T14:41:54.660Z"
   },
   {
    "duration": 3,
    "start_time": "2024-02-29T14:42:04.504Z"
   },
   {
    "duration": 9,
    "start_time": "2024-02-29T14:42:05.611Z"
   },
   {
    "duration": 842,
    "start_time": "2024-02-29T14:42:06.155Z"
   },
   {
    "duration": 3,
    "start_time": "2024-02-29T14:48:05.823Z"
   },
   {
    "duration": 378,
    "start_time": "2024-02-29T14:48:06.294Z"
   },
   {
    "duration": 2,
    "start_time": "2024-02-29T14:48:27.494Z"
   },
   {
    "duration": 379,
    "start_time": "2024-02-29T14:48:28.224Z"
   },
   {
    "duration": 2,
    "start_time": "2024-02-29T14:49:05.830Z"
   },
   {
    "duration": 493,
    "start_time": "2024-02-29T14:49:06.504Z"
   },
   {
    "duration": 2,
    "start_time": "2024-02-29T14:49:13.262Z"
   },
   {
    "duration": 490,
    "start_time": "2024-02-29T14:49:14.005Z"
   },
   {
    "duration": 2,
    "start_time": "2024-02-29T14:49:16.461Z"
   },
   {
    "duration": 493,
    "start_time": "2024-02-29T14:49:17.741Z"
   },
   {
    "duration": 3,
    "start_time": "2024-02-29T14:50:02.405Z"
   },
   {
    "duration": 7,
    "start_time": "2024-02-29T14:50:28.662Z"
   },
   {
    "duration": 518,
    "start_time": "2024-02-29T14:50:35.557Z"
   },
   {
    "duration": 3,
    "start_time": "2024-02-29T14:50:45.685Z"
   },
   {
    "duration": 61,
    "start_time": "2024-02-29T14:50:47.493Z"
   },
   {
    "duration": 3,
    "start_time": "2024-02-29T14:50:54.492Z"
   },
   {
    "duration": 985,
    "start_time": "2024-02-29T14:50:54.877Z"
   },
   {
    "duration": 3,
    "start_time": "2024-02-29T14:50:55.864Z"
   },
   {
    "duration": 4,
    "start_time": "2024-02-29T14:50:55.916Z"
   },
   {
    "duration": 138,
    "start_time": "2024-02-29T14:50:55.922Z"
   },
   {
    "duration": 2,
    "start_time": "2024-02-29T14:50:57.024Z"
   },
   {
    "duration": 617,
    "start_time": "2024-02-29T14:50:59.708Z"
   },
   {
    "duration": 3,
    "start_time": "2024-02-29T14:51:18.725Z"
   },
   {
    "duration": 5935,
    "start_time": "2024-02-29T14:51:19.357Z"
   },
   {
    "duration": 3,
    "start_time": "2024-02-29T14:52:20.972Z"
   },
   {
    "duration": 3,
    "start_time": "2024-02-29T14:52:42.695Z"
   },
   {
    "duration": 5432,
    "start_time": "2024-02-29T14:52:43.779Z"
   },
   {
    "duration": 155,
    "start_time": "2024-02-29T14:54:56.366Z"
   },
   {
    "duration": 146,
    "start_time": "2024-02-29T14:55:36.066Z"
   },
   {
    "duration": 183,
    "start_time": "2024-02-29T14:56:23.049Z"
   },
   {
    "duration": 82,
    "start_time": "2024-02-29T14:56:36.633Z"
   },
   {
    "duration": 71,
    "start_time": "2024-02-29T14:56:44.785Z"
   },
   {
    "duration": 62,
    "start_time": "2024-02-29T14:57:00.593Z"
   },
   {
    "duration": 66,
    "start_time": "2024-02-29T14:57:16.081Z"
   },
   {
    "duration": 60,
    "start_time": "2024-02-29T14:57:30.465Z"
   },
   {
    "duration": 69,
    "start_time": "2024-02-29T14:57:40.912Z"
   },
   {
    "duration": 118,
    "start_time": "2024-02-29T15:16:25.123Z"
   },
   {
    "duration": 81,
    "start_time": "2024-02-29T15:16:41.239Z"
   },
   {
    "duration": 13,
    "start_time": "2024-02-29T15:17:28.915Z"
   },
   {
    "duration": 10,
    "start_time": "2024-02-29T15:18:02.284Z"
   },
   {
    "duration": 12,
    "start_time": "2024-02-29T15:18:08.251Z"
   },
   {
    "duration": 12,
    "start_time": "2024-02-29T15:18:12.143Z"
   },
   {
    "duration": 13,
    "start_time": "2024-02-29T15:18:16.791Z"
   },
   {
    "duration": 19,
    "start_time": "2024-02-29T15:18:37.714Z"
   },
   {
    "duration": 16,
    "start_time": "2024-02-29T15:18:55.793Z"
   },
   {
    "duration": 4718,
    "start_time": "2024-02-29T15:22:10.077Z"
   },
   {
    "duration": 3,
    "start_time": "2024-02-29T15:25:59.227Z"
   },
   {
    "duration": 5,
    "start_time": "2024-02-29T15:27:08.478Z"
   },
   {
    "duration": 378,
    "start_time": "2024-02-29T15:27:12.566Z"
   },
   {
    "duration": 3,
    "start_time": "2024-02-29T15:27:55.145Z"
   },
   {
    "duration": 4981,
    "start_time": "2024-02-29T15:27:56.158Z"
   },
   {
    "duration": 4960,
    "start_time": "2024-02-29T15:30:09.245Z"
   },
   {
    "duration": 5476,
    "start_time": "2024-02-29T15:33:56.837Z"
   },
   {
    "duration": 549,
    "start_time": "2024-02-29T16:42:31.708Z"
   },
   {
    "duration": 64,
    "start_time": "2024-02-29T16:42:32.258Z"
   },
   {
    "duration": 3,
    "start_time": "2024-02-29T16:42:32.323Z"
   },
   {
    "duration": 19,
    "start_time": "2024-02-29T16:42:32.327Z"
   },
   {
    "duration": 4898,
    "start_time": "2024-02-29T16:42:32.348Z"
   },
   {
    "duration": 3,
    "start_time": "2024-02-29T16:42:37.247Z"
   },
   {
    "duration": 493,
    "start_time": "2024-02-29T16:42:37.251Z"
   },
   {
    "duration": 2,
    "start_time": "2024-02-29T16:42:37.745Z"
   },
   {
    "duration": 477,
    "start_time": "2024-02-29T16:42:37.749Z"
   },
   {
    "duration": 64,
    "start_time": "2024-02-29T16:42:38.228Z"
   },
   {
    "duration": 0,
    "start_time": "2024-02-29T16:42:38.294Z"
   },
   {
    "duration": 0,
    "start_time": "2024-02-29T16:42:38.295Z"
   },
   {
    "duration": 0,
    "start_time": "2024-02-29T16:42:38.296Z"
   },
   {
    "duration": 2,
    "start_time": "2024-02-29T16:45:16.347Z"
   },
   {
    "duration": 9,
    "start_time": "2024-02-29T16:45:16.770Z"
   },
   {
    "duration": 2,
    "start_time": "2024-02-29T16:45:25.638Z"
   },
   {
    "duration": 569,
    "start_time": "2024-02-29T16:45:26.050Z"
   },
   {
    "duration": 3,
    "start_time": "2024-02-29T16:46:11.345Z"
   },
   {
    "duration": 484,
    "start_time": "2024-02-29T16:46:11.769Z"
   },
   {
    "duration": 2,
    "start_time": "2024-02-29T16:46:33.873Z"
   },
   {
    "duration": 491,
    "start_time": "2024-02-29T16:46:34.265Z"
   },
   {
    "duration": 537,
    "start_time": "2024-02-29T16:46:42.944Z"
   },
   {
    "duration": 66,
    "start_time": "2024-02-29T16:46:43.482Z"
   },
   {
    "duration": 2,
    "start_time": "2024-02-29T16:46:43.550Z"
   },
   {
    "duration": 15,
    "start_time": "2024-02-29T16:46:43.554Z"
   },
   {
    "duration": 4994,
    "start_time": "2024-02-29T16:46:43.572Z"
   },
   {
    "duration": 3,
    "start_time": "2024-02-29T16:46:48.567Z"
   },
   {
    "duration": 495,
    "start_time": "2024-02-29T16:46:48.571Z"
   },
   {
    "duration": 3,
    "start_time": "2024-02-29T16:46:49.067Z"
   },
   {
    "duration": 469,
    "start_time": "2024-02-29T16:46:49.072Z"
   },
   {
    "duration": 3,
    "start_time": "2024-02-29T16:46:49.542Z"
   },
   {
    "duration": 511,
    "start_time": "2024-02-29T16:46:49.546Z"
   },
   {
    "duration": 3,
    "start_time": "2024-02-29T16:46:50.058Z"
   },
   {
    "duration": 4749,
    "start_time": "2024-02-29T16:46:50.063Z"
   },
   {
    "duration": 4330,
    "start_time": "2024-02-29T16:46:54.815Z"
   },
   {
    "duration": 510,
    "start_time": "2024-02-29T16:47:55.865Z"
   },
   {
    "duration": 61,
    "start_time": "2024-02-29T16:47:56.376Z"
   },
   {
    "duration": 2,
    "start_time": "2024-02-29T16:47:56.439Z"
   },
   {
    "duration": 9,
    "start_time": "2024-02-29T16:47:56.443Z"
   },
   {
    "duration": 4889,
    "start_time": "2024-02-29T16:47:56.453Z"
   },
   {
    "duration": 3,
    "start_time": "2024-02-29T16:48:01.344Z"
   },
   {
    "duration": 541,
    "start_time": "2024-02-29T16:48:01.348Z"
   },
   {
    "duration": 2,
    "start_time": "2024-02-29T16:48:01.891Z"
   },
   {
    "duration": 493,
    "start_time": "2024-02-29T16:48:01.894Z"
   },
   {
    "duration": 3,
    "start_time": "2024-02-29T16:48:02.389Z"
   },
   {
    "duration": 511,
    "start_time": "2024-02-29T16:48:02.393Z"
   },
   {
    "duration": 3,
    "start_time": "2024-02-29T16:48:02.906Z"
   },
   {
    "duration": 4694,
    "start_time": "2024-02-29T16:48:02.911Z"
   },
   {
    "duration": 4219,
    "start_time": "2024-02-29T16:48:07.606Z"
   },
   {
    "duration": 540,
    "start_time": "2024-03-01T12:47:20.143Z"
   },
   {
    "duration": 85,
    "start_time": "2024-03-01T12:47:21.255Z"
   },
   {
    "duration": 2,
    "start_time": "2024-03-01T12:47:22.741Z"
   },
   {
    "duration": 3,
    "start_time": "2024-03-01T12:47:30.247Z"
   },
   {
    "duration": 5608,
    "start_time": "2024-03-01T12:47:30.925Z"
   },
   {
    "duration": 68,
    "start_time": "2024-03-01T12:48:07.382Z"
   },
   {
    "duration": 112,
    "start_time": "2024-03-01T12:48:14.951Z"
   },
   {
    "duration": 4,
    "start_time": "2024-03-01T12:48:42.343Z"
   },
   {
    "duration": 3,
    "start_time": "2024-03-01T12:49:04.951Z"
   },
   {
    "duration": 512,
    "start_time": "2024-03-02T12:45:21.697Z"
   },
   {
    "duration": 84,
    "start_time": "2024-03-02T12:45:22.211Z"
   },
   {
    "duration": 2,
    "start_time": "2024-03-02T12:45:22.391Z"
   },
   {
    "duration": 4,
    "start_time": "2024-03-02T12:45:22.794Z"
   },
   {
    "duration": 3,
    "start_time": "2024-03-02T12:45:30.380Z"
   },
   {
    "duration": 4569,
    "start_time": "2024-03-02T12:45:30.894Z"
   },
   {
    "duration": 364,
    "start_time": "2024-03-02T12:45:48.703Z"
   },
   {
    "duration": 533,
    "start_time": "2024-03-02T12:46:43.597Z"
   },
   {
    "duration": 26,
    "start_time": "2024-03-02T12:47:16.818Z"
   },
   {
    "duration": 1237,
    "start_time": "2024-03-05T14:08:35.724Z"
   },
   {
    "duration": 443,
    "start_time": "2024-03-05T14:09:34.583Z"
   },
   {
    "duration": 78,
    "start_time": "2024-03-05T14:09:35.027Z"
   },
   {
    "duration": 2,
    "start_time": "2024-03-05T14:09:35.107Z"
   },
   {
    "duration": 5,
    "start_time": "2024-03-05T14:09:35.110Z"
   },
   {
    "duration": 5115,
    "start_time": "2024-03-05T14:09:35.117Z"
   },
   {
    "duration": 2,
    "start_time": "2024-03-05T14:09:40.233Z"
   },
   {
    "duration": 571,
    "start_time": "2024-03-05T14:09:40.236Z"
   },
   {
    "duration": 3,
    "start_time": "2024-03-05T14:09:40.808Z"
   },
   {
    "duration": 500,
    "start_time": "2024-03-05T14:09:40.812Z"
   },
   {
    "duration": 3,
    "start_time": "2024-03-05T14:09:41.313Z"
   },
   {
    "duration": 536,
    "start_time": "2024-03-05T14:09:41.317Z"
   },
   {
    "duration": 3,
    "start_time": "2024-03-05T14:09:41.855Z"
   },
   {
    "duration": 4646,
    "start_time": "2024-03-05T14:09:41.859Z"
   },
   {
    "duration": 3,
    "start_time": "2024-03-05T14:09:46.507Z"
   },
   {
    "duration": 470,
    "start_time": "2024-03-05T14:09:46.512Z"
   },
   {
    "duration": 675,
    "start_time": "2024-03-05T14:09:46.984Z"
   },
   {
    "duration": 792,
    "start_time": "2024-03-05T14:09:47.661Z"
   },
   {
    "duration": 29,
    "start_time": "2024-03-05T14:09:48.454Z"
   },
   {
    "duration": 110,
    "start_time": "2024-03-05T14:09:48.484Z"
   },
   {
    "duration": 447,
    "start_time": "2024-03-05T14:11:12.686Z"
   },
   {
    "duration": 3,
    "start_time": "2024-03-05T14:12:54.326Z"
   },
   {
    "duration": 610,
    "start_time": "2024-03-05T14:12:56.046Z"
   },
   {
    "duration": 2,
    "start_time": "2024-03-05T14:13:19.669Z"
   },
   {
    "duration": 589,
    "start_time": "2024-03-05T14:13:20.438Z"
   },
   {
    "duration": 3,
    "start_time": "2024-03-05T14:14:12.140Z"
   },
   {
    "duration": 5414,
    "start_time": "2024-03-05T14:14:12.941Z"
   },
   {
    "duration": 2,
    "start_time": "2024-03-05T14:14:32.020Z"
   },
   {
    "duration": 451,
    "start_time": "2024-03-05T14:14:37.947Z"
   },
   {
    "duration": 4567,
    "start_time": "2024-03-05T14:14:56.709Z"
   },
   {
    "duration": 120,
    "start_time": "2024-03-05T14:15:40.115Z"
   },
   {
    "duration": 108,
    "start_time": "2024-03-05T17:49:10.776Z"
   },
   {
    "duration": 89,
    "start_time": "2024-03-05T17:49:29.373Z"
   },
   {
    "duration": 128,
    "start_time": "2024-03-05T17:49:40.493Z"
   },
   {
    "duration": 83,
    "start_time": "2024-03-05T17:49:46.445Z"
   },
   {
    "duration": 502,
    "start_time": "2024-03-05T19:56:18.329Z"
   },
   {
    "duration": 62,
    "start_time": "2024-03-05T19:56:18.832Z"
   },
   {
    "duration": 3,
    "start_time": "2024-03-05T19:56:18.895Z"
   },
   {
    "duration": 3,
    "start_time": "2024-03-05T19:56:18.899Z"
   },
   {
    "duration": 4599,
    "start_time": "2024-03-05T19:56:18.904Z"
   },
   {
    "duration": 2,
    "start_time": "2024-03-05T19:56:23.504Z"
   },
   {
    "duration": 515,
    "start_time": "2024-03-05T19:56:23.507Z"
   },
   {
    "duration": 2,
    "start_time": "2024-03-05T19:56:24.023Z"
   },
   {
    "duration": 499,
    "start_time": "2024-03-05T19:56:24.026Z"
   },
   {
    "duration": 2,
    "start_time": "2024-03-05T19:56:24.526Z"
   },
   {
    "duration": 561,
    "start_time": "2024-03-05T19:56:24.529Z"
   },
   {
    "duration": 2,
    "start_time": "2024-03-05T19:56:25.092Z"
   },
   {
    "duration": 4652,
    "start_time": "2024-03-05T19:56:25.095Z"
   },
   {
    "duration": 3,
    "start_time": "2024-03-05T19:56:29.749Z"
   },
   {
    "duration": 434,
    "start_time": "2024-03-05T19:56:29.753Z"
   },
   {
    "duration": 653,
    "start_time": "2024-03-05T19:56:30.188Z"
   },
   {
    "duration": 29,
    "start_time": "2024-03-05T19:56:30.843Z"
   },
   {
    "duration": 76,
    "start_time": "2024-03-06T08:33:59.807Z"
   },
   {
    "duration": 565,
    "start_time": "2024-03-06T08:39:41.215Z"
   },
   {
    "duration": 92,
    "start_time": "2024-03-06T08:39:41.782Z"
   },
   {
    "duration": 3,
    "start_time": "2024-03-06T08:39:41.875Z"
   },
   {
    "duration": 42,
    "start_time": "2024-03-06T08:39:41.880Z"
   },
   {
    "duration": 6038,
    "start_time": "2024-03-06T08:39:41.929Z"
   },
   {
    "duration": 3,
    "start_time": "2024-03-06T08:39:47.969Z"
   },
   {
    "duration": 684,
    "start_time": "2024-03-06T08:39:47.974Z"
   },
   {
    "duration": 3,
    "start_time": "2024-03-06T08:39:48.660Z"
   },
   {
    "duration": 574,
    "start_time": "2024-03-06T08:39:48.664Z"
   },
   {
    "duration": 2,
    "start_time": "2024-03-06T08:39:49.240Z"
   },
   {
    "duration": 597,
    "start_time": "2024-03-06T08:39:49.243Z"
   },
   {
    "duration": 3,
    "start_time": "2024-03-06T08:39:49.841Z"
   },
   {
    "duration": 5851,
    "start_time": "2024-03-06T08:39:49.846Z"
   },
   {
    "duration": 6317,
    "start_time": "2024-03-06T08:39:55.699Z"
   },
   {
    "duration": 509,
    "start_time": "2024-03-06T08:40:02.027Z"
   },
   {
    "duration": 718,
    "start_time": "2024-03-06T08:40:02.540Z"
   },
   {
    "duration": 40,
    "start_time": "2024-03-06T08:40:03.259Z"
   },
   {
    "duration": 3,
    "start_time": "2024-03-06T08:49:32.542Z"
   },
   {
    "duration": 5764,
    "start_time": "2024-03-06T08:49:32.921Z"
   },
   {
    "duration": 19,
    "start_time": "2024-03-06T08:50:07.456Z"
   },
   {
    "duration": 160,
    "start_time": "2024-03-06T08:50:22.790Z"
   },
   {
    "duration": 130,
    "start_time": "2024-03-06T08:50:46.844Z"
   },
   {
    "duration": 3,
    "start_time": "2024-03-06T08:58:32.536Z"
   },
   {
    "duration": 5866,
    "start_time": "2024-03-06T08:58:36.001Z"
   },
   {
    "duration": 135,
    "start_time": "2024-03-06T08:58:50.308Z"
   },
   {
    "duration": 596,
    "start_time": "2024-03-06T09:02:19.176Z"
   },
   {
    "duration": 84,
    "start_time": "2024-03-06T09:02:19.774Z"
   },
   {
    "duration": 2,
    "start_time": "2024-03-06T09:02:19.860Z"
   },
   {
    "duration": 67,
    "start_time": "2024-03-06T09:02:19.864Z"
   },
   {
    "duration": 5814,
    "start_time": "2024-03-06T09:02:19.936Z"
   },
   {
    "duration": 3,
    "start_time": "2024-03-06T09:02:25.752Z"
   },
   {
    "duration": 591,
    "start_time": "2024-03-06T09:02:25.758Z"
   },
   {
    "duration": 2,
    "start_time": "2024-03-06T09:02:26.351Z"
   },
   {
    "duration": 589,
    "start_time": "2024-03-06T09:02:26.355Z"
   },
   {
    "duration": 2,
    "start_time": "2024-03-06T09:02:26.946Z"
   },
   {
    "duration": 587,
    "start_time": "2024-03-06T09:02:26.949Z"
   },
   {
    "duration": 3,
    "start_time": "2024-03-06T09:02:27.539Z"
   },
   {
    "duration": 5887,
    "start_time": "2024-03-06T09:02:27.543Z"
   },
   {
    "duration": 2,
    "start_time": "2024-03-06T09:02:33.434Z"
   },
   {
    "duration": 542,
    "start_time": "2024-03-06T09:03:55.174Z"
   },
   {
    "duration": 96,
    "start_time": "2024-03-06T09:03:55.719Z"
   },
   {
    "duration": 3,
    "start_time": "2024-03-06T09:03:55.817Z"
   },
   {
    "duration": 23,
    "start_time": "2024-03-06T09:03:55.822Z"
   },
   {
    "duration": 5923,
    "start_time": "2024-03-06T09:03:55.848Z"
   },
   {
    "duration": 2,
    "start_time": "2024-03-06T09:04:01.772Z"
   },
   {
    "duration": 659,
    "start_time": "2024-03-06T09:04:01.776Z"
   },
   {
    "duration": 3,
    "start_time": "2024-03-06T09:04:02.437Z"
   },
   {
    "duration": 611,
    "start_time": "2024-03-06T09:04:02.443Z"
   },
   {
    "duration": 2,
    "start_time": "2024-03-06T09:04:03.056Z"
   },
   {
    "duration": 597,
    "start_time": "2024-03-06T09:04:03.060Z"
   },
   {
    "duration": 3,
    "start_time": "2024-03-06T09:04:03.659Z"
   },
   {
    "duration": 6252,
    "start_time": "2024-03-06T09:04:03.663Z"
   },
   {
    "duration": 4,
    "start_time": "2024-03-06T09:04:09.917Z"
   },
   {
    "duration": 94,
    "start_time": "2024-03-06T10:13:49.161Z"
   },
   {
    "duration": 72,
    "start_time": "2024-03-06T10:14:52.944Z"
   },
   {
    "duration": 103,
    "start_time": "2024-03-06T10:45:39.052Z"
   },
   {
    "duration": 477,
    "start_time": "2024-03-06T10:46:14.814Z"
   },
   {
    "duration": 1308,
    "start_time": "2024-03-06T10:51:26.248Z"
   },
   {
    "duration": 379,
    "start_time": "2024-03-06T10:51:49.899Z"
   },
   {
    "duration": 3,
    "start_time": "2024-03-06T10:51:52.561Z"
   },
   {
    "duration": 11,
    "start_time": "2024-03-06T10:51:53.127Z"
   },
   {
    "duration": 4,
    "start_time": "2024-03-06T10:53:07.977Z"
   },
   {
    "duration": 5,
    "start_time": "2024-03-06T10:53:26.047Z"
   },
   {
    "duration": 4,
    "start_time": "2024-03-06T10:53:29.775Z"
   },
   {
    "duration": 4,
    "start_time": "2024-03-06T10:54:11.751Z"
   },
   {
    "duration": 34,
    "start_time": "2024-03-06T10:59:11.642Z"
   },
   {
    "duration": 9,
    "start_time": "2024-03-06T11:07:02.223Z"
   },
   {
    "duration": 700,
    "start_time": "2024-03-06T11:07:32.250Z"
   },
   {
    "duration": 5181,
    "start_time": "2024-03-06T11:07:32.952Z"
   },
   {
    "duration": 3786,
    "start_time": "2024-03-06T11:08:56.949Z"
   },
   {
    "duration": 4280,
    "start_time": "2024-03-06T11:10:28.133Z"
   },
   {
    "duration": 4,
    "start_time": "2024-03-06T11:15:26.680Z"
   },
   {
    "duration": 4,
    "start_time": "2024-03-06T11:15:57.057Z"
   },
   {
    "duration": 3,
    "start_time": "2024-03-06T11:16:03.967Z"
   },
   {
    "duration": 4,
    "start_time": "2024-03-06T11:16:26.870Z"
   },
   {
    "duration": 10,
    "start_time": "2024-03-06T11:22:40.395Z"
   },
   {
    "duration": 23,
    "start_time": "2024-03-06T11:22:53.988Z"
   },
   {
    "duration": 4435,
    "start_time": "2024-03-06T11:23:32.636Z"
   },
   {
    "duration": 5392,
    "start_time": "2024-03-06T11:26:39.039Z"
   },
   {
    "duration": 1398,
    "start_time": "2024-03-06T11:46:42.856Z"
   },
   {
    "duration": 82,
    "start_time": "2024-03-06T11:46:44.255Z"
   },
   {
    "duration": 2,
    "start_time": "2024-03-06T11:46:44.338Z"
   },
   {
    "duration": 18,
    "start_time": "2024-03-06T11:46:44.342Z"
   },
   {
    "duration": 5523,
    "start_time": "2024-03-06T11:46:44.362Z"
   },
   {
    "duration": 6,
    "start_time": "2024-03-06T11:46:49.887Z"
   },
   {
    "duration": 577,
    "start_time": "2024-03-06T11:46:49.897Z"
   },
   {
    "duration": 2,
    "start_time": "2024-03-06T11:46:50.475Z"
   },
   {
    "duration": 556,
    "start_time": "2024-03-06T11:46:50.478Z"
   },
   {
    "duration": 3,
    "start_time": "2024-03-06T11:46:51.035Z"
   },
   {
    "duration": 579,
    "start_time": "2024-03-06T11:46:51.039Z"
   },
   {
    "duration": 6,
    "start_time": "2024-03-06T11:46:51.619Z"
   },
   {
    "duration": 5266,
    "start_time": "2024-03-06T11:46:51.626Z"
   },
   {
    "duration": 109,
    "start_time": "2024-03-06T11:46:56.896Z"
   },
   {
    "duration": 1400,
    "start_time": "2024-03-06T11:46:57.007Z"
   },
   {
    "duration": 4,
    "start_time": "2024-03-06T11:46:58.417Z"
   },
   {
    "duration": 86,
    "start_time": "2024-03-06T11:46:58.422Z"
   },
   {
    "duration": 4572,
    "start_time": "2024-03-06T11:46:58.510Z"
   },
   {
    "duration": 27,
    "start_time": "2024-03-06T11:47:03.084Z"
   },
   {
    "duration": 160,
    "start_time": "2024-03-06T11:47:03.121Z"
   },
   {
    "duration": 165,
    "start_time": "2024-03-06T11:47:03.297Z"
   },
   {
    "duration": 4366,
    "start_time": "2024-03-06T11:47:03.464Z"
   },
   {
    "duration": 89,
    "start_time": "2024-03-06T11:47:07.831Z"
   },
   {
    "duration": 1034,
    "start_time": "2024-03-06T11:47:07.922Z"
   },
   {
    "duration": 5088,
    "start_time": "2024-03-06T11:47:08.957Z"
   },
   {
    "duration": 3998,
    "start_time": "2024-03-06T11:48:58.121Z"
   },
   {
    "duration": 3682,
    "start_time": "2024-03-06T11:49:19.240Z"
   },
   {
    "duration": 3,
    "start_time": "2024-03-06T11:51:37.226Z"
   },
   {
    "duration": 182,
    "start_time": "2024-03-06T11:52:46.478Z"
   },
   {
    "duration": 642,
    "start_time": "2024-03-06T11:53:00.140Z"
   },
   {
    "duration": 658,
    "start_time": "2024-03-06T11:53:15.309Z"
   },
   {
    "duration": 347,
    "start_time": "2024-03-06T11:53:43.339Z"
   },
   {
    "duration": 1145,
    "start_time": "2024-03-06T11:55:32.317Z"
   },
   {
    "duration": 285,
    "start_time": "2024-03-06T11:56:36.081Z"
   },
   {
    "duration": 4,
    "start_time": "2024-03-06T12:02:08.852Z"
   },
   {
    "duration": 3,
    "start_time": "2024-03-06T12:02:34.519Z"
   },
   {
    "duration": 1602,
    "start_time": "2024-03-06T12:04:21.208Z"
   },
   {
    "duration": 21,
    "start_time": "2024-03-06T12:04:22.812Z"
   },
   {
    "duration": 3962,
    "start_time": "2024-03-06T12:04:50.703Z"
   },
   {
    "duration": 170,
    "start_time": "2024-03-06T12:07:22.039Z"
   },
   {
    "duration": 255,
    "start_time": "2024-03-06T12:07:26.080Z"
   },
   {
    "duration": 2034,
    "start_time": "2024-03-06T12:08:17.439Z"
   },
   {
    "duration": 2245,
    "start_time": "2024-03-06T12:08:43.232Z"
   },
   {
    "duration": 3865,
    "start_time": "2024-03-06T12:09:44.935Z"
   },
   {
    "duration": 115,
    "start_time": "2024-03-06T12:11:04.879Z"
   },
   {
    "duration": 104,
    "start_time": "2024-03-06T12:11:16.518Z"
   },
   {
    "duration": 110,
    "start_time": "2024-03-06T12:11:26.902Z"
   },
   {
    "duration": 3,
    "start_time": "2024-03-06T12:14:28.597Z"
   },
   {
    "duration": 4,
    "start_time": "2024-03-06T12:14:39.364Z"
   },
   {
    "duration": 2043,
    "start_time": "2024-03-06T12:17:04.112Z"
   },
   {
    "duration": 1999,
    "start_time": "2024-03-06T12:17:44.123Z"
   },
   {
    "duration": 2111,
    "start_time": "2024-03-06T12:17:59.537Z"
   },
   {
    "duration": 4,
    "start_time": "2024-03-06T12:18:27.026Z"
   },
   {
    "duration": 1953,
    "start_time": "2024-03-06T12:18:55.147Z"
   },
   {
    "duration": 1934,
    "start_time": "2024-03-06T12:19:19.555Z"
   },
   {
    "duration": 1951,
    "start_time": "2024-03-06T12:27:36.719Z"
   },
   {
    "duration": 1918,
    "start_time": "2024-03-06T12:28:13.831Z"
   },
   {
    "duration": 105,
    "start_time": "2024-03-06T12:29:16.838Z"
   },
   {
    "duration": 1781,
    "start_time": "2024-03-06T12:29:25.853Z"
   },
   {
    "duration": 156,
    "start_time": "2024-03-06T12:30:44.188Z"
   },
   {
    "duration": 161,
    "start_time": "2024-03-06T12:30:45.629Z"
   },
   {
    "duration": 1932,
    "start_time": "2024-03-06T12:30:54.131Z"
   },
   {
    "duration": 230,
    "start_time": "2024-03-06T12:31:23.851Z"
   },
   {
    "duration": 1764,
    "start_time": "2024-03-06T12:31:26.507Z"
   },
   {
    "duration": 231,
    "start_time": "2024-03-06T12:34:10.488Z"
   },
   {
    "duration": 1827,
    "start_time": "2024-03-06T12:34:10.930Z"
   },
   {
    "duration": 1799,
    "start_time": "2024-03-06T12:35:37.123Z"
   },
   {
    "duration": 36,
    "start_time": "2024-03-06T12:37:17.630Z"
   },
   {
    "duration": 22,
    "start_time": "2024-03-06T12:37:51.131Z"
   },
   {
    "duration": 220,
    "start_time": "2024-03-06T12:38:17.235Z"
   },
   {
    "duration": 1906,
    "start_time": "2024-03-06T12:38:21.012Z"
   },
   {
    "duration": 12,
    "start_time": "2024-03-06T12:38:35.459Z"
   },
   {
    "duration": 1859,
    "start_time": "2024-03-06T12:38:49.379Z"
   },
   {
    "duration": 140,
    "start_time": "2024-03-06T12:39:23.107Z"
   },
   {
    "duration": 444,
    "start_time": "2024-03-06T12:39:48.953Z"
   },
   {
    "duration": 231,
    "start_time": "2024-03-06T12:39:56.785Z"
   },
   {
    "duration": 1856,
    "start_time": "2024-03-06T12:39:58.154Z"
   },
   {
    "duration": 19,
    "start_time": "2024-03-06T12:40:26.265Z"
   },
   {
    "duration": 7,
    "start_time": "2024-03-06T12:40:29.626Z"
   },
   {
    "duration": 15,
    "start_time": "2024-03-06T12:40:37.138Z"
   },
   {
    "duration": 2,
    "start_time": "2024-03-06T12:40:53.864Z"
   },
   {
    "duration": 8577,
    "start_time": "2024-03-06T12:40:55.923Z"
   },
   {
    "duration": 82,
    "start_time": "2024-03-06T12:41:15.653Z"
   },
   {
    "duration": 2329,
    "start_time": "2024-03-06T12:46:33.546Z"
   },
   {
    "duration": 1903,
    "start_time": "2024-03-06T12:47:39.580Z"
   },
   {
    "duration": 2399,
    "start_time": "2024-03-06T12:47:49.779Z"
   },
   {
    "duration": 2357,
    "start_time": "2024-03-06T12:48:24.632Z"
   },
   {
    "duration": 157,
    "start_time": "2024-03-06T12:49:04.393Z"
   },
   {
    "duration": 2344,
    "start_time": "2024-03-06T12:49:05.140Z"
   },
   {
    "duration": 15,
    "start_time": "2024-03-06T12:54:05.797Z"
   },
   {
    "duration": 243,
    "start_time": "2024-03-06T12:55:43.162Z"
   },
   {
    "duration": 2425,
    "start_time": "2024-03-06T12:55:46.142Z"
   },
   {
    "duration": 242,
    "start_time": "2024-03-06T12:56:56.611Z"
   },
   {
    "duration": 231,
    "start_time": "2024-03-06T12:57:03.611Z"
   },
   {
    "duration": 2435,
    "start_time": "2024-03-06T12:57:06.165Z"
   },
   {
    "duration": 1871,
    "start_time": "2024-03-06T12:57:12.062Z"
   },
   {
    "duration": 2366,
    "start_time": "2024-03-06T13:08:15.638Z"
   },
   {
    "duration": 370,
    "start_time": "2024-03-06T13:09:30.581Z"
   },
   {
    "duration": 236,
    "start_time": "2024-03-06T13:09:35.424Z"
   },
   {
    "duration": 1924,
    "start_time": "2024-03-06T13:09:59.381Z"
   },
   {
    "duration": 230,
    "start_time": "2024-03-06T13:10:32.234Z"
   },
   {
    "duration": 2562,
    "start_time": "2024-03-06T13:10:32.873Z"
   },
   {
    "duration": 432,
    "start_time": "2024-03-06T13:11:13.713Z"
   },
   {
    "duration": 224,
    "start_time": "2024-03-06T13:11:17.473Z"
   },
   {
    "duration": 2319,
    "start_time": "2024-03-06T13:11:21.925Z"
   },
   {
    "duration": 230,
    "start_time": "2024-03-06T13:11:38.920Z"
   },
   {
    "duration": 440,
    "start_time": "2024-03-06T13:11:42.447Z"
   },
   {
    "duration": 222,
    "start_time": "2024-03-06T13:11:43.559Z"
   },
   {
    "duration": 1914,
    "start_time": "2024-03-06T13:11:47.927Z"
   },
   {
    "duration": 234,
    "start_time": "2024-03-06T13:12:01.623Z"
   },
   {
    "duration": 2428,
    "start_time": "2024-03-06T13:12:02.424Z"
   },
   {
    "duration": 2367,
    "start_time": "2024-03-06T13:12:46.875Z"
   },
   {
    "duration": 466,
    "start_time": "2024-03-06T13:25:24.182Z"
   },
   {
    "duration": 232,
    "start_time": "2024-03-06T13:25:27.958Z"
   },
   {
    "duration": 406,
    "start_time": "2024-03-06T13:25:43.617Z"
   },
   {
    "duration": 413,
    "start_time": "2024-03-06T13:25:49.956Z"
   },
   {
    "duration": 406,
    "start_time": "2024-03-06T13:26:15.577Z"
   },
   {
    "duration": 808,
    "start_time": "2024-03-06T13:26:38.718Z"
   },
   {
    "duration": 1177,
    "start_time": "2024-03-06T13:26:52.991Z"
   },
   {
    "duration": 439,
    "start_time": "2024-03-06T13:27:02.654Z"
   },
   {
    "duration": 220,
    "start_time": "2024-03-06T13:27:05.149Z"
   },
   {
    "duration": 231,
    "start_time": "2024-03-06T13:27:15.989Z"
   },
   {
    "duration": 1209,
    "start_time": "2024-03-06T13:27:24.860Z"
   },
   {
    "duration": 405,
    "start_time": "2024-03-06T13:28:02.396Z"
   },
   {
    "duration": 780,
    "start_time": "2024-03-06T13:28:12.292Z"
   },
   {
    "duration": 1186,
    "start_time": "2024-03-06T13:29:36.063Z"
   },
   {
    "duration": 1193,
    "start_time": "2024-03-06T13:29:49.386Z"
   },
   {
    "duration": 1195,
    "start_time": "2024-03-06T13:30:05.769Z"
   },
   {
    "duration": 1192,
    "start_time": "2024-03-06T13:30:17.465Z"
   },
   {
    "duration": 107,
    "start_time": "2024-03-06T13:31:09.657Z"
   },
   {
    "duration": 1176,
    "start_time": "2024-03-06T13:31:16.018Z"
   },
   {
    "duration": 1199,
    "start_time": "2024-03-06T13:32:38.744Z"
   },
   {
    "duration": 389,
    "start_time": "2024-03-06T13:33:13.959Z"
   },
   {
    "duration": 388,
    "start_time": "2024-03-06T13:33:26.128Z"
   },
   {
    "duration": 387,
    "start_time": "2024-03-06T13:33:31.991Z"
   },
   {
    "duration": 399,
    "start_time": "2024-03-06T13:33:49.615Z"
   },
   {
    "duration": 1927,
    "start_time": "2024-03-06T13:34:34.791Z"
   },
   {
    "duration": 1974,
    "start_time": "2024-03-06T13:34:53.382Z"
   },
   {
    "duration": 319,
    "start_time": "2024-03-06T13:39:28.219Z"
   },
   {
    "duration": 301,
    "start_time": "2024-03-06T13:39:32.866Z"
   },
   {
    "duration": 180,
    "start_time": "2024-03-06T13:39:39.733Z"
   },
   {
    "duration": 360,
    "start_time": "2024-03-06T13:40:11.729Z"
   },
   {
    "duration": 1545,
    "start_time": "2024-03-06T13:41:57.161Z"
   },
   {
    "duration": 1551,
    "start_time": "2024-03-06T13:42:40.169Z"
   },
   {
    "duration": 255,
    "start_time": "2024-03-06T13:43:28.026Z"
   },
   {
    "duration": 3,
    "start_time": "2024-03-06T13:43:47.253Z"
   },
   {
    "duration": 671,
    "start_time": "2024-03-06T13:44:16.930Z"
   },
   {
    "duration": 390,
    "start_time": "2024-03-06T13:47:12.763Z"
   },
   {
    "duration": 402,
    "start_time": "2024-03-06T13:47:36.917Z"
   },
   {
    "duration": 11,
    "start_time": "2024-03-06T13:49:16.930Z"
   },
   {
    "duration": 11,
    "start_time": "2024-03-06T13:49:22.846Z"
   },
   {
    "duration": 1098,
    "start_time": "2024-03-06T13:49:27.619Z"
   },
   {
    "duration": 1092,
    "start_time": "2024-03-06T13:50:22.220Z"
   },
   {
    "duration": 1115,
    "start_time": "2024-03-06T13:50:29.219Z"
   },
   {
    "duration": 83,
    "start_time": "2024-03-06T13:53:36.074Z"
   },
   {
    "duration": 3,
    "start_time": "2024-03-06T14:05:33.149Z"
   },
   {
    "duration": 560,
    "start_time": "2024-03-06T14:05:56.820Z"
   },
   {
    "duration": 2,
    "start_time": "2024-03-06T14:07:22.740Z"
   },
   {
    "duration": 548,
    "start_time": "2024-03-06T14:07:23.220Z"
   },
   {
    "duration": 88,
    "start_time": "2024-03-06T14:11:06.339Z"
   },
   {
    "duration": 3,
    "start_time": "2024-03-06T14:20:56.441Z"
   },
   {
    "duration": 5210,
    "start_time": "2024-03-06T14:20:57.033Z"
   },
   {
    "duration": 5272,
    "start_time": "2024-03-06T14:21:28.964Z"
   },
   {
    "duration": 472,
    "start_time": "2024-03-06T14:22:01.534Z"
   },
   {
    "duration": 43,
    "start_time": "2024-03-06T14:23:21.640Z"
   },
   {
    "duration": 6,
    "start_time": "2024-03-06T14:23:28.100Z"
   },
   {
    "duration": 1379,
    "start_time": "2024-03-06T14:23:39.657Z"
   },
   {
    "duration": 87,
    "start_time": "2024-03-06T14:23:41.038Z"
   },
   {
    "duration": 3,
    "start_time": "2024-03-06T14:23:41.126Z"
   },
   {
    "duration": 54,
    "start_time": "2024-03-06T14:23:41.130Z"
   },
   {
    "duration": 5104,
    "start_time": "2024-03-06T14:23:41.186Z"
   },
   {
    "duration": 3,
    "start_time": "2024-03-06T14:23:46.291Z"
   },
   {
    "duration": 577,
    "start_time": "2024-03-06T14:23:46.296Z"
   },
   {
    "duration": 3,
    "start_time": "2024-03-06T14:23:46.874Z"
   },
   {
    "duration": 561,
    "start_time": "2024-03-06T14:23:46.879Z"
   },
   {
    "duration": 2,
    "start_time": "2024-03-06T14:23:47.442Z"
   },
   {
    "duration": 547,
    "start_time": "2024-03-06T14:23:47.446Z"
   },
   {
    "duration": 4,
    "start_time": "2024-03-06T14:23:47.994Z"
   },
   {
    "duration": 4785,
    "start_time": "2024-03-06T14:23:47.999Z"
   },
   {
    "duration": 85,
    "start_time": "2024-03-06T14:23:52.786Z"
   },
   {
    "duration": 4,
    "start_time": "2024-03-06T14:23:52.873Z"
   },
   {
    "duration": 2338,
    "start_time": "2024-03-06T14:23:52.878Z"
   },
   {
    "duration": 2563,
    "start_time": "2024-03-06T14:23:55.217Z"
   },
   {
    "duration": 647,
    "start_time": "2024-03-06T14:23:57.782Z"
   },
   {
    "duration": 173,
    "start_time": "2024-03-06T14:23:58.431Z"
   },
   {
    "duration": 2020,
    "start_time": "2024-03-06T14:23:58.605Z"
   },
   {
    "duration": 424,
    "start_time": "2024-03-06T14:24:00.627Z"
   },
   {
    "duration": 2362,
    "start_time": "2024-03-06T14:24:01.053Z"
   },
   {
    "duration": 187,
    "start_time": "2024-03-06T14:24:03.417Z"
   },
   {
    "duration": 1768,
    "start_time": "2024-03-06T14:24:03.606Z"
   },
   {
    "duration": 1193,
    "start_time": "2024-03-06T14:24:05.376Z"
   },
   {
    "duration": 3,
    "start_time": "2024-03-06T14:24:06.570Z"
   },
   {
    "duration": 52,
    "start_time": "2024-03-06T14:24:06.574Z"
   },
   {
    "duration": 1130,
    "start_time": "2024-03-06T14:24:06.627Z"
   },
   {
    "duration": 268,
    "start_time": "2024-03-06T14:24:07.758Z"
   },
   {
    "duration": 240,
    "start_time": "2024-03-06T14:24:08.027Z"
   },
   {
    "duration": 78,
    "start_time": "2024-03-06T14:24:08.269Z"
   },
   {
    "duration": 5204,
    "start_time": "2024-03-06T14:24:08.352Z"
   },
   {
    "duration": 55,
    "start_time": "2024-03-06T14:24:13.557Z"
   },
   {
    "duration": 456,
    "start_time": "2024-03-06T14:24:13.613Z"
   },
   {
    "duration": 2,
    "start_time": "2024-03-06T14:24:14.070Z"
   },
   {
    "duration": 1299,
    "start_time": "2024-03-06T14:49:40.087Z"
   },
   {
    "duration": 76,
    "start_time": "2024-03-06T14:49:41.388Z"
   },
   {
    "duration": 2,
    "start_time": "2024-03-06T14:49:41.466Z"
   },
   {
    "duration": 20,
    "start_time": "2024-03-06T14:49:41.469Z"
   },
   {
    "duration": 5003,
    "start_time": "2024-03-06T14:49:41.491Z"
   },
   {
    "duration": 3,
    "start_time": "2024-03-06T14:49:46.495Z"
   },
   {
    "duration": 614,
    "start_time": "2024-03-06T14:49:46.499Z"
   },
   {
    "duration": 3,
    "start_time": "2024-03-06T14:49:47.114Z"
   },
   {
    "duration": 571,
    "start_time": "2024-03-06T14:49:47.118Z"
   },
   {
    "duration": 2,
    "start_time": "2024-03-06T14:49:47.691Z"
   },
   {
    "duration": 555,
    "start_time": "2024-03-06T14:49:47.695Z"
   },
   {
    "duration": 4,
    "start_time": "2024-03-06T14:49:48.251Z"
   },
   {
    "duration": 4820,
    "start_time": "2024-03-06T14:49:48.256Z"
   },
   {
    "duration": 90,
    "start_time": "2024-03-06T14:49:53.079Z"
   },
   {
    "duration": 3,
    "start_time": "2024-03-06T14:49:53.171Z"
   },
   {
    "duration": 2294,
    "start_time": "2024-03-06T14:49:53.175Z"
   },
   {
    "duration": 2592,
    "start_time": "2024-03-06T14:49:55.472Z"
   },
   {
    "duration": 620,
    "start_time": "2024-03-06T14:49:58.066Z"
   },
   {
    "duration": 167,
    "start_time": "2024-03-06T14:49:58.688Z"
   },
   {
    "duration": 1996,
    "start_time": "2024-03-06T14:49:58.856Z"
   },
   {
    "duration": 451,
    "start_time": "2024-03-06T14:50:00.854Z"
   },
   {
    "duration": 2358,
    "start_time": "2024-03-06T14:50:01.307Z"
   },
   {
    "duration": 159,
    "start_time": "2024-03-06T14:50:03.667Z"
   },
   {
    "duration": 1821,
    "start_time": "2024-03-06T14:50:03.827Z"
   },
   {
    "duration": 1207,
    "start_time": "2024-03-06T14:50:05.650Z"
   },
   {
    "duration": 2,
    "start_time": "2024-03-06T14:50:06.859Z"
   },
   {
    "duration": 105,
    "start_time": "2024-03-06T14:50:06.863Z"
   },
   {
    "duration": 1165,
    "start_time": "2024-03-06T14:50:06.969Z"
   },
   {
    "duration": 275,
    "start_time": "2024-03-06T14:50:08.136Z"
   },
   {
    "duration": 130,
    "start_time": "2024-03-06T14:50:08.412Z"
   },
   {
    "duration": 2,
    "start_time": "2024-03-06T14:50:08.544Z"
   },
   {
    "duration": 5187,
    "start_time": "2024-03-06T14:50:08.547Z"
   },
   {
    "duration": 59,
    "start_time": "2024-03-06T14:50:13.735Z"
   },
   {
    "duration": 488,
    "start_time": "2024-03-06T14:50:13.795Z"
   },
   {
    "duration": 4345,
    "start_time": "2024-03-06T14:50:14.284Z"
   },
   {
    "duration": 102,
    "start_time": "2024-03-06T16:04:44.342Z"
   },
   {
    "duration": 1256,
    "start_time": "2024-03-06T16:05:45.832Z"
   },
   {
    "duration": 88,
    "start_time": "2024-03-06T16:05:47.090Z"
   },
   {
    "duration": 3,
    "start_time": "2024-03-06T16:05:47.179Z"
   },
   {
    "duration": 32,
    "start_time": "2024-03-06T16:05:47.183Z"
   },
   {
    "duration": 4929,
    "start_time": "2024-03-06T16:05:47.217Z"
   },
   {
    "duration": 3,
    "start_time": "2024-03-06T16:05:52.147Z"
   },
   {
    "duration": 569,
    "start_time": "2024-03-06T16:05:52.151Z"
   },
   {
    "duration": 3,
    "start_time": "2024-03-06T16:05:52.722Z"
   },
   {
    "duration": 562,
    "start_time": "2024-03-06T16:05:52.727Z"
   },
   {
    "duration": 2,
    "start_time": "2024-03-06T16:05:53.291Z"
   },
   {
    "duration": 547,
    "start_time": "2024-03-06T16:05:53.294Z"
   },
   {
    "duration": 3,
    "start_time": "2024-03-06T16:05:53.842Z"
   },
   {
    "duration": 4835,
    "start_time": "2024-03-06T16:05:53.846Z"
   },
   {
    "duration": 88,
    "start_time": "2024-03-06T16:05:58.683Z"
   },
   {
    "duration": 3,
    "start_time": "2024-03-06T16:05:58.773Z"
   },
   {
    "duration": 2301,
    "start_time": "2024-03-06T16:05:58.777Z"
   },
   {
    "duration": 2567,
    "start_time": "2024-03-06T16:06:01.081Z"
   },
   {
    "duration": 634,
    "start_time": "2024-03-06T16:06:03.650Z"
   },
   {
    "duration": 162,
    "start_time": "2024-03-06T16:06:04.285Z"
   },
   {
    "duration": 1958,
    "start_time": "2024-03-06T16:06:04.448Z"
   },
   {
    "duration": 442,
    "start_time": "2024-03-06T16:06:06.408Z"
   },
   {
    "duration": 2467,
    "start_time": "2024-03-06T16:06:06.852Z"
   },
   {
    "duration": 183,
    "start_time": "2024-03-06T16:06:09.321Z"
   },
   {
    "duration": 2705,
    "start_time": "2024-03-06T16:06:09.505Z"
   },
   {
    "duration": 1339,
    "start_time": "2024-03-06T16:06:12.212Z"
   },
   {
    "duration": 2,
    "start_time": "2024-03-06T16:06:13.553Z"
   },
   {
    "duration": 74,
    "start_time": "2024-03-06T16:06:13.556Z"
   },
   {
    "duration": 1149,
    "start_time": "2024-03-06T16:06:13.631Z"
   },
   {
    "duration": 289,
    "start_time": "2024-03-06T16:06:14.782Z"
   },
   {
    "duration": 409,
    "start_time": "2024-03-06T16:06:15.072Z"
   },
   {
    "duration": 45,
    "start_time": "2024-03-06T16:06:15.482Z"
   },
   {
    "duration": 6085,
    "start_time": "2024-03-06T16:06:15.528Z"
   },
   {
    "duration": 51,
    "start_time": "2024-03-06T16:06:21.614Z"
   },
   {
    "duration": 473,
    "start_time": "2024-03-06T16:06:21.667Z"
   },
   {
    "duration": 3622,
    "start_time": "2024-03-06T16:06:22.142Z"
   },
   {
    "duration": 3,
    "start_time": "2024-03-06T16:19:15.694Z"
   },
   {
    "duration": 85,
    "start_time": "2024-03-07T03:23:29.849Z"
   },
   {
    "duration": 1260,
    "start_time": "2024-05-09T15:07:16.362Z"
   },
   {
    "duration": 75,
    "start_time": "2024-05-09T15:07:17.623Z"
   },
   {
    "duration": 2,
    "start_time": "2024-05-09T15:07:17.699Z"
   },
   {
    "duration": 6,
    "start_time": "2024-05-09T15:07:17.702Z"
   },
   {
    "duration": 4509,
    "start_time": "2024-05-09T15:07:17.711Z"
   },
   {
    "duration": 2,
    "start_time": "2024-05-09T15:07:22.221Z"
   },
   {
    "duration": 596,
    "start_time": "2024-05-09T15:07:22.225Z"
   },
   {
    "duration": 2,
    "start_time": "2024-05-09T15:07:22.822Z"
   },
   {
    "duration": 582,
    "start_time": "2024-05-09T15:07:22.825Z"
   },
   {
    "duration": 2,
    "start_time": "2024-05-09T15:07:23.408Z"
   },
   {
    "duration": 547,
    "start_time": "2024-05-09T15:07:23.412Z"
   },
   {
    "duration": 2,
    "start_time": "2024-05-09T15:07:23.961Z"
   },
   {
    "duration": 4150,
    "start_time": "2024-05-09T15:07:23.965Z"
   },
   {
    "duration": 86,
    "start_time": "2024-05-09T15:07:28.117Z"
   },
   {
    "duration": 4,
    "start_time": "2024-05-09T15:07:28.205Z"
   },
   {
    "duration": 2087,
    "start_time": "2024-05-09T15:07:28.210Z"
   },
   {
    "duration": 2425,
    "start_time": "2024-05-09T15:07:30.299Z"
   },
   {
    "duration": 508,
    "start_time": "2024-05-09T15:07:32.726Z"
   },
   {
    "duration": 135,
    "start_time": "2024-05-09T15:07:33.236Z"
   },
   {
    "duration": 1758,
    "start_time": "2024-05-09T15:07:33.373Z"
   },
   {
    "duration": 360,
    "start_time": "2024-05-09T15:07:35.133Z"
   },
   {
    "duration": 2139,
    "start_time": "2024-05-09T15:07:35.495Z"
   },
   {
    "duration": 157,
    "start_time": "2024-05-09T15:07:37.635Z"
   },
   {
    "duration": 1567,
    "start_time": "2024-05-09T15:07:37.793Z"
   },
   {
    "duration": 1073,
    "start_time": "2024-05-09T15:07:39.362Z"
   },
   {
    "duration": 2,
    "start_time": "2024-05-09T15:07:40.436Z"
   },
   {
    "duration": 71,
    "start_time": "2024-05-09T15:07:40.439Z"
   },
   {
    "duration": 953,
    "start_time": "2024-05-09T15:07:40.511Z"
   },
   {
    "duration": 208,
    "start_time": "2024-05-09T15:07:41.465Z"
   },
   {
    "duration": 84,
    "start_time": "2024-05-09T15:07:41.674Z"
   },
   {
    "duration": 2,
    "start_time": "2024-05-09T15:07:41.760Z"
   },
   {
    "duration": 4459,
    "start_time": "2024-05-09T15:07:41.764Z"
   },
   {
    "duration": 60,
    "start_time": "2024-05-09T15:07:46.225Z"
   },
   {
    "duration": 405,
    "start_time": "2024-05-09T15:07:46.287Z"
   },
   {
    "duration": 3177,
    "start_time": "2024-05-09T15:07:46.694Z"
   },
   {
    "duration": 47,
    "start_time": "2024-12-16T14:48:08.014Z"
   },
   {
    "duration": 1597,
    "start_time": "2024-12-16T14:48:11.469Z"
   },
   {
    "duration": 88,
    "start_time": "2024-12-16T14:48:13.135Z"
   }
  ],
  "kernelspec": {
   "display_name": "Python 3 (ipykernel)",
   "language": "python",
   "name": "python3"
  },
  "language_info": {
   "codemirror_mode": {
    "name": "ipython",
    "version": 3
   },
   "file_extension": ".py",
   "mimetype": "text/x-python",
   "name": "python",
   "nbconvert_exporter": "python",
   "pygments_lexer": "ipython3",
   "version": "3.9.20"
  },
  "toc": {
   "base_numbering": 1,
   "nav_menu": {},
   "number_sections": true,
   "sideBar": true,
   "skip_h1_title": true,
   "title_cell": "Table of Contents",
   "title_sidebar": "Contents",
   "toc_cell": false,
   "toc_position": {},
   "toc_section_display": true,
   "toc_window_display": true
  }
 },
 "nbformat": 4,
 "nbformat_minor": 5
}
