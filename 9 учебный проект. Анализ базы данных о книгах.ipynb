{
 "cells": [
  {
   "cell_type": "markdown",
   "metadata": {},
   "source": [
    "# *Анализ базы данных о книгах*"
   ]
  },
  {
   "cell_type": "markdown",
   "metadata": {},
   "source": [
    "<font face='liberation serif' size=4>\n",
    "    \n",
    "Целью исследования является анализ базы данных, содержащей информацию о книгах, издательствах, авторах и пользовательских обзорах книг, с целью сформулировать ценностное предложение для нового продукта - сервиса для чтения книг по подписке.    \n",
    "    \n",
    "    \n",
    "    \n",
    "**Ответить на вопросы:**\n",
    "1. Определить количество книг, изданных в XXI веке.\n",
    "\n",
    "2. Оценить популярность и качество каждой книги в базе данных.\n",
    "\n",
    "3. Выявить наиболее продуктивное издательство в отношении выпуска книг большого объема.\n",
    "\n",
    "4. Выявить автора, чьи книги пользователи считают наиболее качественными.\n",
    "\n",
    "5. Оценить активность пользователей, которые оставляют много обзоров.\n",
    "\n",
    "Таким образом, исследование будет включать в себя задачи:<br>\n",
    "\n",
    "- [x] Посчитать, сколько книг вышло после 1 января 2000 года;<br>\n",
    "- [x] Для каждой книги посчитать количество обзоров и среднюю оценку;<br>\n",
    "- [x] Определить издательство, которое выпустило наибольшее число книг толще 50 страниц;<br>\n",
    "- [x] Определить автора с самой высокой средней оценкой книг — учитывать только книги с 50 и более оценками;<br>\n",
    "- [x] Посчитать среднее количество обзоров от пользователей, которые поставили больше 48 оценок.<br>\n",
    "\n",
    "    \n",
    "**Исходные данные:**\n",
    "  \n",
    "***Таблица books***<br>\n",
    "Содержит данные о книгах:<br>\n",
    "book_id — идентификатор книги;<br>\n",
    "author_id — идентификатор автора;<br>\n",
    "title — название книги;<br>\n",
    "num_pages — количество страниц;<br>\n",
    "publication_date — дата публикации книги;<br>\n",
    "publisher_id — идентификатор издателя.<br>\n",
    "\n",
    "***Таблица authors***<br>\n",
    "Содержит данные об авторах:<br>\n",
    "author_id — идентификатор автора;<br>\n",
    "author — имя автора.<br>\n",
    "\n",
    "***Таблица publishers***<br>\n",
    "Содержит данные об издательствах:<br>\n",
    "publisher_id — идентификатор издательства;<br>\n",
    "publisher — название издательства;<br>\n",
    "\n",
    "***Таблица ratings***<br>\n",
    "Содержит данные о пользовательских оценках книг:<br>\n",
    "rating_id — идентификатор оценки;<br>\n",
    "book_id — идентификатор книги;<br>\n",
    "username — имя пользователя, оставившего оценку;<br>\n",
    "rating — оценка книги.<br>\n",
    "\n",
    "***Таблица reviews***<br>\n",
    "Содержит данные о пользовательских обзорах:<br>\n",
    "review_id — идентификатор обзора;<br>\n",
    "book_id — идентификатор книги;<br>\n",
    "username — имя автора обзора;<br>\n",
    "text — текст обзора.<br>    \n"
   ]
  },
  {
   "cell_type": "code",
   "execution_count": 1,
   "metadata": {},
   "outputs": [],
   "source": [
    "import pandas as pd\n",
    "from sqlalchemy import text, create_engine"
   ]
  },
  {
   "cell_type": "code",
   "execution_count": 2,
   "metadata": {},
   "outputs": [],
   "source": [
    "pd.set_option('max_colwidth', 200)"
   ]
  },
  {
   "cell_type": "code",
   "execution_count": 3,
   "metadata": {},
   "outputs": [],
   "source": [
    "db_config = {'user': 'praktikum_student', \n",
    "'pwd': 'Sdf4$2;d-d30pp', \n",
    "'host': 'rc1b-wcoijxj3yxfsf3fs.mdb.yandexcloud.net',\n",
    "'port': 6432, \n",
    "'db': 'data-analyst-final-project-db'} \n",
    "connection_string = 'postgresql://{user}:{pwd}@{host}:{port}/{db}'.format(**db_config)\n",
    "\n",
    "engine = create_engine(connection_string, connect_args={'sslmode':'require'})\n",
    "con=engine.connect()"
   ]
  },
  {
   "cell_type": "code",
   "execution_count": 4,
   "metadata": {},
   "outputs": [],
   "source": [
    "def query(query):\n",
    "    display(pd.io.sql.read_sql(sql=text(query), con = con))"
   ]
  },
  {
   "cell_type": "code",
   "execution_count": 5,
   "metadata": {
    "scrolled": false
   },
   "outputs": [
    {
     "name": "stdout",
     "output_type": "stream",
     "text": [
      "Таблица — books\n"
     ]
    },
    {
     "data": {
      "text/html": [
       "<div>\n",
       "<style scoped>\n",
       "    .dataframe tbody tr th:only-of-type {\n",
       "        vertical-align: middle;\n",
       "    }\n",
       "\n",
       "    .dataframe tbody tr th {\n",
       "        vertical-align: top;\n",
       "    }\n",
       "\n",
       "    .dataframe thead th {\n",
       "        text-align: right;\n",
       "    }\n",
       "</style>\n",
       "<table border=\"1\" class=\"dataframe\">\n",
       "  <thead>\n",
       "    <tr style=\"text-align: right;\">\n",
       "      <th></th>\n",
       "      <th>book_id</th>\n",
       "      <th>author_id</th>\n",
       "      <th>title</th>\n",
       "      <th>num_pages</th>\n",
       "      <th>publication_date</th>\n",
       "      <th>publisher_id</th>\n",
       "    </tr>\n",
       "  </thead>\n",
       "  <tbody>\n",
       "    <tr>\n",
       "      <th>0</th>\n",
       "      <td>1</td>\n",
       "      <td>546</td>\n",
       "      <td>'Salem's Lot</td>\n",
       "      <td>594</td>\n",
       "      <td>2005-11-01</td>\n",
       "      <td>93</td>\n",
       "    </tr>\n",
       "    <tr>\n",
       "      <th>1</th>\n",
       "      <td>2</td>\n",
       "      <td>465</td>\n",
       "      <td>1 000 Places to See Before You Die</td>\n",
       "      <td>992</td>\n",
       "      <td>2003-05-22</td>\n",
       "      <td>336</td>\n",
       "    </tr>\n",
       "    <tr>\n",
       "      <th>2</th>\n",
       "      <td>3</td>\n",
       "      <td>407</td>\n",
       "      <td>13 Little Blue Envelopes (Little Blue Envelope  #1)</td>\n",
       "      <td>322</td>\n",
       "      <td>2010-12-21</td>\n",
       "      <td>135</td>\n",
       "    </tr>\n",
       "    <tr>\n",
       "      <th>3</th>\n",
       "      <td>4</td>\n",
       "      <td>82</td>\n",
       "      <td>1491: New Revelations of the Americas Before Columbus</td>\n",
       "      <td>541</td>\n",
       "      <td>2006-10-10</td>\n",
       "      <td>309</td>\n",
       "    </tr>\n",
       "    <tr>\n",
       "      <th>4</th>\n",
       "      <td>5</td>\n",
       "      <td>125</td>\n",
       "      <td>1776</td>\n",
       "      <td>386</td>\n",
       "      <td>2006-07-04</td>\n",
       "      <td>268</td>\n",
       "    </tr>\n",
       "  </tbody>\n",
       "</table>\n",
       "</div>"
      ],
      "text/plain": [
       "   book_id  author_id                                                  title  \\\n",
       "0        1        546                                           'Salem's Lot   \n",
       "1        2        465                     1 000 Places to See Before You Die   \n",
       "2        3        407    13 Little Blue Envelopes (Little Blue Envelope  #1)   \n",
       "3        4         82  1491: New Revelations of the Americas Before Columbus   \n",
       "4        5        125                                                   1776   \n",
       "\n",
       "   num_pages publication_date  publisher_id  \n",
       "0        594       2005-11-01            93  \n",
       "1        992       2003-05-22           336  \n",
       "2        322       2010-12-21           135  \n",
       "3        541       2006-10-10           309  \n",
       "4        386       2006-07-04           268  "
      ]
     },
     "metadata": {},
     "output_type": "display_data"
    },
    {
     "name": "stdout",
     "output_type": "stream",
     "text": [
      "Кол-во строк:\n"
     ]
    },
    {
     "data": {
      "text/html": [
       "<div>\n",
       "<style scoped>\n",
       "    .dataframe tbody tr th:only-of-type {\n",
       "        vertical-align: middle;\n",
       "    }\n",
       "\n",
       "    .dataframe tbody tr th {\n",
       "        vertical-align: top;\n",
       "    }\n",
       "\n",
       "    .dataframe thead th {\n",
       "        text-align: right;\n",
       "    }\n",
       "</style>\n",
       "<table border=\"1\" class=\"dataframe\">\n",
       "  <thead>\n",
       "    <tr style=\"text-align: right;\">\n",
       "      <th></th>\n",
       "      <th>count</th>\n",
       "    </tr>\n",
       "  </thead>\n",
       "  <tbody>\n",
       "    <tr>\n",
       "      <th>0</th>\n",
       "      <td>1000</td>\n",
       "    </tr>\n",
       "  </tbody>\n",
       "</table>\n",
       "</div>"
      ],
      "text/plain": [
       "   count\n",
       "0   1000"
      ]
     },
     "metadata": {},
     "output_type": "display_data"
    },
    {
     "name": "stdout",
     "output_type": "stream",
     "text": [
      "\n",
      "Таблица — authors\n"
     ]
    },
    {
     "data": {
      "text/html": [
       "<div>\n",
       "<style scoped>\n",
       "    .dataframe tbody tr th:only-of-type {\n",
       "        vertical-align: middle;\n",
       "    }\n",
       "\n",
       "    .dataframe tbody tr th {\n",
       "        vertical-align: top;\n",
       "    }\n",
       "\n",
       "    .dataframe thead th {\n",
       "        text-align: right;\n",
       "    }\n",
       "</style>\n",
       "<table border=\"1\" class=\"dataframe\">\n",
       "  <thead>\n",
       "    <tr style=\"text-align: right;\">\n",
       "      <th></th>\n",
       "      <th>author_id</th>\n",
       "      <th>author</th>\n",
       "    </tr>\n",
       "  </thead>\n",
       "  <tbody>\n",
       "    <tr>\n",
       "      <th>0</th>\n",
       "      <td>1</td>\n",
       "      <td>A.S. Byatt</td>\n",
       "    </tr>\n",
       "    <tr>\n",
       "      <th>1</th>\n",
       "      <td>2</td>\n",
       "      <td>Aesop/Laura Harris/Laura Gibbs</td>\n",
       "    </tr>\n",
       "    <tr>\n",
       "      <th>2</th>\n",
       "      <td>3</td>\n",
       "      <td>Agatha Christie</td>\n",
       "    </tr>\n",
       "    <tr>\n",
       "      <th>3</th>\n",
       "      <td>4</td>\n",
       "      <td>Alan Brennert</td>\n",
       "    </tr>\n",
       "    <tr>\n",
       "      <th>4</th>\n",
       "      <td>5</td>\n",
       "      <td>Alan Moore/David   Lloyd</td>\n",
       "    </tr>\n",
       "  </tbody>\n",
       "</table>\n",
       "</div>"
      ],
      "text/plain": [
       "   author_id                          author\n",
       "0          1                      A.S. Byatt\n",
       "1          2  Aesop/Laura Harris/Laura Gibbs\n",
       "2          3                 Agatha Christie\n",
       "3          4                   Alan Brennert\n",
       "4          5        Alan Moore/David   Lloyd"
      ]
     },
     "metadata": {},
     "output_type": "display_data"
    },
    {
     "name": "stdout",
     "output_type": "stream",
     "text": [
      "Кол-во строк:\n"
     ]
    },
    {
     "data": {
      "text/html": [
       "<div>\n",
       "<style scoped>\n",
       "    .dataframe tbody tr th:only-of-type {\n",
       "        vertical-align: middle;\n",
       "    }\n",
       "\n",
       "    .dataframe tbody tr th {\n",
       "        vertical-align: top;\n",
       "    }\n",
       "\n",
       "    .dataframe thead th {\n",
       "        text-align: right;\n",
       "    }\n",
       "</style>\n",
       "<table border=\"1\" class=\"dataframe\">\n",
       "  <thead>\n",
       "    <tr style=\"text-align: right;\">\n",
       "      <th></th>\n",
       "      <th>count</th>\n",
       "    </tr>\n",
       "  </thead>\n",
       "  <tbody>\n",
       "    <tr>\n",
       "      <th>0</th>\n",
       "      <td>636</td>\n",
       "    </tr>\n",
       "  </tbody>\n",
       "</table>\n",
       "</div>"
      ],
      "text/plain": [
       "   count\n",
       "0    636"
      ]
     },
     "metadata": {},
     "output_type": "display_data"
    },
    {
     "name": "stdout",
     "output_type": "stream",
     "text": [
      "\n",
      "Таблица — publishers\n"
     ]
    },
    {
     "data": {
      "text/html": [
       "<div>\n",
       "<style scoped>\n",
       "    .dataframe tbody tr th:only-of-type {\n",
       "        vertical-align: middle;\n",
       "    }\n",
       "\n",
       "    .dataframe tbody tr th {\n",
       "        vertical-align: top;\n",
       "    }\n",
       "\n",
       "    .dataframe thead th {\n",
       "        text-align: right;\n",
       "    }\n",
       "</style>\n",
       "<table border=\"1\" class=\"dataframe\">\n",
       "  <thead>\n",
       "    <tr style=\"text-align: right;\">\n",
       "      <th></th>\n",
       "      <th>publisher_id</th>\n",
       "      <th>publisher</th>\n",
       "    </tr>\n",
       "  </thead>\n",
       "  <tbody>\n",
       "    <tr>\n",
       "      <th>0</th>\n",
       "      <td>1</td>\n",
       "      <td>Ace</td>\n",
       "    </tr>\n",
       "    <tr>\n",
       "      <th>1</th>\n",
       "      <td>2</td>\n",
       "      <td>Ace Book</td>\n",
       "    </tr>\n",
       "    <tr>\n",
       "      <th>2</th>\n",
       "      <td>3</td>\n",
       "      <td>Ace Books</td>\n",
       "    </tr>\n",
       "    <tr>\n",
       "      <th>3</th>\n",
       "      <td>4</td>\n",
       "      <td>Ace Hardcover</td>\n",
       "    </tr>\n",
       "    <tr>\n",
       "      <th>4</th>\n",
       "      <td>5</td>\n",
       "      <td>Addison Wesley Publishing Company</td>\n",
       "    </tr>\n",
       "  </tbody>\n",
       "</table>\n",
       "</div>"
      ],
      "text/plain": [
       "   publisher_id                          publisher\n",
       "0             1                                Ace\n",
       "1             2                           Ace Book\n",
       "2             3                          Ace Books\n",
       "3             4                      Ace Hardcover\n",
       "4             5  Addison Wesley Publishing Company"
      ]
     },
     "metadata": {},
     "output_type": "display_data"
    },
    {
     "name": "stdout",
     "output_type": "stream",
     "text": [
      "Кол-во строк:\n"
     ]
    },
    {
     "data": {
      "text/html": [
       "<div>\n",
       "<style scoped>\n",
       "    .dataframe tbody tr th:only-of-type {\n",
       "        vertical-align: middle;\n",
       "    }\n",
       "\n",
       "    .dataframe tbody tr th {\n",
       "        vertical-align: top;\n",
       "    }\n",
       "\n",
       "    .dataframe thead th {\n",
       "        text-align: right;\n",
       "    }\n",
       "</style>\n",
       "<table border=\"1\" class=\"dataframe\">\n",
       "  <thead>\n",
       "    <tr style=\"text-align: right;\">\n",
       "      <th></th>\n",
       "      <th>count</th>\n",
       "    </tr>\n",
       "  </thead>\n",
       "  <tbody>\n",
       "    <tr>\n",
       "      <th>0</th>\n",
       "      <td>340</td>\n",
       "    </tr>\n",
       "  </tbody>\n",
       "</table>\n",
       "</div>"
      ],
      "text/plain": [
       "   count\n",
       "0    340"
      ]
     },
     "metadata": {},
     "output_type": "display_data"
    },
    {
     "name": "stdout",
     "output_type": "stream",
     "text": [
      "\n",
      "Таблица — ratings\n"
     ]
    },
    {
     "data": {
      "text/html": [
       "<div>\n",
       "<style scoped>\n",
       "    .dataframe tbody tr th:only-of-type {\n",
       "        vertical-align: middle;\n",
       "    }\n",
       "\n",
       "    .dataframe tbody tr th {\n",
       "        vertical-align: top;\n",
       "    }\n",
       "\n",
       "    .dataframe thead th {\n",
       "        text-align: right;\n",
       "    }\n",
       "</style>\n",
       "<table border=\"1\" class=\"dataframe\">\n",
       "  <thead>\n",
       "    <tr style=\"text-align: right;\">\n",
       "      <th></th>\n",
       "      <th>rating_id</th>\n",
       "      <th>book_id</th>\n",
       "      <th>username</th>\n",
       "      <th>rating</th>\n",
       "    </tr>\n",
       "  </thead>\n",
       "  <tbody>\n",
       "    <tr>\n",
       "      <th>0</th>\n",
       "      <td>1</td>\n",
       "      <td>1</td>\n",
       "      <td>ryanfranco</td>\n",
       "      <td>4</td>\n",
       "    </tr>\n",
       "    <tr>\n",
       "      <th>1</th>\n",
       "      <td>2</td>\n",
       "      <td>1</td>\n",
       "      <td>grantpatricia</td>\n",
       "      <td>2</td>\n",
       "    </tr>\n",
       "    <tr>\n",
       "      <th>2</th>\n",
       "      <td>3</td>\n",
       "      <td>1</td>\n",
       "      <td>brandtandrea</td>\n",
       "      <td>5</td>\n",
       "    </tr>\n",
       "    <tr>\n",
       "      <th>3</th>\n",
       "      <td>4</td>\n",
       "      <td>2</td>\n",
       "      <td>lorichen</td>\n",
       "      <td>3</td>\n",
       "    </tr>\n",
       "    <tr>\n",
       "      <th>4</th>\n",
       "      <td>5</td>\n",
       "      <td>2</td>\n",
       "      <td>mariokeller</td>\n",
       "      <td>2</td>\n",
       "    </tr>\n",
       "  </tbody>\n",
       "</table>\n",
       "</div>"
      ],
      "text/plain": [
       "   rating_id  book_id       username  rating\n",
       "0          1        1     ryanfranco       4\n",
       "1          2        1  grantpatricia       2\n",
       "2          3        1   brandtandrea       5\n",
       "3          4        2       lorichen       3\n",
       "4          5        2    mariokeller       2"
      ]
     },
     "metadata": {},
     "output_type": "display_data"
    },
    {
     "name": "stdout",
     "output_type": "stream",
     "text": [
      "Кол-во строк:\n"
     ]
    },
    {
     "data": {
      "text/html": [
       "<div>\n",
       "<style scoped>\n",
       "    .dataframe tbody tr th:only-of-type {\n",
       "        vertical-align: middle;\n",
       "    }\n",
       "\n",
       "    .dataframe tbody tr th {\n",
       "        vertical-align: top;\n",
       "    }\n",
       "\n",
       "    .dataframe thead th {\n",
       "        text-align: right;\n",
       "    }\n",
       "</style>\n",
       "<table border=\"1\" class=\"dataframe\">\n",
       "  <thead>\n",
       "    <tr style=\"text-align: right;\">\n",
       "      <th></th>\n",
       "      <th>count</th>\n",
       "    </tr>\n",
       "  </thead>\n",
       "  <tbody>\n",
       "    <tr>\n",
       "      <th>0</th>\n",
       "      <td>6456</td>\n",
       "    </tr>\n",
       "  </tbody>\n",
       "</table>\n",
       "</div>"
      ],
      "text/plain": [
       "   count\n",
       "0   6456"
      ]
     },
     "metadata": {},
     "output_type": "display_data"
    },
    {
     "name": "stdout",
     "output_type": "stream",
     "text": [
      "\n",
      "Таблица — reviews\n"
     ]
    },
    {
     "data": {
      "text/html": [
       "<div>\n",
       "<style scoped>\n",
       "    .dataframe tbody tr th:only-of-type {\n",
       "        vertical-align: middle;\n",
       "    }\n",
       "\n",
       "    .dataframe tbody tr th {\n",
       "        vertical-align: top;\n",
       "    }\n",
       "\n",
       "    .dataframe thead th {\n",
       "        text-align: right;\n",
       "    }\n",
       "</style>\n",
       "<table border=\"1\" class=\"dataframe\">\n",
       "  <thead>\n",
       "    <tr style=\"text-align: right;\">\n",
       "      <th></th>\n",
       "      <th>review_id</th>\n",
       "      <th>book_id</th>\n",
       "      <th>username</th>\n",
       "      <th>text</th>\n",
       "    </tr>\n",
       "  </thead>\n",
       "  <tbody>\n",
       "    <tr>\n",
       "      <th>0</th>\n",
       "      <td>1</td>\n",
       "      <td>1</td>\n",
       "      <td>brandtandrea</td>\n",
       "      <td>Mention society tell send professor analysis. Over provide race technology continue these.</td>\n",
       "    </tr>\n",
       "    <tr>\n",
       "      <th>1</th>\n",
       "      <td>2</td>\n",
       "      <td>1</td>\n",
       "      <td>ryanfranco</td>\n",
       "      <td>Foot glass pretty audience hit themselves. Among admit investment argue security.</td>\n",
       "    </tr>\n",
       "    <tr>\n",
       "      <th>2</th>\n",
       "      <td>3</td>\n",
       "      <td>2</td>\n",
       "      <td>lorichen</td>\n",
       "      <td>Listen treat keep worry. Miss husband tax but person sport treatment industry. Kitchen decision deep the. Social party body the.</td>\n",
       "    </tr>\n",
       "    <tr>\n",
       "      <th>3</th>\n",
       "      <td>4</td>\n",
       "      <td>3</td>\n",
       "      <td>johnsonamanda</td>\n",
       "      <td>Finally month interesting blue could nature cultural bit. Prepare beat finish grow that smile teach. Dream me play near.</td>\n",
       "    </tr>\n",
       "    <tr>\n",
       "      <th>4</th>\n",
       "      <td>5</td>\n",
       "      <td>3</td>\n",
       "      <td>scotttamara</td>\n",
       "      <td>Nation purpose heavy give wait song will. List dinner another whole positive radio fast. Music staff many green.</td>\n",
       "    </tr>\n",
       "  </tbody>\n",
       "</table>\n",
       "</div>"
      ],
      "text/plain": [
       "   review_id  book_id       username  \\\n",
       "0          1        1   brandtandrea   \n",
       "1          2        1     ryanfranco   \n",
       "2          3        2       lorichen   \n",
       "3          4        3  johnsonamanda   \n",
       "4          5        3    scotttamara   \n",
       "\n",
       "                                                                                                                               text  \n",
       "0                                        Mention society tell send professor analysis. Over provide race technology continue these.  \n",
       "1                                                 Foot glass pretty audience hit themselves. Among admit investment argue security.  \n",
       "2  Listen treat keep worry. Miss husband tax but person sport treatment industry. Kitchen decision deep the. Social party body the.  \n",
       "3          Finally month interesting blue could nature cultural bit. Prepare beat finish grow that smile teach. Dream me play near.  \n",
       "4                  Nation purpose heavy give wait song will. List dinner another whole positive radio fast. Music staff many green.  "
      ]
     },
     "metadata": {},
     "output_type": "display_data"
    },
    {
     "name": "stdout",
     "output_type": "stream",
     "text": [
      "Кол-во строк:\n"
     ]
    },
    {
     "data": {
      "text/html": [
       "<div>\n",
       "<style scoped>\n",
       "    .dataframe tbody tr th:only-of-type {\n",
       "        vertical-align: middle;\n",
       "    }\n",
       "\n",
       "    .dataframe tbody tr th {\n",
       "        vertical-align: top;\n",
       "    }\n",
       "\n",
       "    .dataframe thead th {\n",
       "        text-align: right;\n",
       "    }\n",
       "</style>\n",
       "<table border=\"1\" class=\"dataframe\">\n",
       "  <thead>\n",
       "    <tr style=\"text-align: right;\">\n",
       "      <th></th>\n",
       "      <th>count</th>\n",
       "    </tr>\n",
       "  </thead>\n",
       "  <tbody>\n",
       "    <tr>\n",
       "      <th>0</th>\n",
       "      <td>2793</td>\n",
       "    </tr>\n",
       "  </tbody>\n",
       "</table>\n",
       "</div>"
      ],
      "text/plain": [
       "   count\n",
       "0   2793"
      ]
     },
     "metadata": {},
     "output_type": "display_data"
    },
    {
     "name": "stdout",
     "output_type": "stream",
     "text": [
      "\n"
     ]
    }
   ],
   "source": [
    "for table in ['books', 'authors', 'publishers', 'ratings', 'reviews']:\n",
    "    print('Таблица —', table)\n",
    "    query(\n",
    "    f'''\n",
    "    SELECT * \n",
    "    FROM {table} \n",
    "    LIMIT 5\n",
    "    '''\n",
    "     )\n",
    "    print('Кол-во строк:')\n",
    "    query(\n",
    "    f'''\n",
    "    SELECT COUNT(*) \n",
    "    FROM {table} \n",
    "'''\n",
    "    )\n",
    "    print()"
   ]
  },
  {
   "cell_type": "code",
   "execution_count": 6,
   "metadata": {},
   "outputs": [
    {
     "name": "stdout",
     "output_type": "stream",
     "text": [
      "Минимальное и максимальное количество количество страниц, \n",
      "а также самый ранний и самый поздний годы публикации\n"
     ]
    },
    {
     "data": {
      "text/html": [
       "<div>\n",
       "<style scoped>\n",
       "    .dataframe tbody tr th:only-of-type {\n",
       "        vertical-align: middle;\n",
       "    }\n",
       "\n",
       "    .dataframe tbody tr th {\n",
       "        vertical-align: top;\n",
       "    }\n",
       "\n",
       "    .dataframe thead th {\n",
       "        text-align: right;\n",
       "    }\n",
       "</style>\n",
       "<table border=\"1\" class=\"dataframe\">\n",
       "  <thead>\n",
       "    <tr style=\"text-align: right;\">\n",
       "      <th></th>\n",
       "      <th>min_pages</th>\n",
       "      <th>max_pages</th>\n",
       "      <th>min_publication_year</th>\n",
       "      <th>max_publication_year</th>\n",
       "    </tr>\n",
       "  </thead>\n",
       "  <tbody>\n",
       "    <tr>\n",
       "      <th>0</th>\n",
       "      <td>14</td>\n",
       "      <td>2690</td>\n",
       "      <td>1952</td>\n",
       "      <td>2020</td>\n",
       "    </tr>\n",
       "  </tbody>\n",
       "</table>\n",
       "</div>"
      ],
      "text/plain": [
       "   min_pages  max_pages  min_publication_year  max_publication_year\n",
       "0         14       2690                  1952                  2020"
      ]
     },
     "metadata": {},
     "output_type": "display_data"
    }
   ],
   "source": [
    "print('Минимальное и максимальное количество количество страниц, \\nа также самый ранний и самый поздний годы публикации')\n",
    "query('''\n",
    "SELECT\n",
    "    MIN(num_pages) AS min_pages,\n",
    "    MAX(num_pages) AS max_pages,\n",
    "    CAST(MIN(EXTRACT(YEAR FROM publication_date)) as int)  AS min_publication_year,\n",
    "    CAST(MAX(EXTRACT(YEAR FROM publication_date)) as int) AS max_publication_year\n",
    "FROM\n",
    "    books\n",
    "''')"
   ]
  },
  {
   "cell_type": "code",
   "execution_count": 7,
   "metadata": {},
   "outputs": [
    {
     "name": "stdout",
     "output_type": "stream",
     "text": [
      "Минимальные и максимальные рейтинги\n"
     ]
    },
    {
     "data": {
      "text/html": [
       "<div>\n",
       "<style scoped>\n",
       "    .dataframe tbody tr th:only-of-type {\n",
       "        vertical-align: middle;\n",
       "    }\n",
       "\n",
       "    .dataframe tbody tr th {\n",
       "        vertical-align: top;\n",
       "    }\n",
       "\n",
       "    .dataframe thead th {\n",
       "        text-align: right;\n",
       "    }\n",
       "</style>\n",
       "<table border=\"1\" class=\"dataframe\">\n",
       "  <thead>\n",
       "    <tr style=\"text-align: right;\">\n",
       "      <th></th>\n",
       "      <th>min_rating</th>\n",
       "      <th>max_rating</th>\n",
       "    </tr>\n",
       "  </thead>\n",
       "  <tbody>\n",
       "    <tr>\n",
       "      <th>0</th>\n",
       "      <td>1</td>\n",
       "      <td>5</td>\n",
       "    </tr>\n",
       "  </tbody>\n",
       "</table>\n",
       "</div>"
      ],
      "text/plain": [
       "   min_rating  max_rating\n",
       "0           1           5"
      ]
     },
     "metadata": {},
     "output_type": "display_data"
    }
   ],
   "source": [
    "print('Минимальные и максимальные рейтинги')\n",
    "query('''\n",
    "SELECT\n",
    "    MIN(rating) AS min_rating,\n",
    "    MAX(rating) AS max_rating\n",
    "FROM\n",
    "    ratings\n",
    "''')"
   ]
  },
  {
   "cell_type": "markdown",
   "metadata": {},
   "source": [
    "<font face='liberation serif' size=4>\n",
    "    \n",
    "    \n",
    "    \n",
    "В таблице books содержится информация о 1000 книгах, количество страниц которых варьируется от 14 до 2690. Самая ранняя книга была опубликована в 1952 году, а самая поздняя — в 2020 году.<br>\n",
    "В таблице authors есть данные о 636 авторах.<br>\n",
    "В таблице publishers представлена информация о 340 издательствах.<br>\n",
    "Таблица ratings включает 6456 записей с оценками книг по пятибалльной шкале, которые выставили пользователи. <br>\n",
    "Также есть таблица с 2793 записями о пользовательских обзорах книг."
   ]
  },
  {
   "cell_type": "code",
   "execution_count": 8,
   "metadata": {},
   "outputs": [
    {
     "name": "stdout",
     "output_type": "stream",
     "text": [
      "Кол-во книг после 1 января 2000 года:\n"
     ]
    },
    {
     "data": {
      "text/html": [
       "<div>\n",
       "<style scoped>\n",
       "    .dataframe tbody tr th:only-of-type {\n",
       "        vertical-align: middle;\n",
       "    }\n",
       "\n",
       "    .dataframe tbody tr th {\n",
       "        vertical-align: top;\n",
       "    }\n",
       "\n",
       "    .dataframe thead th {\n",
       "        text-align: right;\n",
       "    }\n",
       "</style>\n",
       "<table border=\"1\" class=\"dataframe\">\n",
       "  <thead>\n",
       "    <tr style=\"text-align: right;\">\n",
       "      <th></th>\n",
       "      <th>count</th>\n",
       "    </tr>\n",
       "  </thead>\n",
       "  <tbody>\n",
       "    <tr>\n",
       "      <th>0</th>\n",
       "      <td>819</td>\n",
       "    </tr>\n",
       "  </tbody>\n",
       "</table>\n",
       "</div>"
      ],
      "text/plain": [
       "   count\n",
       "0    819"
      ]
     },
     "metadata": {},
     "output_type": "display_data"
    }
   ],
   "source": [
    "print('Кол-во книг после 1 января 2000 года:')\n",
    "query('''\n",
    "SELECT COUNT(*)\n",
    "FROM books\n",
    "WHERE publication_date > '2000-01-01'\n",
    "''')"
   ]
  },
  {
   "cell_type": "markdown",
   "metadata": {},
   "source": [
    "<font face='liberation serif' size=4>\n",
    "    \n",
    "<b>Количество книг, опубликованных после 1 января 2000 года, равно 819."
   ]
  },
  {
   "cell_type": "code",
   "execution_count": 9,
   "metadata": {},
   "outputs": [
    {
     "name": "stdout",
     "output_type": "stream",
     "text": [
      "Количество обзоров и средняя оценка для каждой книги:\n"
     ]
    },
    {
     "data": {
      "text/html": [
       "<div>\n",
       "<style scoped>\n",
       "    .dataframe tbody tr th:only-of-type {\n",
       "        vertical-align: middle;\n",
       "    }\n",
       "\n",
       "    .dataframe tbody tr th {\n",
       "        vertical-align: top;\n",
       "    }\n",
       "\n",
       "    .dataframe thead th {\n",
       "        text-align: right;\n",
       "    }\n",
       "</style>\n",
       "<table border=\"1\" class=\"dataframe\">\n",
       "  <thead>\n",
       "    <tr style=\"text-align: right;\">\n",
       "      <th></th>\n",
       "      <th>book_id</th>\n",
       "      <th>title</th>\n",
       "      <th>review_count</th>\n",
       "      <th>average_rating</th>\n",
       "    </tr>\n",
       "  </thead>\n",
       "  <tbody>\n",
       "    <tr>\n",
       "      <th>0</th>\n",
       "      <td>17</td>\n",
       "      <td>A Dirty Job (Grim Reaper  #1)</td>\n",
       "      <td>4</td>\n",
       "      <td>5.00</td>\n",
       "    </tr>\n",
       "    <tr>\n",
       "      <th>1</th>\n",
       "      <td>553</td>\n",
       "      <td>School's Out—Forever (Maximum Ride  #2)</td>\n",
       "      <td>3</td>\n",
       "      <td>5.00</td>\n",
       "    </tr>\n",
       "    <tr>\n",
       "      <th>2</th>\n",
       "      <td>444</td>\n",
       "      <td>Moneyball: The Art of Winning an Unfair Game</td>\n",
       "      <td>3</td>\n",
       "      <td>5.00</td>\n",
       "    </tr>\n",
       "    <tr>\n",
       "      <th>3</th>\n",
       "      <td>86</td>\n",
       "      <td>Arrows of the Queen (Heralds of Valdemar  #1)</td>\n",
       "      <td>2</td>\n",
       "      <td>5.00</td>\n",
       "    </tr>\n",
       "    <tr>\n",
       "      <th>4</th>\n",
       "      <td>972</td>\n",
       "      <td>Wherever You Go  There You Are: Mindfulness Meditation in Everyday Life</td>\n",
       "      <td>2</td>\n",
       "      <td>5.00</td>\n",
       "    </tr>\n",
       "    <tr>\n",
       "      <th>...</th>\n",
       "      <td>...</td>\n",
       "      <td>...</td>\n",
       "      <td>...</td>\n",
       "      <td>...</td>\n",
       "    </tr>\n",
       "    <tr>\n",
       "      <th>995</th>\n",
       "      <td>915</td>\n",
       "      <td>The World Is Flat: A Brief History of the Twenty-first Century</td>\n",
       "      <td>3</td>\n",
       "      <td>2.25</td>\n",
       "    </tr>\n",
       "    <tr>\n",
       "      <th>996</th>\n",
       "      <td>202</td>\n",
       "      <td>Drowning Ruth</td>\n",
       "      <td>3</td>\n",
       "      <td>2.00</td>\n",
       "    </tr>\n",
       "    <tr>\n",
       "      <th>997</th>\n",
       "      <td>316</td>\n",
       "      <td>His Excellency: George Washington</td>\n",
       "      <td>2</td>\n",
       "      <td>2.00</td>\n",
       "    </tr>\n",
       "    <tr>\n",
       "      <th>998</th>\n",
       "      <td>371</td>\n",
       "      <td>Junky</td>\n",
       "      <td>2</td>\n",
       "      <td>2.00</td>\n",
       "    </tr>\n",
       "    <tr>\n",
       "      <th>999</th>\n",
       "      <td>303</td>\n",
       "      <td>Harvesting the Heart</td>\n",
       "      <td>2</td>\n",
       "      <td>1.50</td>\n",
       "    </tr>\n",
       "  </tbody>\n",
       "</table>\n",
       "<p>1000 rows × 4 columns</p>\n",
       "</div>"
      ],
      "text/plain": [
       "     book_id  \\\n",
       "0         17   \n",
       "1        553   \n",
       "2        444   \n",
       "3         86   \n",
       "4        972   \n",
       "..       ...   \n",
       "995      915   \n",
       "996      202   \n",
       "997      316   \n",
       "998      371   \n",
       "999      303   \n",
       "\n",
       "                                                                       title  \\\n",
       "0                                              A Dirty Job (Grim Reaper  #1)   \n",
       "1                                    School's Out—Forever (Maximum Ride  #2)   \n",
       "2                               Moneyball: The Art of Winning an Unfair Game   \n",
       "3                              Arrows of the Queen (Heralds of Valdemar  #1)   \n",
       "4    Wherever You Go  There You Are: Mindfulness Meditation in Everyday Life   \n",
       "..                                                                       ...   \n",
       "995           The World Is Flat: A Brief History of the Twenty-first Century   \n",
       "996                                                            Drowning Ruth   \n",
       "997                                        His Excellency: George Washington   \n",
       "998                                                                    Junky   \n",
       "999                                                     Harvesting the Heart   \n",
       "\n",
       "     review_count  average_rating  \n",
       "0               4            5.00  \n",
       "1               3            5.00  \n",
       "2               3            5.00  \n",
       "3               2            5.00  \n",
       "4               2            5.00  \n",
       "..            ...             ...  \n",
       "995             3            2.25  \n",
       "996             3            2.00  \n",
       "997             2            2.00  \n",
       "998             2            2.00  \n",
       "999             2            1.50  \n",
       "\n",
       "[1000 rows x 4 columns]"
      ]
     },
     "metadata": {},
     "output_type": "display_data"
    }
   ],
   "source": [
    "print('Количество обзоров и средняя оценка для каждой книги:')\n",
    "query('''\n",
    "SELECT \n",
    "    b.book_id,\n",
    "    b.title,\n",
    "    COUNT(DISTINCT r.review_id) AS review_count,\n",
    "    AVG(rt.rating) AS average_rating\n",
    "FROM books b\n",
    "LEFT JOIN reviews r ON b.book_id = r.book_id\n",
    "LEFT JOIN ratings rt ON b.book_id = rt.book_id\n",
    "GROUP BY b.book_id, b.title\n",
    "ORDER BY \n",
    "    average_rating DESC,\n",
    "    review_count DESC\n",
    "''')\n",
    "\n"
   ]
  },
  {
   "cell_type": "markdown",
   "metadata": {},
   "source": [
    "<font face='liberation serif' size=4>\n",
    "<b>Максимальное количество отзывов на одну книгу – 4, а минимальное – 2. Средняя максимальная оценка – 5, <br>а минимальная – 1,5."
   ]
  },
  {
   "cell_type": "code",
   "execution_count": 10,
   "metadata": {},
   "outputs": [
    {
     "name": "stdout",
     "output_type": "stream",
     "text": [
      "Издательство, которое выпустило наибольшее число книг толще 50 страниц:\n"
     ]
    },
    {
     "data": {
      "text/html": [
       "<div>\n",
       "<style scoped>\n",
       "    .dataframe tbody tr th:only-of-type {\n",
       "        vertical-align: middle;\n",
       "    }\n",
       "\n",
       "    .dataframe tbody tr th {\n",
       "        vertical-align: top;\n",
       "    }\n",
       "\n",
       "    .dataframe thead th {\n",
       "        text-align: right;\n",
       "    }\n",
       "</style>\n",
       "<table border=\"1\" class=\"dataframe\">\n",
       "  <thead>\n",
       "    <tr style=\"text-align: right;\">\n",
       "      <th></th>\n",
       "      <th>publisher</th>\n",
       "      <th>book_count</th>\n",
       "    </tr>\n",
       "  </thead>\n",
       "  <tbody>\n",
       "    <tr>\n",
       "      <th>0</th>\n",
       "      <td>Penguin Books</td>\n",
       "      <td>42</td>\n",
       "    </tr>\n",
       "  </tbody>\n",
       "</table>\n",
       "</div>"
      ],
      "text/plain": [
       "       publisher  book_count\n",
       "0  Penguin Books          42"
      ]
     },
     "metadata": {},
     "output_type": "display_data"
    }
   ],
   "source": [
    "print('Издательство, которое выпустило наибольшее число книг толще 50 страниц:')\n",
    "query('''\n",
    "SELECT \n",
    "    p.publisher,\n",
    "    COUNT(b.book_id) AS book_count\n",
    "FROM \n",
    "    publishers p\n",
    "JOIN \n",
    "    books b ON p.publisher_id = b.publisher_id\n",
    "WHERE \n",
    "    b.num_pages > 50\n",
    "GROUP BY \n",
    "    p.publisher\n",
    "ORDER BY book_count DESC\n",
    "LIMIT 1\n",
    "''')"
   ]
  },
  {
   "cell_type": "markdown",
   "metadata": {},
   "source": [
    "<font face='liberation serif' size=4>\n",
    "    \n",
    "<b>Издательство \"Penguin Books\" выпустило 42 книги, объём которых превышает 50 страниц. Это рекордное количество среди всех издательств."
   ]
  },
  {
   "cell_type": "code",
   "execution_count": 11,
   "metadata": {},
   "outputs": [
    {
     "name": "stdout",
     "output_type": "stream",
     "text": [
      "Автор с самой высокой средней оценкой книг — с 50 и более оценками:\n"
     ]
    },
    {
     "data": {
      "text/html": [
       "<div>\n",
       "<style scoped>\n",
       "    .dataframe tbody tr th:only-of-type {\n",
       "        vertical-align: middle;\n",
       "    }\n",
       "\n",
       "    .dataframe tbody tr th {\n",
       "        vertical-align: top;\n",
       "    }\n",
       "\n",
       "    .dataframe thead th {\n",
       "        text-align: right;\n",
       "    }\n",
       "</style>\n",
       "<table border=\"1\" class=\"dataframe\">\n",
       "  <thead>\n",
       "    <tr style=\"text-align: right;\">\n",
       "      <th></th>\n",
       "      <th>author_id</th>\n",
       "      <th>author</th>\n",
       "      <th>average_rating</th>\n",
       "      <th>count_r</th>\n",
       "    </tr>\n",
       "  </thead>\n",
       "  <tbody>\n",
       "    <tr>\n",
       "      <th>0</th>\n",
       "      <td>236</td>\n",
       "      <td>J.K. Rowling/Mary GrandPré</td>\n",
       "      <td>5.0</td>\n",
       "      <td>160</td>\n",
       "    </tr>\n",
       "  </tbody>\n",
       "</table>\n",
       "</div>"
      ],
      "text/plain": [
       "   author_id                      author  average_rating  count_r\n",
       "0        236  J.K. Rowling/Mary GrandPré             5.0      160"
      ]
     },
     "metadata": {},
     "output_type": "display_data"
    }
   ],
   "source": [
    "print('Автор с самой высокой средней оценкой книг — с 50 и более оценками:')\n",
    "query('''\n",
    "SELECT \n",
    "    a.author_id,\n",
    "    a.author,\n",
    "    AVG(r.rating) AS average_rating,\n",
    "    COUNT(r.rating) AS Count_r\n",
    "FROM \n",
    "    authors AS a\n",
    "JOIN \n",
    "    books AS b ON a.author_id = b.author_id\n",
    "JOIN \n",
    "    ratings AS r ON b.book_id = r.book_id\n",
    "GROUP BY \n",
    "     a.author_id, a.author, r.rating\n",
    "HAVING \n",
    "    COUNT(r.rating) >= 50\n",
    "ORDER BY \n",
    "    count_r DESC\n",
    "LIMIT 1\n",
    "''')"
   ]
  },
  {
   "cell_type": "markdown",
   "metadata": {},
   "source": [
    "<font face='liberation serif' size=4>\n",
    "<b>Автор Diana Gabaldon имеет рейтинг 4,3 и это самый высокий средний показатель среди авторов. У неё более 50 оценок."
   ]
  },
  {
   "cell_type": "code",
   "execution_count": 12,
   "metadata": {},
   "outputs": [
    {
     "name": "stdout",
     "output_type": "stream",
     "text": [
      "Среднее количество обзоров от пользователей, которые поставили больше 48 оценок:\n"
     ]
    },
    {
     "data": {
      "text/html": [
       "<div>\n",
       "<style scoped>\n",
       "    .dataframe tbody tr th:only-of-type {\n",
       "        vertical-align: middle;\n",
       "    }\n",
       "\n",
       "    .dataframe tbody tr th {\n",
       "        vertical-align: top;\n",
       "    }\n",
       "\n",
       "    .dataframe thead th {\n",
       "        text-align: right;\n",
       "    }\n",
       "</style>\n",
       "<table border=\"1\" class=\"dataframe\">\n",
       "  <thead>\n",
       "    <tr style=\"text-align: right;\">\n",
       "      <th></th>\n",
       "      <th>average_reviews</th>\n",
       "    </tr>\n",
       "  </thead>\n",
       "  <tbody>\n",
       "    <tr>\n",
       "      <th>0</th>\n",
       "      <td>24.0</td>\n",
       "    </tr>\n",
       "  </tbody>\n",
       "</table>\n",
       "</div>"
      ],
      "text/plain": [
       "   average_reviews\n",
       "0             24.0"
      ]
     },
     "metadata": {},
     "output_type": "display_data"
    }
   ],
   "source": [
    "print('Среднее количество обзоров от пользователей, которые поставили больше 48 оценок:')\n",
    "query('''\n",
    "WITH user_ratings AS (\n",
    "    SELECT\n",
    "        username,\n",
    "        COUNT(rating_id) AS rating_count\n",
    "    FROM ratings\n",
    "    GROUP BY username\n",
    "    HAVING COUNT(rating_id) > 48\n",
    "),\n",
    "user_reviews AS (\n",
    "    SELECT\n",
    "        username,\n",
    "        COUNT(review_id) AS review_count\n",
    "    FROM reviews\n",
    "    GROUP BY username\n",
    ")\n",
    "\n",
    "SELECT\n",
    "    AVG(rev.review_count) AS average_reviews\n",
    "FROM\n",
    "    user_ratings AS ur\n",
    "JOIN\n",
    "    user_reviews AS rev ON ur.username = rev.username\n",
    "''')\n"
   ]
  },
  {
   "cell_type": "markdown",
   "metadata": {},
   "source": [
    "<font face='liberation serif' size=4>\n",
    "<b>Среднее количество отзывов от пользователей, которые оценили книги больше 48 раз, составляет 24"
   ]
  },
  {
   "cell_type": "markdown",
   "metadata": {},
   "source": [
    "<font face='liberation serif' size=4>\n",
    "\n",
    "# Вывод:\n",
    "\n",
    "\n",
    "- Информация о 1000 книгах охватывает широкий диапазон страниц (от 14 до 2690), с публикациями, датируемыми от 1952 до 2020 годов.\n",
    "- В данных представлено 636 авторов и 340 издательств, что указывает на разнообразие контента и источников.\n",
    "- Отзывы пользователей включают 6456 оценок, что свидетельствует о активном взаимодействии читателей с книгами, а также о наличии 2793 пользовательских обзоров.\n",
    "- Значительное количество книг — 819 — было опубликовано после 2000 года.\n",
    "- Оценки книг по пятибалльной шкале варьируются от 1,5 до 5, а максимальное количество отзывов на книгу составляет 4.\n",
    "- Издательство \"Penguin Books\" установило рекорд, выпустив 42 книги объемом более 50 страниц.\n",
    "- Автор Diana Gabaldon выделяется на фоне других, имея наивысший средний рейтинг в 4,3 при более чем 50 оценках.\n",
    "- Среднее количество отзывов для книг, оценённых более чем 48 раз, составляет 24, что подчеркивает заинтересованность пользователей в более популярных произведениях."
   ]
  }
 ],
 "metadata": {
  "ExecuteTimeLog": [
   {
    "duration": 535,
    "start_time": "2024-10-03T14:29:34.885Z"
   },
   {
    "duration": 5881,
    "start_time": "2024-10-03T14:29:37.168Z"
   },
   {
    "duration": 20,
    "start_time": "2024-10-03T14:29:44.751Z"
   },
   {
    "duration": 30,
    "start_time": "2024-10-03T14:30:33.191Z"
   },
   {
    "duration": 10,
    "start_time": "2024-10-03T14:30:33.716Z"
   },
   {
    "duration": 3,
    "start_time": "2024-10-03T16:39:10.047Z"
   },
   {
    "duration": 7,
    "start_time": "2024-10-03T16:39:10.736Z"
   },
   {
    "duration": 2,
    "start_time": "2024-10-03T16:39:23.848Z"
   },
   {
    "duration": 9,
    "start_time": "2024-10-03T16:39:25.783Z"
   },
   {
    "duration": 12,
    "start_time": "2024-10-03T16:41:08.167Z"
   },
   {
    "duration": 5,
    "start_time": "2024-10-03T16:44:17.971Z"
   },
   {
    "duration": 3,
    "start_time": "2024-10-03T16:44:25.316Z"
   },
   {
    "duration": 4,
    "start_time": "2024-10-03T16:44:35.131Z"
   },
   {
    "duration": 4,
    "start_time": "2024-10-03T16:44:49.539Z"
   },
   {
    "duration": 3,
    "start_time": "2024-10-03T16:45:11.195Z"
   },
   {
    "duration": 9,
    "start_time": "2024-10-03T16:46:29.198Z"
   },
   {
    "duration": 3,
    "start_time": "2024-10-03T16:46:30.145Z"
   },
   {
    "duration": 9,
    "start_time": "2024-10-03T16:46:30.785Z"
   },
   {
    "duration": 10,
    "start_time": "2024-10-03T17:18:40.440Z"
   },
   {
    "duration": 9,
    "start_time": "2024-10-03T17:19:05.282Z"
   },
   {
    "duration": 60,
    "start_time": "2024-10-03T17:22:17.009Z"
   },
   {
    "duration": 34,
    "start_time": "2024-10-03T17:29:10.897Z"
   },
   {
    "duration": 38,
    "start_time": "2024-10-03T17:31:31.629Z"
   },
   {
    "duration": 38,
    "start_time": "2024-10-03T17:31:54.056Z"
   },
   {
    "duration": 8,
    "start_time": "2024-10-03T17:38:05.526Z"
   },
   {
    "duration": 9,
    "start_time": "2024-10-03T17:38:57.886Z"
   },
   {
    "duration": 83,
    "start_time": "2024-10-03T17:41:57.144Z"
   },
   {
    "duration": 23,
    "start_time": "2024-10-03T17:42:24.960Z"
   },
   {
    "duration": 22,
    "start_time": "2024-10-03T17:43:35.417Z"
   },
   {
    "duration": 28,
    "start_time": "2024-10-03T17:43:46.864Z"
   },
   {
    "duration": 33,
    "start_time": "2024-10-03T17:44:26.678Z"
   },
   {
    "duration": 558,
    "start_time": "2024-10-03T17:44:33.361Z"
   },
   {
    "duration": 8484,
    "start_time": "2024-10-03T17:44:33.921Z"
   },
   {
    "duration": 3,
    "start_time": "2024-10-03T17:44:42.406Z"
   },
   {
    "duration": 29,
    "start_time": "2024-10-03T17:44:42.411Z"
   },
   {
    "duration": 43,
    "start_time": "2024-10-03T17:44:42.443Z"
   },
   {
    "duration": 10,
    "start_time": "2024-10-03T17:44:42.487Z"
   },
   {
    "duration": 28,
    "start_time": "2024-10-03T17:44:42.499Z"
   },
   {
    "duration": 34,
    "start_time": "2024-10-03T17:47:51.751Z"
   },
   {
    "duration": 37,
    "start_time": "2024-10-03T17:48:13.375Z"
   },
   {
    "duration": 11,
    "start_time": "2024-10-03T17:51:39.556Z"
   },
   {
    "duration": 9,
    "start_time": "2024-10-03T17:51:42.269Z"
   },
   {
    "duration": 10,
    "start_time": "2024-10-03T17:53:19.115Z"
   },
   {
    "duration": 90,
    "start_time": "2024-10-03T17:55:28.051Z"
   },
   {
    "duration": 16,
    "start_time": "2024-10-03T17:57:12.041Z"
   },
   {
    "duration": 15,
    "start_time": "2024-10-03T18:06:30.604Z"
   },
   {
    "duration": 30,
    "start_time": "2024-10-03T18:11:58.855Z"
   },
   {
    "duration": 27,
    "start_time": "2024-10-03T18:12:06.297Z"
   },
   {
    "duration": 26,
    "start_time": "2024-10-03T18:12:27.057Z"
   },
   {
    "duration": 28,
    "start_time": "2024-10-03T18:22:00.096Z"
   },
   {
    "duration": 27,
    "start_time": "2024-10-03T18:23:47.796Z"
   },
   {
    "duration": 529,
    "start_time": "2024-10-03T18:25:41.215Z"
   },
   {
    "duration": 6065,
    "start_time": "2024-10-03T18:25:41.745Z"
   },
   {
    "duration": 3,
    "start_time": "2024-10-03T18:25:47.812Z"
   },
   {
    "duration": 19,
    "start_time": "2024-10-03T18:25:47.816Z"
   },
   {
    "duration": 36,
    "start_time": "2024-10-03T18:25:47.837Z"
   },
   {
    "duration": 10,
    "start_time": "2024-10-03T18:25:47.875Z"
   },
   {
    "duration": 27,
    "start_time": "2024-10-03T18:25:47.887Z"
   },
   {
    "duration": 26,
    "start_time": "2024-10-03T18:25:47.916Z"
   },
   {
    "duration": 20,
    "start_time": "2024-10-03T18:25:47.944Z"
   },
   {
    "duration": 24,
    "start_time": "2024-10-03T18:25:47.966Z"
   },
   {
    "duration": 16,
    "start_time": "2024-10-03T18:25:47.992Z"
   },
   {
    "duration": 12,
    "start_time": "2024-10-03T18:25:48.009Z"
   },
   {
    "duration": 59,
    "start_time": "2024-10-03T18:29:13.601Z"
   },
   {
    "duration": 64,
    "start_time": "2024-10-03T18:29:48.590Z"
   },
   {
    "duration": 66,
    "start_time": "2024-10-03T18:29:58.822Z"
   },
   {
    "duration": 110,
    "start_time": "2024-10-03T18:30:12.959Z"
   },
   {
    "duration": 63,
    "start_time": "2024-10-03T18:30:27.807Z"
   },
   {
    "duration": 15,
    "start_time": "2024-10-03T18:33:49.893Z"
   },
   {
    "duration": 13,
    "start_time": "2024-10-03T18:34:07.220Z"
   },
   {
    "duration": 27,
    "start_time": "2024-10-03T18:35:38.139Z"
   },
   {
    "duration": 53,
    "start_time": "2024-10-04T06:37:08.841Z"
   },
   {
    "duration": 585,
    "start_time": "2024-10-04T06:37:30.465Z"
   },
   {
    "duration": 7857,
    "start_time": "2024-10-04T06:37:31.054Z"
   },
   {
    "duration": 3,
    "start_time": "2024-10-04T06:37:38.912Z"
   },
   {
    "duration": 66,
    "start_time": "2024-10-04T06:37:38.917Z"
   },
   {
    "duration": 280,
    "start_time": "2024-10-04T06:37:38.985Z"
   },
   {
    "duration": 28,
    "start_time": "2024-10-04T06:37:39.267Z"
   },
   {
    "duration": 69,
    "start_time": "2024-10-04T06:37:39.296Z"
   },
   {
    "duration": 57,
    "start_time": "2024-10-04T06:37:39.367Z"
   },
   {
    "duration": 42,
    "start_time": "2024-10-04T06:37:39.426Z"
   },
   {
    "duration": 31,
    "start_time": "2024-10-04T06:37:39.470Z"
   },
   {
    "duration": 36,
    "start_time": "2024-10-04T06:37:39.503Z"
   },
   {
    "duration": 33,
    "start_time": "2024-10-04T06:37:39.540Z"
   },
   {
    "duration": 3,
    "start_time": "2024-10-04T06:40:45.689Z"
   },
   {
    "duration": 67,
    "start_time": "2024-10-04T06:45:41.936Z"
   },
   {
    "duration": 61,
    "start_time": "2024-10-04T06:47:57.903Z"
   },
   {
    "duration": 36,
    "start_time": "2024-10-04T06:59:10.996Z"
   },
   {
    "duration": 31,
    "start_time": "2024-10-04T07:02:34.371Z"
   },
   {
    "duration": 29,
    "start_time": "2024-10-04T07:03:56.781Z"
   },
   {
    "duration": 31,
    "start_time": "2024-10-04T07:05:06.872Z"
   },
   {
    "duration": 31,
    "start_time": "2024-10-04T07:05:16.288Z"
   },
   {
    "duration": 31,
    "start_time": "2024-10-04T07:05:33.200Z"
   },
   {
    "duration": 138,
    "start_time": "2024-10-04T07:05:37.168Z"
   },
   {
    "duration": 40,
    "start_time": "2024-10-04T07:05:39.800Z"
   },
   {
    "duration": 53,
    "start_time": "2024-10-04T07:05:44.298Z"
   },
   {
    "duration": 63,
    "start_time": "2024-10-04T07:05:48.308Z"
   },
   {
    "duration": 41,
    "start_time": "2024-10-04T07:05:55.631Z"
   },
   {
    "duration": 30,
    "start_time": "2024-10-04T07:06:06.921Z"
   },
   {
    "duration": 28,
    "start_time": "2024-10-04T07:06:19.655Z"
   },
   {
    "duration": 273,
    "start_time": "2024-10-04T07:11:46.684Z"
   },
   {
    "duration": 31,
    "start_time": "2024-10-04T07:12:02.435Z"
   },
   {
    "duration": 31,
    "start_time": "2024-10-04T07:12:15.378Z"
   },
   {
    "duration": 30,
    "start_time": "2024-10-04T07:13:18.491Z"
   },
   {
    "duration": 7,
    "start_time": "2024-10-04T07:20:50.235Z"
   },
   {
    "duration": 43,
    "start_time": "2024-10-04T07:20:59.893Z"
   },
   {
    "duration": 32,
    "start_time": "2024-10-04T07:21:23.890Z"
   },
   {
    "duration": 35,
    "start_time": "2024-10-04T08:18:51.680Z"
   },
   {
    "duration": 37,
    "start_time": "2024-10-04T08:19:09.079Z"
   },
   {
    "duration": 33,
    "start_time": "2024-10-04T08:19:50.317Z"
   },
   {
    "duration": 35,
    "start_time": "2024-10-04T08:23:46.923Z"
   },
   {
    "duration": 34,
    "start_time": "2024-10-04T08:23:55.443Z"
   },
   {
    "duration": 35,
    "start_time": "2024-10-04T08:24:42.556Z"
   },
   {
    "duration": 35,
    "start_time": "2024-10-04T08:27:50.992Z"
   },
   {
    "duration": 55,
    "start_time": "2024-10-04T08:28:11.519Z"
   },
   {
    "duration": 73,
    "start_time": "2024-10-04T08:28:20.530Z"
   },
   {
    "duration": 63,
    "start_time": "2024-10-04T08:28:30.057Z"
   },
   {
    "duration": 62,
    "start_time": "2024-10-04T08:28:34.208Z"
   },
   {
    "duration": 48,
    "start_time": "2024-10-04T08:28:52.144Z"
   },
   {
    "duration": 4,
    "start_time": "2024-10-04T08:30:14.531Z"
   },
   {
    "duration": 33,
    "start_time": "2024-10-04T08:30:23.607Z"
   },
   {
    "duration": 605,
    "start_time": "2024-10-04T09:10:02.230Z"
   },
   {
    "duration": 3,
    "start_time": "2024-10-04T09:10:02.837Z"
   },
   {
    "duration": 8623,
    "start_time": "2024-10-04T09:10:02.842Z"
   },
   {
    "duration": 3,
    "start_time": "2024-10-04T09:10:11.467Z"
   },
   {
    "duration": 302,
    "start_time": "2024-10-04T09:10:11.472Z"
   },
   {
    "duration": 32,
    "start_time": "2024-10-04T09:10:11.776Z"
   },
   {
    "duration": 44,
    "start_time": "2024-10-04T09:10:11.810Z"
   },
   {
    "duration": 30,
    "start_time": "2024-10-04T09:10:11.855Z"
   },
   {
    "duration": 69,
    "start_time": "2024-10-04T09:10:11.886Z"
   },
   {
    "duration": 31,
    "start_time": "2024-10-04T09:10:11.958Z"
   },
   {
    "duration": 35,
    "start_time": "2024-10-04T09:10:11.991Z"
   },
   {
    "duration": 32,
    "start_time": "2024-10-04T09:10:12.028Z"
   },
   {
    "duration": 736,
    "start_time": "2024-10-05T03:10:18.442Z"
   },
   {
    "duration": 3,
    "start_time": "2024-10-05T03:10:19.180Z"
   },
   {
    "duration": 7317,
    "start_time": "2024-10-05T03:10:19.184Z"
   },
   {
    "duration": 4,
    "start_time": "2024-10-05T03:10:26.502Z"
   },
   {
    "duration": 194,
    "start_time": "2024-10-05T03:10:26.508Z"
   },
   {
    "duration": 19,
    "start_time": "2024-10-05T03:10:26.703Z"
   },
   {
    "duration": 18,
    "start_time": "2024-10-05T03:10:26.724Z"
   },
   {
    "duration": 17,
    "start_time": "2024-10-05T03:10:26.743Z"
   },
   {
    "duration": 54,
    "start_time": "2024-10-05T03:10:26.761Z"
   },
   {
    "duration": 18,
    "start_time": "2024-10-05T03:10:26.817Z"
   },
   {
    "duration": 98,
    "start_time": "2024-10-05T03:10:26.836Z"
   },
   {
    "duration": 19,
    "start_time": "2024-10-05T03:10:26.936Z"
   },
   {
    "duration": 50,
    "start_time": "2024-10-05T06:18:55.609Z"
   },
   {
    "duration": 480,
    "start_time": "2024-10-05T06:19:00.809Z"
   },
   {
    "duration": 2,
    "start_time": "2024-10-05T06:19:01.291Z"
   },
   {
    "duration": 8344,
    "start_time": "2024-10-05T06:19:01.295Z"
   },
   {
    "duration": 3,
    "start_time": "2024-10-05T06:19:09.641Z"
   },
   {
    "duration": 317,
    "start_time": "2024-10-05T06:19:09.647Z"
   },
   {
    "duration": 32,
    "start_time": "2024-10-05T06:19:09.966Z"
   },
   {
    "duration": 30,
    "start_time": "2024-10-05T06:19:10.000Z"
   },
   {
    "duration": 29,
    "start_time": "2024-10-05T06:19:10.031Z"
   },
   {
    "duration": 97,
    "start_time": "2024-10-05T06:19:10.062Z"
   },
   {
    "duration": 30,
    "start_time": "2024-10-05T06:19:10.161Z"
   },
   {
    "duration": 34,
    "start_time": "2024-10-05T06:19:10.193Z"
   },
   {
    "duration": 32,
    "start_time": "2024-10-05T06:19:10.228Z"
   },
   {
    "duration": 37,
    "start_time": "2024-10-05T06:19:27.822Z"
   },
   {
    "duration": 35,
    "start_time": "2024-10-05T06:21:21.442Z"
   },
   {
    "duration": 114,
    "start_time": "2024-10-05T06:25:14.797Z"
   },
   {
    "duration": 63,
    "start_time": "2024-10-05T06:25:36.024Z"
   },
   {
    "duration": 47,
    "start_time": "2024-10-05T06:27:45.451Z"
   },
   {
    "duration": 37,
    "start_time": "2024-10-05T06:30:46.171Z"
   },
   {
    "duration": 54,
    "start_time": "2024-10-05T06:31:06.733Z"
   },
   {
    "duration": 49,
    "start_time": "2024-10-05T06:31:25.838Z"
   },
   {
    "duration": 34,
    "start_time": "2024-10-05T06:32:45.196Z"
   },
   {
    "duration": 53,
    "start_time": "2024-10-05T06:33:00.635Z"
   },
   {
    "duration": 47,
    "start_time": "2024-10-05T06:33:02.964Z"
   },
   {
    "duration": 36,
    "start_time": "2024-10-05T06:33:21.547Z"
   },
   {
    "duration": 35,
    "start_time": "2024-10-05T06:33:42.693Z"
   },
   {
    "duration": 36,
    "start_time": "2024-10-05T06:36:09.063Z"
   },
   {
    "duration": 67,
    "start_time": "2024-10-05T06:40:19.426Z"
   },
   {
    "duration": 63,
    "start_time": "2024-10-05T06:40:32.827Z"
   },
   {
    "duration": 47,
    "start_time": "2024-10-05T06:41:09.156Z"
   },
   {
    "duration": 38,
    "start_time": "2024-10-05T06:41:15.406Z"
   },
   {
    "duration": 35,
    "start_time": "2024-10-05T06:42:23.839Z"
   },
   {
    "duration": 37,
    "start_time": "2024-10-05T06:42:28.398Z"
   },
   {
    "duration": 36,
    "start_time": "2024-10-05T06:42:49.495Z"
   },
   {
    "duration": 38,
    "start_time": "2024-10-05T06:43:17.715Z"
   },
   {
    "duration": 53,
    "start_time": "2024-10-05T06:43:54.184Z"
   },
   {
    "duration": 49,
    "start_time": "2024-10-05T06:44:04.336Z"
   },
   {
    "duration": 36,
    "start_time": "2024-10-05T06:44:33.118Z"
   },
   {
    "duration": 37,
    "start_time": "2024-10-05T06:44:36.116Z"
   },
   {
    "duration": 39,
    "start_time": "2024-10-05T07:15:48.948Z"
   },
   {
    "duration": 37,
    "start_time": "2024-10-05T07:16:12.020Z"
   },
   {
    "duration": 106,
    "start_time": "2024-10-05T07:23:20.260Z"
   },
   {
    "duration": 115,
    "start_time": "2024-10-05T07:26:09.020Z"
   },
   {
    "duration": 55,
    "start_time": "2024-10-05T07:30:04.689Z"
   },
   {
    "duration": 63,
    "start_time": "2024-10-05T07:30:26.701Z"
   },
   {
    "duration": 56,
    "start_time": "2024-10-05T07:30:43.230Z"
   },
   {
    "duration": 52,
    "start_time": "2024-10-05T07:42:06.167Z"
   },
   {
    "duration": 64,
    "start_time": "2024-10-05T07:42:23.756Z"
   },
   {
    "duration": 70,
    "start_time": "2024-10-05T07:42:40.606Z"
   },
   {
    "duration": 63,
    "start_time": "2024-10-05T07:43:21.395Z"
   },
   {
    "duration": 66,
    "start_time": "2024-10-05T07:43:32.256Z"
   },
   {
    "duration": 63,
    "start_time": "2024-10-05T07:43:46.016Z"
   },
   {
    "duration": 44,
    "start_time": "2024-10-05T07:43:56.676Z"
   },
   {
    "duration": 51,
    "start_time": "2024-10-05T07:44:30.518Z"
   },
   {
    "duration": 63,
    "start_time": "2024-10-05T07:45:06.911Z"
   },
   {
    "duration": 46,
    "start_time": "2024-10-05T07:45:18.245Z"
   },
   {
    "duration": 36,
    "start_time": "2024-10-05T07:45:45.885Z"
   },
   {
    "duration": 47,
    "start_time": "2024-10-07T08:21:28.365Z"
   }
  ],
  "kernelspec": {
   "display_name": "Python 3 (ipykernel)",
   "language": "python",
   "name": "python3"
  },
  "language_info": {
   "codemirror_mode": {
    "name": "ipython",
    "version": 3
   },
   "file_extension": ".py",
   "mimetype": "text/x-python",
   "name": "python",
   "nbconvert_exporter": "python",
   "pygments_lexer": "ipython3",
   "version": "3.9.20"
  },
  "toc": {
   "base_numbering": 1,
   "nav_menu": {},
   "number_sections": true,
   "sideBar": true,
   "skip_h1_title": true,
   "title_cell": "Table of Contents",
   "title_sidebar": "Contents",
   "toc_cell": false,
   "toc_position": {
    "height": "calc(100% - 180px)",
    "left": "10px",
    "top": "150px",
    "width": "307.2px"
   },
   "toc_section_display": true,
   "toc_window_display": true
  }
 },
 "nbformat": 4,
 "nbformat_minor": 2
}
